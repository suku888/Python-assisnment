{
  "nbformat": 4,
  "nbformat_minor": 0,
  "metadata": {
    "colab": {
      "provenance": []
    },
    "kernelspec": {
      "name": "python3",
      "display_name": "Python 3"
    },
    "language_info": {
      "name": "python"
    }
  },
  "cells": [
    {
      "cell_type": "markdown",
      "source": [
        "THEORY QUESTIONS"
      ],
      "metadata": {
        "id": "tU01w96QayPk"
      }
    },
    {
      "cell_type": "markdown",
      "source": [
        "1. What is statistics, and why is it important?\n",
        "\n",
        "Statistics is the science of collecting, analyzing, interpreting, and presenting data.\n",
        "It helps in making informed decisions using data, especially in research, business, and science.\n",
        "\n"
      ],
      "metadata": {
        "id": "Uw0NI1avayVY"
      }
    },
    {
      "cell_type": "markdown",
      "source": [
        "2. What are the two main types of statistics?\n",
        "\n",
        "Descriptive Statistics: Summarizes and describes data.\n",
        "\n",
        "Inferential Statistics: Draws conclusions or predictions from data.\n",
        "\n"
      ],
      "metadata": {
        "id": "hzOgm8H8ayYU"
      }
    },
    {
      "cell_type": "markdown",
      "source": [
        "3. What are descriptive statistics?\n",
        "\n",
        "They summarize and describe the main features of a dataset using:\n",
        "\n",
        "Measures of central tendency (mean, median, mode)\n",
        "\n",
        "Measures of dispersion (range, variance, standard deviation)\n"
      ],
      "metadata": {
        "id": "LpsQxm2waybH"
      }
    },
    {
      "cell_type": "markdown",
      "source": [
        "4. What is inferential statistics?\n",
        "\n",
        "It involves making predictions or generalizations about a population based on a sample (e.g., hypothesis testing, confidence intervals).\n",
        "\n"
      ],
      "metadata": {
        "id": "yE6pjwu6aydh"
      }
    },
    {
      "cell_type": "markdown",
      "source": [
        "5. What is sampling in statistics?\n",
        "\n",
        "Sampling is the process of selecting a subset (sample) from a larger group (population) for analysis.\n"
      ],
      "metadata": {
        "id": "D12K4k5paygQ"
      }
    },
    {
      "cell_type": "markdown",
      "source": [
        "6. What are the different types of sampling methods?\n",
        "\n",
        "Random sampling\n",
        "\n",
        "Stratified sampling\n",
        "\n",
        "Systematic sampling\n",
        "\n",
        "Cluster sampling\n",
        "\n",
        "Convenience sampling\n",
        "\n"
      ],
      "metadata": {
        "id": "Feu5V8eyayiv"
      }
    },
    {
      "cell_type": "markdown",
      "source": [
        "7. What is the difference between random and non-random sampling?\n",
        "\n",
        "Random sampling: Every member has an equal chance of selection.\n",
        "\n",
        "Non-random sampling: Selection is based on factors like convenience or judgment.\n",
        "\n"
      ],
      "metadata": {
        "id": "5ReitVf0aylV"
      }
    },
    {
      "cell_type": "markdown",
      "source": [
        "8. Define and give examples of qualitative and quantitative data.\n",
        "\n",
        "Qualitative: Non-numerical (e.g., gender, color)\n",
        "\n",
        "Quantitative: Numerical (e.g., age, salary)\n",
        "\n"
      ],
      "metadata": {
        "id": "JjMI5PlBayn6"
      }
    },
    {
      "cell_type": "markdown",
      "source": [
        "9. What are the different types of data in statistics?\n",
        "\n",
        "Qualitative (Nominal, Ordinal)\n",
        "\n",
        "Quantitative (Discrete, Continuous)\n",
        "\n"
      ],
      "metadata": {
        "id": "lrdz_GnnayrS"
      }
    },
    {
      "cell_type": "markdown",
      "source": [
        "10. Explain nominal, ordinal, interval, and ratio levels of measurement.\n",
        "\n",
        "Nominal: Categories only (e.g., gender)\n",
        "\n",
        "Ordinal: Ordered categories (e.g., ranks)\n",
        "\n",
        "Interval: Numeric with no true zero (e.g., temperature in Celsius)\n",
        "\n",
        "Ratio: Numeric with a true zero (e.g., height, weight)\n",
        "\n"
      ],
      "metadata": {
        "id": "Ww8Jf0AVayux"
      }
    },
    {
      "cell_type": "markdown",
      "source": [
        "11. What is the measure of central tendency?\n",
        "\n",
        "It indicates the center of a dataset. The main measures are:\n",
        "\n",
        "Mean\n",
        "\n",
        "Median\n",
        "\n",
        "Mode\n",
        "\n"
      ],
      "metadata": {
        "id": "ivsTdU8QcS2-"
      }
    },
    {
      "cell_type": "markdown",
      "source": [
        "12. Define mean, median, and mode.\n",
        "\n",
        "Mean: Average\n",
        "\n",
        "Median: Middle value\n",
        "\n",
        "Mode: Most frequent value\n",
        "\n"
      ],
      "metadata": {
        "id": "X8UfoSZHcS6m"
      }
    },
    {
      "cell_type": "markdown",
      "source": [
        "13. What is the significance of the measure of central tendency?\n",
        "\n",
        "It helps to summarize a dataset with a single representative value and understand data distribution.\n",
        "\n"
      ],
      "metadata": {
        "id": "4YszswfYcTII"
      }
    },
    {
      "cell_type": "markdown",
      "source": [
        "14. What is variance, and how is it calculated?\n",
        "\n",
        "Variance measures how far values are from the mean.\n",
        "Formula:\n",
        "\n",
        "𝜎\n",
        "2\n",
        "=\n",
        "1\n",
        "𝑛\n",
        "∑\n",
        "(\n",
        "𝑥\n",
        "𝑖\n",
        "−\n",
        "𝜇\n",
        ")\n",
        "2\n",
        "σ\n",
        "2\n",
        " =\n",
        "n\n",
        "1\n",
        "​\n",
        " ∑(x\n",
        "i\n",
        "​\n",
        " −μ)\n",
        "2"
      ],
      "metadata": {
        "id": "xhiZWvqWcTU_"
      }
    },
    {
      "cell_type": "markdown",
      "source": [
        "15. What is standard deviation, and why is it important?\n",
        "\n",
        "It is the square root of variance.\n",
        "It shows the average distance of values from the mean, helping to understand data spread.\n",
        "\n"
      ],
      "metadata": {
        "id": "69-PzFJCnKjJ"
      }
    },
    {
      "cell_type": "markdown",
      "source": [
        "16. Define and explain the term range in statistics.\n",
        "\n",
        "Range = Maximum - Minimum\n",
        "It shows the spread between the smallest and largest values.\n",
        "\n"
      ],
      "metadata": {
        "id": "JRvoKiYfnNnc"
      }
    },
    {
      "cell_type": "markdown",
      "source": [
        "17. What is the difference between variance and standard deviation?\n",
        "\n",
        "Variance: Average squared deviation\n",
        "\n",
        "Standard Deviation: Square root of variance (in original units)"
      ],
      "metadata": {
        "id": "_Db4QmZ_nNp-"
      }
    },
    {
      "cell_type": "markdown",
      "source": [
        "18. What is skewness in a dataset?\n",
        "\n",
        "Skewness indicates asymmetry in the data distribution:\n",
        "\n",
        "Positive skew: Tail on right\n",
        "\n",
        "Negative skew: Tail on left\n",
        "\n"
      ],
      "metadata": {
        "id": "MRnNms_ynNth"
      }
    },
    {
      "cell_type": "markdown",
      "source": [
        "19. What does it mean if a dataset is positively or negatively skewed?\n",
        "\n",
        "Positively skewed: Mean > Median (tail to the right)\n",
        "\n",
        "Negatively skewed: Mean < Median (tail to the left)"
      ],
      "metadata": {
        "id": "rsruzPgZoSBV"
      }
    },
    {
      "cell_type": "markdown",
      "source": [
        "20. Define and explain kurtosis.\n",
        "\n",
        "Kurtosis measures the \"tailedness\" of a distribution:\n",
        "\n",
        "High kurtosis: More outliers (heavy tails)\n",
        "\n",
        "Low kurtosis: Fewer outliers (light tails)\n",
        "\n"
      ],
      "metadata": {
        "id": "H48H5D7UoSD8"
      }
    },
    {
      "cell_type": "markdown",
      "source": [
        "21. What is the purpose of covariance?\n",
        "\n",
        "Covariance shows how two variables change together:\n",
        "\n",
        "Positive: Both increase together\n",
        "\n",
        "Negative: One increases while the other decreases"
      ],
      "metadata": {
        "id": "kcmh2SuJoSGL"
      }
    },
    {
      "cell_type": "markdown",
      "source": [
        "22. What does correlation measure in statistics?\n",
        "\n",
        "Correlation measures both the strength and direction of the relationship between two variables.\n",
        "\n",
        "It is standardized and ranges from -1 to +1:\n",
        "\n",
        "+1: Perfect positive relationship\n",
        "\n",
        "-1: Perfect negative relationship\n",
        "\n",
        "0: No relationship\n",
        "\n"
      ],
      "metadata": {
        "id": "yYPM_DLwoSJl"
      }
    },
    {
      "cell_type": "markdown",
      "source": [
        "23. What is the difference between covariance and correlation?\n",
        "\n",
        "Aspect\tCovariance\tCorrelation\n",
        "Scale \tNot standardized (depends on units)\tStandardized (range from -1 to +1)\n",
        "Meaning\tDirection of the relationship\tDirection and strength of the relationship\n",
        "Interpretation\tHard to interpret directly\tEasy to interpret\n",
        "\n",
        "\n"
      ],
      "metadata": {
        "id": "LZCUBz2rsY2Y"
      }
    },
    {
      "cell_type": "markdown",
      "source": [
        "24. What are some real-world applications of statistics?\n",
        "\n",
        "Healthcare: Drug testing, disease prediction.\n",
        "\n",
        "Business: Market research, sales forecasting.\n",
        "\n",
        "Education: Exam analysis, student performance.\n",
        "\n",
        "Government: Census data analysis, policy making.\n",
        "\n",
        "Sports: Performance tracking, game statistics.\n",
        "\n",
        "Finance: Risk assessment, investment analysis.\n",
        "\n"
      ],
      "metadata": {
        "id": "r5FJtYWmsY6U"
      }
    },
    {
      "cell_type": "markdown",
      "source": [
        "PRACTICAL QUESTIONS"
      ],
      "metadata": {
        "id": "R244ZH82tylW"
      }
    },
    {
      "cell_type": "code",
      "source": [
        "1. How do you calculate the mean, median, and mode of a dataset?\n",
        "python\n",
        "Copy\n",
        "Edit\n",
        "\n",
        "\n",
        "import statistics\n",
        "\n",
        "data = [10, 20, 30, 40, 50]\n",
        "mean = statistics.mean(data)\n",
        "median = statistics.median(data)\n",
        "mode = statistics.mode(data)\n",
        "\n",
        "print(\"Mean:\", mean)\n",
        "print(\"Median:\", median)\n",
        "print(\"Mode:\", mode)\n"
      ],
      "metadata": {
        "id": "QfN0Iklet_0k",
        "colab": {
          "base_uri": "https://localhost:8080/",
          "height": 237
        },
        "outputId": "a74091d9-59db-4e12-f457-abf3aa87edb3"
      },
      "execution_count": 1,
      "outputs": [
        {
          "output_type": "stream",
          "name": "stdout",
          "text": [
            "Object `dataset` not found.\n"
          ]
        },
        {
          "output_type": "error",
          "ename": "NameError",
          "evalue": "name 'python' is not defined",
          "traceback": [
            "\u001b[0;31m---------------------------------------------------------------------------\u001b[0m",
            "\u001b[0;31mNameError\u001b[0m                                 Traceback (most recent call last)",
            "\u001b[0;32m/tmp/ipython-input-1-1024609997.py\u001b[0m in \u001b[0;36m<cell line: 0>\u001b[0;34m()\u001b[0m\n\u001b[1;32m      1\u001b[0m \u001b[0mget_ipython\u001b[0m\u001b[0;34m(\u001b[0m\u001b[0;34m)\u001b[0m\u001b[0;34m.\u001b[0m\u001b[0mrun_line_magic\u001b[0m\u001b[0;34m(\u001b[0m\u001b[0;34m'pinfo'\u001b[0m\u001b[0;34m,\u001b[0m \u001b[0;34m'dataset'\u001b[0m\u001b[0;34m)\u001b[0m\u001b[0;34m\u001b[0m\u001b[0;34m\u001b[0m\u001b[0m\n\u001b[0;32m----> 2\u001b[0;31m \u001b[0mpython\u001b[0m\u001b[0;34m\u001b[0m\u001b[0;34m\u001b[0m\u001b[0m\n\u001b[0m\u001b[1;32m      3\u001b[0m \u001b[0mCopy\u001b[0m\u001b[0;34m\u001b[0m\u001b[0;34m\u001b[0m\u001b[0m\n\u001b[1;32m      4\u001b[0m \u001b[0mEdit\u001b[0m\u001b[0;34m\u001b[0m\u001b[0;34m\u001b[0m\u001b[0m\n\u001b[1;32m      5\u001b[0m \u001b[0;34m\u001b[0m\u001b[0m\n",
            "\u001b[0;31mNameError\u001b[0m: name 'python' is not defined"
          ]
        }
      ]
    },
    {
      "cell_type": "code",
      "source": [
        "2. Write a Python program to compute the variance and standard deviation of a dataset.\n",
        "python\n",
        "Copy\n",
        "Edit\n",
        "\n",
        "import statistics\n",
        "\n",
        "data = [10, 20, 30, 40, 50]\n",
        "variance = statistics.variance(data)\n",
        "std_dev = statistics.stdev(data)\n",
        "\n",
        "print(\"Variance:\", variance)\n",
        "print(\"Standard Deviation:\", std_dev)\n",
        "\n"
      ],
      "metadata": {
        "id": "zpyI5wG5t_3w"
      },
      "execution_count": null,
      "outputs": []
    },
    {
      "cell_type": "code",
      "source": [
        "3. Create a dataset and classify it into nominal, ordinal, interval, and ratio types.\n",
        "\n",
        "Nominal: ['Red', 'Blue', 'Green']\n",
        "\n",
        "Ordinal: ['Low', 'Medium', 'High']\n",
        "\n",
        "Interval: [0°C, 10°C, 20°C] (no true zero)\n",
        "\n",
        "Ratio: [5kg, 10kg, 15kg] (has true zero)\n"
      ],
      "metadata": {
        "id": "XPAo8--nt_7U"
      },
      "execution_count": null,
      "outputs": []
    },
    {
      "cell_type": "code",
      "source": [
        "4. Implement sampling techniques like random sampling and stratified sampling.\n",
        "python\n",
        "Copy\n",
        "Edit\n",
        "\n",
        "import pandas as pd\n",
        "from sklearn.model_selection import train_test_split\n",
        "\n",
        "# Random Sampling\n",
        "data = pd.DataFrame({'value': range(1, 101)})\n",
        "sample = data.sample(n=10)\n",
        "\n",
        "# Stratified Sampling\n",
        "from sklearn.model_selection import StratifiedShuffleSplit\n",
        "data['group'] = ['A']*50 + ['B']*50\n",
        "split = StratifiedShuffleSplit(n_splits=1, test_size=0.2, random_state=42)\n",
        "for train_idx, test_idx in split.split(data, data['group']):\n",
        "    strat_sample = data.loc[test_idx]\n",
        "\n",
        "print(\"Random Sample:\\n\", sample)\n",
        "print(\"Stratified Sample:\\n\", strat_sample)\n"
      ],
      "metadata": {
        "id": "jPyLpDWrory4"
      },
      "execution_count": null,
      "outputs": []
    },
    {
      "cell_type": "code",
      "source": [
        "5. Write a Python function to calculate the range of a dataset.\n",
        "\n",
        "def data_range(data):\n",
        "    return max(data) - min(data)\n",
        "\n",
        "print(\"Range:\", data_range([10, 20, 30, 40]))\n"
      ],
      "metadata": {
        "id": "TSi8j6AKor1Q"
      },
      "execution_count": null,
      "outputs": []
    },
    {
      "cell_type": "code",
      "source": [
        "6. Create a dataset and plot its histogram to visualize skewness.\n",
        "\n",
        "import matplotlib.pyplot as plt\n",
        "import numpy as np\n",
        "\n",
        "data = np.random.exponential(scale=2, size=1000)\n",
        "plt.hist(data, bins=30)\n",
        "plt.title(\"Histogram to Visualize Skewness\")\n",
        "plt.show()\n"
      ],
      "metadata": {
        "id": "0iatzI-Cor4C"
      },
      "execution_count": null,
      "outputs": []
    },
    {
      "cell_type": "code",
      "source": [
        "7. Calculate skewness and kurtosis of a dataset using Python libraries.\n",
        "python\n",
        "Copy\n",
        "Edit\n",
        "\n",
        "import scipy.stats as stats\n",
        "\n",
        "data = [10, 20, 30, 40, 50]\n",
        "skewness = stats.skew(data)\n",
        "kurtosis = stats.kurtosis(data)\n",
        "\n",
        "print(\"Skewness:\", skewness)"
      ],
      "metadata": {
        "colab": {
          "base_uri": "https://localhost:8080/",
          "height": 110
        },
        "id": "6_kqz0Ruor6J",
        "outputId": "d21bea64-4193-4fd2-fc09-d5e29648886b"
      },
      "execution_count": 2,
      "outputs": [
        {
          "output_type": "error",
          "ename": "SyntaxError",
          "evalue": "invalid syntax (ipython-input-2-3389628817.py, line 1)",
          "traceback": [
            "\u001b[0;36m  File \u001b[0;32m\"/tmp/ipython-input-2-3389628817.py\"\u001b[0;36m, line \u001b[0;32m1\u001b[0m\n\u001b[0;31m    7. Calculate skewness and kurtosis of a dataset using Python libraries.\u001b[0m\n\u001b[0m       ^\u001b[0m\n\u001b[0;31mSyntaxError\u001b[0m\u001b[0;31m:\u001b[0m invalid syntax\n"
          ]
        }
      ]
    },
    {
      "cell_type": "code",
      "source": [
        "8. Generate a dataset and demonstrate positive and negative skewness.\n",
        "\n",
        "import seaborn as sns\n",
        "\n",
        "# Positive skew\n",
        "pos_skew = np.random.exponential(scale=2, size=1000)\n",
        "sns.histplot(pos_skew, kde=True).set_title(\"Positive Skewness\")\n",
        "plt.show()\n",
        "\n",
        "# Negative skew\n",
        "neg_skew = -1 * np.random.exponential(scale=2, size=1000)\n",
        "sns.histplot(neg_skew, kde=True).set_title(\"Negative Skewness\")\n",
        "plt.show()\n"
      ],
      "metadata": {
        "id": "QlazibMMor90"
      },
      "execution_count": null,
      "outputs": []
    },
    {
      "cell_type": "code",
      "source": [
        "9. Write a Python script to calculate covariance between two datasets.\n",
        "python\n",
        "Copy\n",
        "Edit\n",
        "\n",
        "import numpy as np\n",
        "\n",
        "x = [2, 4, 6, 8]\n",
        "y = [1, 3, 2, 5]\n",
        "cov_matrix = np.cov(x, y)\n",
        "print(\"Covariance:\", cov_matrix[0][1])\n"
      ],
      "metadata": {
        "id": "6UG0J-rppNQZ"
      },
      "execution_count": null,
      "outputs": []
    },
    {
      "cell_type": "code",
      "source": [
        "10. Write a Python script to calculate the correlation coefficient between two datasets.\n",
        "python\n",
        "Copy\n",
        "Edit\n",
        "\n",
        "import numpy as np\n",
        "\n",
        "x = [2, 4, 6, 8]\n",
        "y = [1, 3, 2, 5]\n",
        "correlation = np.corrcoef(x, y)\n",
        "print(\"Correlation Coefficient:\", correlation[0][1])\n"
      ],
      "metadata": {
        "id": "4ehi-brlpNTZ"
      },
      "execution_count": null,
      "outputs": []
    },
    {
      "cell_type": "code",
      "source": [
        "11. Create a scatter plot to visualize the relationship between two variables.\n",
        "\n",
        "import matplotlib.pyplot as plt\n",
        "\n",
        "x = [1, 2, 3, 4, 5]\n",
        "y = [2, 4, 6, 8, 10]\n",
        "\n",
        "plt.scatter(x, y)\n",
        "plt.xlabel(\"X\")\n",
        "plt.ylabel(\"Y\")\n",
        "plt.title(\"Scatter Plot\")\n",
        "plt.show()\n"
      ],
      "metadata": {
        "id": "v-wHXhfEpNWN"
      },
      "execution_count": null,
      "outputs": []
    },
    {
      "cell_type": "code",
      "source": [
        "12. Implement and compare simple random sampling and systematic sampling.\n",
        "\n",
        "import numpy as np\n",
        "\n",
        "# Simple Random Sampling\n",
        "data = np.arange(1, 101)\n",
        "simple_sample = np.random.choice(data, 10, replace=False)\n",
        "\n",
        "# Systematic Sampling\n",
        "k = 10  # interval\n",
        "start = np.random.randint(0, k)\n",
        "systematic_sample = data[start::k][:10]\n",
        "\n",
        "print(\"Simple Random Sample:\", simple_sample)\n",
        "print(\"Systematic Sample:\", systematic_sample)\n"
      ],
      "metadata": {
        "id": "-LraMV3_pNZz"
      },
      "execution_count": null,
      "outputs": []
    },
    {
      "cell_type": "code",
      "source": [
        "13. Calculate the mean, median, and mode of grouped data.\n",
        "\n",
        "import pandas as pd\n",
        "from statistics import mean, median, mode\n",
        "\n",
        "# Grouped data\n",
        "data = {'class': ['0-10', '10-20', '20-30'], 'frequency': [5, 15, 10]}\n",
        "df = pd.DataFrame(data)\n",
        "\n",
        "# Approximate Mean\n",
        "class_midpoints = [5, 15, 25]\n",
        "frequencies = df['frequency'].tolist()\n",
        "mean_grouped = sum([f * x for f, x in zip(frequencies, class_midpoints)]) / sum(frequencies)\n",
        "\n",
        "print(\"Grouped Mean:\", mean_grouped)\n"
      ],
      "metadata": {
        "id": "kbXjtOWXpeul"
      },
      "execution_count": null,
      "outputs": []
    },
    {
      "cell_type": "code",
      "source": [
        "14. Simulate data using Python and calculate its central tendency and dispersion.\n",
        "\n",
        "import numpy as np\n",
        "\n",
        "data = np.random.normal(loc=50, scale=10, size=1000)\n",
        "mean = np.mean(data)\n",
        "median = np.median(data)\n",
        "std_dev = np.std(data)\n",
        "\n",
        "print(\"Mean:\", mean)\n",
        "print(\"Median:\", median)\n",
        "print(\"Standard Deviation:\", std_dev)\n"
      ],
      "metadata": {
        "id": "pC9ujF7xpexf"
      },
      "execution_count": null,
      "outputs": []
    },
    {
      "cell_type": "code",
      "source": [
        "15. Use NumPy or pandas to summarize a dataset’s descriptive statistics.\n",
        "python\n",
        "Copy\n",
        "Edit\n",
        "\n",
        "import pandas as pd\n",
        "\n",
        "data = {'Marks': [70, 85, 60, 90, 75, 95]}\n",
        "df = pd.DataFrame(data)\n",
        "print(df.describe())\n"
      ],
      "metadata": {
        "id": "L40RJYt_pe0S"
      },
      "execution_count": null,
      "outputs": []
    },
    {
      "cell_type": "code",
      "source": [
        "16. Plot a boxplot to understand the spread and identify outliers.\n",
        "python\n",
        "Copy\n",
        "Edit\n",
        "\n",
        "\n",
        "import matplotlib.pyplot as plt\n",
        "import seaborn as sns\n",
        "\n",
        "data = [70, 85, 60, 90, 75, 95, 200]\n",
        "sns.boxplot(data)\n",
        "plt.title(\"Boxplot\")\n",
        "plt.show()\n"
      ],
      "metadata": {
        "id": "mG9Ld0Khpe25"
      },
      "execution_count": null,
      "outputs": []
    },
    {
      "cell_type": "code",
      "source": [
        "17. Calculate the interquartile range (IQR) of a dataset.\n",
        "python\n",
        "Copy\n",
        "Edit\n",
        "\n",
        "\n",
        "import numpy as np\n",
        "\n",
        "data = [70, 85, 60, 90, 75, 95, 200]\n",
        "q1 = np.percentile(data, 25)\n",
        "q3 = np.percentile(data, 75)\n",
        "iqr = q3 - q1\n",
        "\n",
        "print(\"IQR:\", iqr)\n"
      ],
      "metadata": {
        "id": "-Q05M2jQpe5c"
      },
      "execution_count": null,
      "outputs": []
    },
    {
      "cell_type": "code",
      "source": [
        "18. Implement Z-score normalization and explain its significance.\n",
        "\n",
        "from scipy.stats import zscore\n",
        "\n",
        "data = [70, 85, 60, 90, 75, 95]\n",
        "z_scores = zscore(data)\n",
        "print(\"Z-scores:\", z_scores)\n"
      ],
      "metadata": {
        "id": "fFvvnOwkpe83"
      },
      "execution_count": null,
      "outputs": []
    },
    {
      "cell_type": "code",
      "source": [
        "19. Compare two datasets using their standard deviations.\n",
        "python\n",
        "Copy\n",
        "Edit\n",
        "\n",
        "\n",
        "import numpy as np\n",
        "\n",
        "data1 = [10, 20, 30, 40, 50]\n",
        "data2 = [15, 25, 35, 45, 55]\n",
        "\n",
        "std1 = np.std(data1)\n",
        "std2 = np.std(data2)\n",
        "\n",
        "print(\"Standard Deviation of Dataset 1:\", std1)\n",
        "print(\"Standard Deviation of Dataset 2:\", std2)\n"
      ],
      "metadata": {
        "id": "7Xs5MW6tqWsS"
      },
      "execution_count": null,
      "outputs": []
    },
    {
      "cell_type": "code",
      "source": [
        "20. Write a Python program to visualize covariance using a heatmap.\n",
        "python\n",
        "Copy\n",
        "Edit\n",
        "\n",
        "\n",
        "import seaborn as sns\n",
        "import pandas as pd\n",
        "import matplotlib.pyplot as plt\n",
        "\n",
        "data = {'X': [1, 2, 3, 4], 'Y': [4, 3, 2, 1]}\n",
        "df = pd.DataFrame(data)\n",
        "\n",
        "cov_matrix = df.cov()\n",
        "sns.heatmap(cov_matrix, annot=True, cmap='coolwarm')\n",
        "plt.title(\"Covariance Heatmap\")\n",
        "plt.show()\n"
      ],
      "metadata": {
        "id": "KzL4hiztqWvz"
      },
      "execution_count": null,
      "outputs": []
    },
    {
      "cell_type": "code",
      "source": [
        "21. Use seaborn to create a correlation matrix for a dataset.\n",
        "\n",
        "import seaborn as sns\n",
        "import pandas as pd\n",
        "import matplotlib.pyplot as plt\n",
        "\n",
        "data = sns.load_dataset(\"iris\")\n",
        "corr_matrix = data.corr(numeric_only=True)\n",
        "\n",
        "sns.heatmap(corr_matrix, annot=True, cmap='coolwarm')\n",
        "plt.title(\"Correlation Matrix\")\n",
        "plt.show()\n"
      ],
      "metadata": {
        "id": "iZdVVqZgqrUn"
      },
      "execution_count": null,
      "outputs": []
    },
    {
      "cell_type": "code",
      "source": [
        "22. Generate a dataset and implement both variance and standard deviation computations.\n",
        "python\n",
        "Copy\n",
        "Edit\n",
        "\n",
        "\n",
        "import numpy as np\n",
        "\n",
        "data = np.random.randint(10, 100, size=20)\n",
        "variance = np.var(data)\n",
        "std_dev = np.std(data)\n",
        "\n",
        "print(\"Dataset:\", data)\n",
        "print(\"Variance:\", variance)\n",
        "print(\"Standard Deviation:\", std_dev)\n"
      ],
      "metadata": {
        "id": "UM-hl59XqrYG"
      },
      "execution_count": null,
      "outputs": []
    },
    {
      "cell_type": "code",
      "source": [
        "23. Visualize skewness and kurtosis using Python libraries like matplotlib or seaborn.\n",
        "python\n",
        "Copy\n",
        "Edit\n",
        "\n",
        "\n",
        "import seaborn as sns\n",
        "import matplotlib.pyplot as plt\n",
        "import numpy as np\n",
        "from scipy.stats import skew, kurtosis\n",
        "\n",
        "data = np.random.exponential(scale=2, size=1000)\n",
        "\n",
        "sns.histplot(data, kde=True)\n",
        "plt.title(f\"Skewness: {skew(data):.2f}, Kurtosis: {kurtosis(data):.2f}\")\n",
        "plt.show()\n"
      ],
      "metadata": {
        "id": "dCuHn0zAqrbn"
      },
      "execution_count": null,
      "outputs": []
    },
    {
      "cell_type": "code",
      "source": [
        "24. Implement the Pearson and Spearman correlation coefficients for a dataset.\n",
        "\n",
        "from scipy.stats import pearsonr, spearmanr\n",
        "\n",
        "x = [10, 20, 30, 40, 50]\n",
        "y = [5, 25, 35, 45, 60]\n",
        "\n",
        "pearson_corr, _ = pearsonr(x, y)\n",
        "spearman_corr, _ = spearmanr(x, y)\n",
        "\n",
        "print(\"Pearson Correlation:\", pearson_corr)\n",
        "print(\"Spearman Correlation:\", spearman_corr)\n"
      ],
      "metadata": {
        "id": "-vCAc43cqrnU"
      },
      "execution_count": null,
      "outputs": []
    }
  ]
}