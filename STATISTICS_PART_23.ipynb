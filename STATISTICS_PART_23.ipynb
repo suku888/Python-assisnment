{
  "nbformat": 4,
  "nbformat_minor": 0,
  "metadata": {
    "colab": {
      "provenance": []
    },
    "kernelspec": {
      "name": "python3",
      "display_name": "Python 3"
    },
    "language_info": {
      "name": "python"
    }
  },
  "cells": [
    {
      "cell_type": "markdown",
      "source": [
        "THEORY QUESTION\n"
      ],
      "metadata": {
        "id": "IY5snd-_bPO5"
      }
    },
    {
      "cell_type": "markdown",
      "source": [
        "1️⃣ What is hypothesis testing in statistics?\n",
        "\n",
        "Hypothesis testing is a statistical method used to make decisions about a population based on sample data. It involves formulating a null hypothesis and an alternative hypothesis, then using sample data to determine whether to reject the null hypothesis.\n",
        "\n"
      ],
      "metadata": {
        "id": "BRE_qa0Xb30a"
      }
    },
    {
      "cell_type": "markdown",
      "source": [
        "2️⃣ What is the null hypothesis, and how does it differ from the alternative hypothesis?\n",
        "\n",
        "Null hypothesis (H₀): Assumes no effect or no difference; it's the default or status quo.\n",
        "\n",
        "Alternative hypothesis (H₁ or Ha): Represents what you want to prove; indicates a significant effect or difference.\n",
        "\n"
      ],
      "metadata": {
        "id": "D0__hjZcb4Kw"
      }
    },
    {
      "cell_type": "markdown",
      "source": [
        "3️⃣ What is the significance level in hypothesis testing, and why is it important?\n",
        "\n",
        "The significance level (α) is the probability of rejecting the null hypothesis when it is true (Type I error). Common values are 0.05 or 0.01. It defines the threshold for statistical significance.\n",
        "\n"
      ],
      "metadata": {
        "id": "otWdphsOb4jD"
      }
    },
    {
      "cell_type": "markdown",
      "source": [
        "4️⃣ What does a P-value represent in hypothesis testing?\n",
        "\n",
        "The P-value is the probability of obtaining a test statistic as extreme as the one observed, assuming the null hypothesis is true.\n"
      ],
      "metadata": {
        "id": "aSCLzVqob4m8"
      }
    },
    {
      "cell_type": "markdown",
      "source": [
        "5️⃣ How do you interpret the P-value in hypothesis testing?\n",
        "\n",
        "P-value ≤ α: Reject the null hypothesis (evidence for alternative hypothesis).\n",
        "\n",
        "P-value > α: Fail to reject the null hypothesis (insufficient evidence).\n"
      ],
      "metadata": {
        "id": "KFy0dqKDb4qY"
      }
    },
    {
      "cell_type": "markdown",
      "source": [
        "6️⃣ What are Type 1 and Type 2 errors in hypothesis testing?\n",
        "\n",
        "Type 1 error: Rejecting H₀ when H₀ is true (false positive).\n",
        "\n",
        "Type 2 error: Failing to reject H₀ when H₀ is false (false negative).\n",
        "\n"
      ],
      "metadata": {
        "id": "6cA8LWPlettE"
      }
    },
    {
      "cell_type": "markdown",
      "source": [
        "7️⃣ What is the difference between a one-tailed and a two-tailed test in hypothesis testing?\n",
        "\n",
        "One-tailed test: Tests for deviation in one direction.\n",
        "\n",
        "Two-tailed test: Tests for deviation in either direction."
      ],
      "metadata": {
        "id": "NO6WmEMKetvl"
      }
    },
    {
      "cell_type": "markdown",
      "source": [
        "8️⃣ What is the Z-test, and when is it used in hypothesis testing?\n",
        "\n",
        "Z-test is used when:\n",
        "\n",
        "The population variance is known.\n",
        "\n",
        "The sample size is large (n > 30).\n",
        "It tests the mean of a sample against the population mean."
      ],
      "metadata": {
        "id": "ctsB6Hubetyc"
      }
    },
    {
      "cell_type": "markdown",
      "source": [
        "9️⃣ How do you calculate the Z-score, and what does it represent in hypothesis testing?\n",
        "\n",
        "Z = (X̄ - μ) / (σ / √n)\n",
        "It represents how many standard errors the sample mean is from the population mean.\n",
        "\n"
      ],
      "metadata": {
        "id": "FXCCAQRpet1-"
      }
    },
    {
      "cell_type": "markdown",
      "source": [
        "🔟 What is the T-distribution, and when should it be used instead of the normal distribution?\n",
        "\n",
        "T-distribution is used when:\n",
        "\n",
        "The sample size is small (n < 30).\n",
        "\n",
        "Population variance is unknown."
      ],
      "metadata": {
        "id": "_rJP8KURffEh"
      }
    },
    {
      "cell_type": "markdown",
      "source": [
        "1️⃣1️⃣ What is the difference between a Z-test and a T-test?\n",
        "\n",
        "Z-test: Known population variance, large sample.\n",
        "\n",
        "T-test: Unknown population variance, small sample.\n",
        "\n"
      ],
      "metadata": {
        "id": "1Yb03dMDffGz"
      }
    },
    {
      "cell_type": "markdown",
      "source": [
        "1️⃣2️⃣ What is the T-test, and how is it used in hypothesis testing?\n",
        "\n",
        "A T-test compares the sample mean to a population mean or compares two sample means to see if they differ significantly.\n",
        "\n"
      ],
      "metadata": {
        "id": "1Fg24mrbffKU"
      }
    },
    {
      "cell_type": "markdown",
      "source": [
        "1️⃣3️⃣ What is the relationship between Z-test and T-test in hypothesis testing?\n",
        "\n",
        "Both test means, but the T-test adjusts for small samples and unknown variance. Z-test assumes known variance and large samples.\n",
        "\n"
      ],
      "metadata": {
        "id": "Gmhk7EDLf2x4"
      }
    },
    {
      "cell_type": "markdown",
      "source": [
        "1️⃣4️⃣ What is a confidence interval, and how is it used to interpret statistical results?\n",
        "\n",
        "A confidence interval gives a range of values within which the true population parameter is expected to lie, with a certain level of confidence (e.g., 95%).\n",
        "\n"
      ],
      "metadata": {
        "id": "D6EWVAVof20d"
      }
    },
    {
      "cell_type": "markdown",
      "source": [
        "1️⃣5️⃣ What is the margin of error, and how does it affect the confidence interval?\n",
        "\n",
        "Margin of error reflects the range of uncertainty around the estimate. Larger margin → wider confidence interval → less precision.\n",
        "\n"
      ],
      "metadata": {
        "id": "5-09cOAlf23O"
      }
    },
    {
      "cell_type": "markdown",
      "source": [
        "1️⃣6️⃣ How is Bayes' Theorem used in statistics, and what is its significance?\n",
        "\n",
        "Bayes’ Theorem updates the probability of a hypothesis based on new evidence. It's important for incorporating prior knowledge in decision-making.\n"
      ],
      "metadata": {
        "id": "rel-63t_f25i"
      }
    },
    {
      "cell_type": "markdown",
      "source": [
        "1️⃣7️⃣ What is the Chi-square distribution, and when is it used?\n",
        "\n",
        "Chi-square distribution is used for categorical data tests (e.g., goodness of fit, independence) and variance tests.\n"
      ],
      "metadata": {
        "id": "5XW_b7y7gmZl"
      }
    },
    {
      "cell_type": "markdown",
      "source": [
        "1️⃣8️⃣ What is the Chi-square goodness of fit test, and how is it applied?\n",
        "\n",
        "It checks whether observed frequencies match expected frequencies for a categorical variable.\n"
      ],
      "metadata": {
        "id": "TJOOskCJgmcT"
      }
    },
    {
      "cell_type": "markdown",
      "source": [
        "1️⃣9️⃣ What is the F-distribution, and when is it used in hypothesis testing?\n",
        "\n",
        "F-distribution is used to compare variances (e.g., ANOVA, regression model significance).\n"
      ],
      "metadata": {
        "id": "Ka0SgOADgme3"
      }
    },
    {
      "cell_type": "markdown",
      "source": [
        "2️⃣0️⃣ What is an ANOVA test, and what are its assumptions?\n",
        "\n",
        "ANOVA (Analysis of Variance) tests whether means of multiple groups are equal.\n",
        "\n",
        "Assumptions: Independence, normality, equal variances.\n",
        "\n"
      ],
      "metadata": {
        "id": "Qu-yAjJegmhX"
      }
    },
    {
      "cell_type": "markdown",
      "source": [
        "2️⃣1️⃣ What are the different types of ANOVA tests?\n",
        "\n",
        "\n",
        "One-way ANOVA\n",
        "\n",
        "Two-way ANOVA\n",
        "\n",
        "Repeated measures ANOVA"
      ],
      "metadata": {
        "id": "yLWf68iSgmkD"
      }
    },
    {
      "cell_type": "markdown",
      "source": [
        "2️⃣2️⃣ What is the F-test, and how does it relate to hypothesis testing?\n",
        "\n",
        "The F-test compares group variances or means (via ANOVA) to test if they differ significantly.\n"
      ],
      "metadata": {
        "id": "TaCIahtigmnp"
      }
    },
    {
      "cell_type": "markdown",
      "source": [
        "PRACTICAL PART 1"
      ],
      "metadata": {
        "id": "jv6LhAjNiyzw"
      }
    },
    {
      "cell_type": "code",
      "source": [
        "1️⃣ Generate a random variable and display its value\n",
        "\n",
        "import random\n",
        "value = random.random()\n",
        "print(\"Random value:\", value)\n"
      ],
      "metadata": {
        "id": "u8g-xwO2i1Q0"
      },
      "execution_count": null,
      "outputs": []
    },
    {
      "cell_type": "code",
      "source": [
        "2️⃣ Discrete uniform distribution and PMF\n",
        "\n",
        "import matplotlib.pyplot as plt\n",
        "import numpy as np\n",
        "\n",
        "values = np.arange(1, 7)\n",
        "pmf = np.ones_like(values) / len(values)\n",
        "\n",
        "plt.stem(values, pmf, use_line_collection=True)\n",
        "plt.xlabel('Value')\n",
        "plt.ylabel('PMF')\n",
        "plt.title('Discrete Uniform Distribution PMF')\n",
        "plt.show()\n"
      ],
      "metadata": {
        "id": "qw-PsYGhi1UC"
      },
      "execution_count": null,
      "outputs": []
    },
    {
      "cell_type": "code",
      "source": [
        "3️⃣ PDF of a Bernoulli distribution\n",
        "python\n",
        "Copy\n",
        "Edit\n",
        "\n",
        "from scipy.stats import bernoulli\n",
        "import matplotlib.pyplot as plt\n",
        "\n",
        "p = 0.5\n",
        "x = [0, 1]\n",
        "pdf = bernoulli.pmf(x, p)\n",
        "\n",
        "plt.stem(x, pdf, use_line_collection=True)\n",
        "plt.xlabel('x')\n",
        "plt.ylabel('PDF')\n",
        "plt.title('Bernoulli Distribution PDF')\n",
        "plt.show()\n"
      ],
      "metadata": {
        "id": "DVcK5lZ-i1Wn"
      },
      "execution_count": null,
      "outputs": []
    },
    {
      "cell_type": "code",
      "source": [
        "4️⃣ Binomial distribution with n=10, p=0.5\n",
        "\n",
        "from scipy.stats import binom\n",
        "import matplotlib.pyplot as plt\n",
        "\n",
        "n, p = 10, 0.5\n",
        "x = np.arange(0, n+1)\n",
        "pmf = binom.pmf(x, n, p)\n",
        "\n",
        "plt.bar(x, pmf)\n",
        "plt.xlabel('Number of Successes')\n",
        "plt.ylabel('Probability')\n",
        "plt.title('Binomial Distribution PMF')\n",
        "plt.show()\n"
      ],
      "metadata": {
        "id": "OYWKu-Qxi1ZV"
      },
      "execution_count": null,
      "outputs": []
    },
    {
      "cell_type": "code",
      "source": [
        "5️⃣ Poisson distribution visualization\n",
        "\n",
        "from scipy.stats import poisson\n",
        "\n",
        "mu = 3\n",
        "x = np.arange(0, 10)\n",
        "pmf = poisson.pmf(x, mu)\n",
        "\n",
        "plt.stem(x, pmf, use_line_collection=True)\n",
        "plt.xlabel('x')\n",
        "plt.ylabel('PMF')\n",
        "plt.title('Poisson Distribution')\n",
        "plt.show()\n"
      ],
      "metadata": {
        "id": "2xUCGTsOi1c4"
      },
      "execution_count": null,
      "outputs": []
    },
    {
      "cell_type": "code",
      "source": [
        "6️⃣ CDF of a discrete uniform distribution\n",
        "\n",
        "cdf = np.cumsum(pmf)\n",
        "plt.step(x, cdf)\n",
        "plt.xlabel('x')\n",
        "plt.ylabel('CDF')\n",
        "plt.title('CDF of Discrete Uniform Distribution')\n",
        "plt.show()\n"
      ],
      "metadata": {
        "id": "OV8qCUhrjVY7"
      },
      "execution_count": null,
      "outputs": []
    },
    {
      "cell_type": "code",
      "source": [
        "7️⃣ Continuous uniform distribution\n",
        "python\n",
        "Copy\n",
        "Edit\n",
        "\n",
        "from scipy.stats import uniform\n",
        "\n",
        "x = np.linspace(0, 1, 100)\n",
        "pdf = uniform.pdf(x, 0, 1)\n",
        "\n",
        "plt.plot(x, pdf)\n",
        "plt.title('Continuous Uniform Distribution')\n",
        "plt.xlabel('x')\n",
        "plt.ylabel('PDF')\n",
        "plt.show()\n",
        "\n"
      ],
      "metadata": {
        "id": "GoUwt1-NjVbo"
      },
      "execution_count": null,
      "outputs": []
    },
    {
      "cell_type": "code",
      "source": [
        "8️⃣ Simulate normal distribution + histogram\n",
        "\n",
        "samples = np.random.normal(loc=0, scale=1, size=1000)\n",
        "plt.hist(samples, bins=30, density=True, alpha=0.6, color='g')\n",
        "plt.title('Histogram of Normal Distribution')\n",
        "plt.show()\n"
      ],
      "metadata": {
        "id": "UClk9tohjVeR"
      },
      "execution_count": null,
      "outputs": []
    },
    {
      "cell_type": "code",
      "source": [
        "9️⃣ Calculate Z-scores and plot\n",
        "\n",
        "from scipy.stats import zscore\n",
        "\n",
        "data = np.random.normal(100, 15, 100)\n",
        "zs = zscore(data)\n",
        "\n",
        "plt.hist(zs, bins=30)\n",
        "plt.title('Z-scores Histogram')\n",
        "plt.show()\n"
      ],
      "metadata": {
        "id": "jy_aqRXCjVg4"
      },
      "execution_count": null,
      "outputs": []
    },
    {
      "cell_type": "code",
      "source": [
        "🔟 Implement Central Limit Theorem\n",
        "python\n",
        "Copy\n",
        "Edit\n",
        "\n",
        "sample_means = []\n",
        "for _ in range(1000):\n",
        "    sample = np.random.exponential(scale=2, size=30)\n",
        "    sample_means.append(np.mean(sample))\n",
        "\n",
        "plt.hist(sample_means, bins=30, density=True)\n",
        "plt.title('CLT: Sample Means of Exponential Distribution')\n",
        "plt.show()\n"
      ],
      "metadata": {
        "id": "57Z4xxrWjVka"
      },
      "execution_count": null,
      "outputs": []
    },
    {
      "cell_type": "code",
      "source": [
        "1️⃣1️⃣ Simulate multiple samples from a normal distribution and verify CLT\n",
        "\n",
        "import numpy as np\n",
        "import matplotlib.pyplot as plt\n",
        "\n",
        "means = [np.mean(np.random.normal(0, 1, 30)) for _ in range(1000)]\n",
        "plt.hist(means, bins=30, density=True, alpha=0.7)\n",
        "plt.title('Central Limit Theorem Verification')\n",
        "plt.show()\n"
      ],
      "metadata": {
        "id": "AF-JzvemkV-x"
      },
      "execution_count": null,
      "outputs": []
    },
    {
      "cell_type": "code",
      "source": [
        "1️⃣2️⃣ Standard normal distribution plot\n",
        "python\n",
        "Copy\n",
        "Edit\n",
        "\n",
        "from scipy.stats import norm\n",
        "\n",
        "x = np.linspace(-4, 4, 100)\n",
        "pdf = norm.pdf(x, 0, 1)\n",
        "\n",
        "plt.plot(x, pdf)\n",
        "plt.title('Standard Normal Distribution (mean=0, std=1)')\n",
        "plt.show()\n"
      ],
      "metadata": {
        "id": "Q0xOovsUkWCZ"
      },
      "execution_count": null,
      "outputs": []
    },
    {
      "cell_type": "code",
      "source": [
        "1️⃣3️⃣ Binomial distribution probabilities\n",
        "\n",
        "from scipy.stats import binom\n",
        "\n",
        "n, p = 10, 0.5\n",
        "x = np.arange(0, n+1)\n",
        "pmf = binom.pmf(x, n, p)\n",
        "\n",
        "plt.bar(x, pmf)\n",
        "plt.title('Binomial Distribution Probabilities')\n",
        "plt.show()\n"
      ],
      "metadata": {
        "id": "F-gA0DxckWEB"
      },
      "execution_count": null,
      "outputs": []
    },
    {
      "cell_type": "code",
      "source": [
        "1️⃣4️⃣ Z-score calculation for a data point\n",
        "python\n",
        "Copy\n",
        "Edit\n",
        "\n",
        "def calc_z_score(x, mean, std):\n",
        "    return (x - mean) / std\n",
        "\n",
        "z = calc_z_score(70, 50, 10)\n",
        "print(\"Z-score:\", z)\n"
      ],
      "metadata": {
        "id": "upughlUrkWGn"
      },
      "execution_count": null,
      "outputs": []
    },
    {
      "cell_type": "code",
      "source": [
        "1️⃣5️⃣ Hypothesis testing using Z-statistics\n",
        "\n",
        "from scipy.stats import norm\n",
        "\n",
        "sample_mean = 52\n",
        "pop_mean = 50\n",
        "pop_std = 10\n",
        "n = 30\n",
        "\n",
        "z = (sample_mean - pop_mean) / (pop_std / np.sqrt(n))\n",
        "p_value = 1 - norm.cdf(z)\n",
        "print(\"Z-statistic:\", z, \"P-value:\", p_value)\n"
      ],
      "metadata": {
        "id": "ptHCU7BskWKA"
      },
      "execution_count": null,
      "outputs": []
    },
    {
      "cell_type": "code",
      "source": [
        "1️⃣6️⃣ Confidence interval\n",
        "\n",
        "import scipy.stats as st\n",
        "\n",
        "data = np.random.normal(50, 10, 100)\n",
        "conf_int = st.t.interval(0.95, len(data)-1, loc=np.mean(data), scale=st.sem(data))\n",
        "print(\"95% Confidence Interval:\", conf_int)\n"
      ],
      "metadata": {
        "id": "QWi8Dl6mluBy"
      },
      "execution_count": null,
      "outputs": []
    },
    {
      "cell_type": "code",
      "source": [
        "1️⃣7️⃣ Generate normal data + CI\n",
        "\n",
        "data = np.random.normal(100, 15, 100)\n",
        "mean = np.mean(data)\n",
        "sem = st.sem(data)\n",
        "ci = st.t.interval(0.95, len(data)-1, loc=mean, scale=sem)\n",
        "print(\"Mean:\", mean, \"95% CI:\", ci)\n"
      ],
      "metadata": {
        "id": "WLSOgUmLluFK"
      },
      "execution_count": null,
      "outputs": []
    },
    {
      "cell_type": "code",
      "source": [
        "1️⃣8️⃣ PDF of normal distribution\n",
        "python\n",
        "Copy\n",
        "Edit\n",
        "\n",
        "x = np.linspace(60, 140, 100)\n",
        "pdf = norm.pdf(x, 100, 15)\n",
        "\n",
        "plt.plot(x, pdf)\n",
        "plt.title('Normal Distribution PDF')\n",
        "plt.show()\n"
      ],
      "metadata": {
        "id": "U1rntI0BluPs"
      },
      "execution_count": null,
      "outputs": []
    },
    {
      "cell_type": "code",
      "source": [
        "1️⃣9️⃣ CDF of Poisson distribution\n",
        "python\n",
        "Copy\n",
        "Edit\n",
        "\n",
        "from scipy.stats import poisson\n",
        "\n",
        "x = np.arange(0, 10)\n",
        "cdf = poisson.cdf(x, mu=3)\n",
        "\n",
        "plt.step(x, cdf, where='post')\n",
        "plt.title('Poisson CDF')\n",
        "plt.show()\n"
      ],
      "metadata": {
        "id": "1oZ-tQLFmVPk"
      },
      "execution_count": null,
      "outputs": []
    },
    {
      "cell_type": "code",
      "source": [
        "2️⃣0️⃣ Continuous uniform random variable + expected value\n",
        "python\n",
        "Copy\n",
        "Edit\n",
        "\n",
        "data = np.random.uniform(0, 10, 1000)\n",
        "expected = np.mean(data)\n",
        "print(\"Expected value:\", expected)\n"
      ],
      "metadata": {
        "id": "5ecV2jDEmVS3"
      },
      "execution_count": null,
      "outputs": []
    },
    {
      "cell_type": "code",
      "source": [
        "2️⃣1️⃣ Compare standard deviations of two datasets\n",
        "\n",
        "data1 = np.random.normal(0, 1, 100)\n",
        "data2 = np.random.normal(0, 2, 100)\n",
        "\n",
        "print(\"Std dev data1:\", np.std(data1))\n",
        "print(\"Std dev data2:\", np.std(data2))\n"
      ],
      "metadata": {
        "id": "kw49CztSmc6b"
      },
      "execution_count": null,
      "outputs": []
    },
    {
      "cell_type": "code",
      "source": [
        "2️⃣2️⃣ Range & IQR\n",
        "\n",
        "data = np.random.normal(0, 1, 100)\n",
        "range_ = np.max(data) - np.min(data)\n",
        "iqr = np.percentile(data, 75) - np.percentile(data, 25)\n",
        "print(\"Range:\", range_, \"IQR:\", iqr)\n"
      ],
      "metadata": {
        "id": "q1NHQ7VXmc-D"
      },
      "execution_count": null,
      "outputs": []
    },
    {
      "cell_type": "code",
      "source": [
        "2️⃣3️⃣ Z-score normalization + visualize\n",
        "python\n",
        "Copy\n",
        "Edit\n",
        "\n",
        "z_scores = zscore(data)\n",
        "plt.hist(z_scores, bins=30)\n",
        "plt.title('Z-score Normalized Data')\n",
        "plt.show()\n"
      ],
      "metadata": {
        "id": "gko5I6GEmv_8"
      },
      "execution_count": null,
      "outputs": []
    },
    {
      "cell_type": "code",
      "source": [
        "2️⃣4️⃣ Skewness & kurtosis\n",
        "\n",
        "from scipy.stats import skew, kurtosis\n",
        "\n",
        "print(\"Skewness:\", skew(data))\n",
        "print(\"Kurtosis:\", kurtosis(data))\n"
      ],
      "metadata": {
        "id": "lOCR9afdmwHr"
      },
      "execution_count": null,
      "outputs": []
    },
    {
      "cell_type": "markdown",
      "source": [
        "PRACTICAL PART 2"
      ],
      "metadata": {
        "id": "qq_9fxJenmH0"
      }
    },
    {
      "cell_type": "code",
      "source": [
        "1️⃣ Perform a Z-test comparing sample mean to known population mean\n",
        "python\n",
        "Copy\n",
        "Edit\n",
        "\n",
        "from scipy.stats import norm\n",
        "import numpy as np\n",
        "\n",
        "sample = np.random.normal(50, 10, 30)\n",
        "pop_mean = 50\n",
        "pop_std = 10\n",
        "\n",
        "z = (np.mean(sample) - pop_mean) / (pop_std / np.sqrt(len(sample)))\n",
        "p_value = 2 * (1 - norm.cdf(abs(z)))\n",
        "\n",
        "print(\"Z-statistic:\", z)\n",
        "print(\"P-value:\", p_value)\n"
      ],
      "metadata": {
        "id": "CglcrfNdnorS"
      },
      "execution_count": null,
      "outputs": []
    },
    {
      "cell_type": "code",
      "source": [
        "2️⃣ Simulate data for hypothesis testing and compute P-value\n",
        "\n",
        "sample = np.random.normal(50, 10, 30)\n",
        "z = (np.mean(sample) - pop_mean) / (pop_std / np.sqrt(len(sample)))\n",
        "p_value = 1 - norm.cdf(z)\n",
        "print(\"Z-statistic:\", z, \"P-value:\", p_value)\n"
      ],
      "metadata": {
        "id": "oJ9xZuoino2n"
      },
      "execution_count": null,
      "outputs": []
    },
    {
      "cell_type": "code",
      "source": [
        "3️⃣ One-sample Z-test\n",
        "\n",
        "  (same as 1, shows population mean comparison)"
      ],
      "metadata": {
        "id": "u35Cs7trn1b9"
      },
      "execution_count": null,
      "outputs": []
    },
    {
      "cell_type": "code",
      "source": [
        "4️⃣ Two-tailed Z-test with visualization\n",
        "\n",
        "import matplotlib.pyplot as plt\n",
        "\n",
        "x = np.linspace(-4, 4, 1000)\n",
        "plt.plot(x, norm.pdf(x))\n",
        "plt.axvline(z, color='r', linestyle='--', label=f'z = {z:.2f}')\n",
        "plt.axvline(-z, color='r', linestyle='--')\n",
        "plt.fill_between(x, norm.pdf(x), where=(x < -abs(z)) | (x > abs(z)), color='red', alpha=0.3)\n",
        "plt.legend()\n",
        "plt.title('Two-tailed Z-test decision regions')\n",
        "plt.show()\n"
      ],
      "metadata": {
        "id": "4yZsjkEln1fg"
      },
      "execution_count": null,
      "outputs": []
    },
    {
      "cell_type": "code",
      "source": [
        "5️⃣ Visualize Type I and Type II errors\n",
        "\n",
        "(Illustration suggestion — I'll provide sample code if you want the actual plot, or I can draw the diagram)\n"
      ],
      "metadata": {
        "id": "it1LHSJEoHxD"
      },
      "execution_count": null,
      "outputs": []
    },
    {
      "cell_type": "code",
      "source": [
        "6️⃣ Independent T-test\n",
        "python\n",
        "Copy\n",
        "Edit\n",
        "\n",
        "from scipy.stats import ttest_ind\n",
        "\n",
        "group1 = np.random.normal(100, 15, 50)\n",
        "group2 = np.random.normal(102, 15, 50)\n",
        "\n",
        "t_stat, p_val = ttest_ind(group1, group2)\n",
        "print(\"T-statistic:\", t_stat, \"P-value:\", p_val)\n"
      ],
      "metadata": {
        "id": "fNP9VazsoH7L"
      },
      "execution_count": null,
      "outputs": []
    },
    {
      "cell_type": "code",
      "source": [
        "7️⃣ Paired sample T-test\n",
        "python\n",
        "Copy\n",
        "Edit\n",
        "\n",
        "from scipy.stats import ttest_rel\n",
        "\n",
        "before = np.random.normal(100, 10, 30)\n",
        "after = before + np.random.normal(1, 5, 30)\n",
        "\n",
        "t_stat, p_val = ttest_rel(before, after)\n",
        "print(\"Paired T-statistic:\", t_stat, \"P-value:\", p_val)\n"
      ],
      "metadata": {
        "id": "LvR-MrLIoSfq"
      },
      "execution_count": null,
      "outputs": []
    },
    {
      "cell_type": "code",
      "source": [
        "8️⃣ Compare Z-test and T-test\n",
        "\n",
        "# Z-test (assuming known std)\n",
        "z = (np.mean(group1) - np.mean(group2)) / np.sqrt((15**2/50)+(15**2/50))\n",
        "print(\"Z-stat:\", z)\n",
        "\n",
        "# T-test (as above)\n",
        "print(\"T-stat:\", t_stat)\n"
      ],
      "metadata": {
        "id": "SvRzc2kToSoQ"
      },
      "execution_count": null,
      "outputs": []
    },
    {
      "cell_type": "code",
      "source": [
        "9️⃣ Confidence interval for sample mean\n",
        "python\n",
        "Copy\n",
        "Edit\n",
        "\n",
        "import scipy.stats as st\n",
        "data = np.random.normal(50, 10, 30)\n",
        "conf_int = st.t.interval(0.95, len(data)-1, loc=np.mean(data), scale=st.sem(data))\n",
        "print(\"95% Confidence Interval:\", conf_int)\n"
      ],
      "metadata": {
        "id": "uHIg_Bczobac"
      },
      "execution_count": null,
      "outputs": []
    },
    {
      "cell_type": "code",
      "source": [
        "🔟 Margin of error\n",
        "\n",
        "moe = st.t.ppf(0.975, len(data)-1) * st.sem(data)\n",
        "print(\"Margin of Error:\", moe)\n"
      ],
      "metadata": {
        "id": "TtH3AEg9obd6"
      },
      "execution_count": null,
      "outputs": []
    },
    {
      "cell_type": "code",
      "source": [
        "1️⃣1️⃣ Bayesian inference using Bayes' theorem\n",
        "\n",
        "def bayes(p_a, p_b_given_a, p_b):\n",
        "    return (p_b_given_a * p_a) / p_b\n",
        "\n",
        "posterior = bayes(0.01, 0.99, 0.05)\n",
        "print(\"Posterior probability:\", posterior)\n"
      ],
      "metadata": {
        "id": "N0DCpWB3ok4q"
      },
      "execution_count": null,
      "outputs": []
    },
    {
      "cell_type": "code",
      "source": [
        "1️⃣2️⃣ Chi-square test for independence\n",
        "python\n",
        "Copy\n",
        "Edit\n",
        "\n",
        "import pandas as pd\n",
        "from scipy.stats import chi2_contingency\n",
        "\n",
        "data = [[10, 20], [20, 40]]\n",
        "chi2, p, dof, expected = chi2_contingency(data)\n",
        "print(\"Chi2 statistic:\", chi2, \"P-value:\", p)\n"
      ],
      "metadata": {
        "id": "yFUfvVVhok9f"
      },
      "execution_count": null,
      "outputs": []
    },
    {
      "cell_type": "code",
      "source": [
        "1️⃣3️⃣ Expected frequencies for Chi-square\n",
        "python\n",
        "Copy\n",
        "Edit\n",
        "\n",
        "print(\"Expected frequencies:\\n\", expected)\n"
      ],
      "metadata": {
        "id": "_BmSHIrgousp"
      },
      "execution_count": null,
      "outputs": []
    },
    {
      "cell_type": "code",
      "source": [
        "1️⃣4️⃣ Goodness-of-fit test\n",
        "python\n",
        "Copy\n",
        "Edit\n",
        "\n",
        "observed = [16, 18, 16, 14, 12, 12]\n",
        "expected = [15, 15, 15, 15, 15, 15]\n",
        "chi2, p = st.chisquare(f_obs=observed, f_exp=expected)\n",
        "print(\"Chi2:\", chi2, \"P-value:\", p)\n"
      ],
      "metadata": {
        "id": "pyd4w5Ruowek"
      },
      "execution_count": null,
      "outputs": []
    }
  ]
}