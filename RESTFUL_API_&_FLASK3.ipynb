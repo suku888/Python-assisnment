{
  "nbformat": 4,
  "nbformat_minor": 0,
  "metadata": {
    "colab": {
      "provenance": []
    },
    "kernelspec": {
      "name": "python3",
      "display_name": "Python 3"
    },
    "language_info": {
      "name": "python"
    }
  },
  "cells": [
    {
      "cell_type": "markdown",
      "source": [
        "THEORY QUESTION\n"
      ],
      "metadata": {
        "id": "Bljr00ngN7D5"
      }
    },
    {
      "cell_type": "markdown",
      "source": [
        "1. What is a RESTful API?\n",
        "\n",
        "A RESTful API is an application programming interface (API) that follows the principles of REST (Representational State Transfer), using standard HTTP methods (GET, POST, PUT, DELETE) to perform operations on resources identified by URIs.\n",
        "\n"
      ],
      "metadata": {
        "id": "7DRIlLTCN8zt"
      }
    },
    {
      "cell_type": "markdown",
      "source": [
        "2. Explain the concept of API specification.\n",
        "\n",
        "An API specification defines the rules and endpoints for interacting with the API, including request/response formats, methods, parameters, status codes, and authentication. OpenAPI (Swagger) is a common API specification format.\n",
        "\n",
        "\n"
      ],
      "metadata": {
        "id": "4uGEq2iSN82o"
      }
    },
    {
      "cell_type": "markdown",
      "source": [
        "3. What is Flask, and why is it popular for building APIs?\n",
        "\n",
        "Flask is a lightweight Python web framework known for its simplicity, flexibility, and minimalism. It is popular for building APIs because it provides routing, request handling, and easy integration with extensions like Flask-RESTful.\n",
        "\n"
      ],
      "metadata": {
        "id": "43ALVXdQN85q"
      }
    },
    {
      "cell_type": "markdown",
      "source": [
        "4. What is routing in Flask?\n",
        "\n",
        "Routing in Flask connects URLs to Python functions. You define routes using the @app.route() decorator to specify what URL triggers what function.\n",
        "\n"
      ],
      "metadata": {
        "id": "Mi95EMlVN88f"
      }
    },
    {
      "cell_type": "markdown",
      "source": [
        "5. How do you create a simple Flask application?\n",
        "\n",
        "from flask import Flask\n",
        "\n",
        "app = Flask(__name__)\n",
        "\n",
        "@app.route('/')\n",
        "def home():\n",
        "    return \"Hello, Flask!\"\n",
        "\n",
        "if __name__ == '__main__':\n",
        "    app.run()\n"
      ],
      "metadata": {
        "id": "EZdu8cnpN8_Z"
      }
    },
    {
      "cell_type": "markdown",
      "source": [
        "6. What are HTTP methods used in RESTful APIs?\n",
        "\n",
        "GET – Retrieve data\n",
        "\n",
        "POST – Create data\n",
        "\n",
        "PUT – Update data\n",
        "\n",
        "DELETE – Delete data\n",
        "\n",
        "PATCH – Partial update"
      ],
      "metadata": {
        "id": "M_Ey9C8fN9CU"
      }
    },
    {
      "cell_type": "markdown",
      "source": [
        "7. What is the purpose of the @app.route() decorator in Flask?\n",
        "\n",
        "It maps a URL to a view function. For example, @app.route('/hello') calls the associated function when /hello is accessed.\n",
        "\n"
      ],
      "metadata": {
        "id": "d-dKGKr9N9FP"
      }
    },
    {
      "cell_type": "markdown",
      "source": [
        "8. What is the difference between GET and POST HTTP methods?\n",
        "\n",
        "GET: Retrieves data; parameters sent in the URL.\n",
        "\n",
        "POST: Sends data to the server to create something; data sent in the request body.\n",
        "\n"
      ],
      "metadata": {
        "id": "c9SNKdNBN9H8"
      }
    },
    {
      "cell_type": "markdown",
      "source": [
        "9. How do you handle errors in Flask APIs?\n",
        "\n",
        "Use Flask’s @app.errorhandler() decorator or try-except blocks. Also, return custom error messages and status codes.\n",
        "\n",
        "@app.errorhandler(404)\n",
        "def not_found(e):\n",
        "    return {\"error\": \"Not found\"}, 404\n"
      ],
      "metadata": {
        "id": "NL5fKCpHN9Ky"
      }
    },
    {
      "cell_type": "markdown",
      "source": [
        "10. How do you connect Flask to a SQL database?\n",
        "\n",
        "from flask_sqlalchemy import SQLAlchemy\n",
        "\n",
        "app.config['SQLALCHEMY_DATABASE_URI'] = 'sqlite:///data.db'\n",
        "db = SQLAlchemy(app)\n"
      ],
      "metadata": {
        "id": "kAav0q6sN9NP"
      }
    },
    {
      "cell_type": "markdown",
      "source": [
        "11. What is the role of Flask-SQLAlchemy?\n",
        "\n",
        "Flask-SQLAlchemy is an ORM (Object Relational Mapper) that lets you interact with the database using Python classes instead of SQL queries.\n",
        "\n"
      ],
      "metadata": {
        "id": "828wOVCdN9Qy"
      }
    },
    {
      "cell_type": "markdown",
      "source": [
        "12. What are Flask blueprints, and how are they useful?\n",
        "\n",
        "Blueprints allow you to organize your application into modules. They're useful for breaking up large applications into smaller, reusable components.\n",
        "\n"
      ],
      "metadata": {
        "id": "H6T9s0xtPScy"
      }
    },
    {
      "cell_type": "markdown",
      "source": [
        "13. What is the purpose of Flask's request object?\n",
        "\n",
        "The request object provides access to incoming request data like form inputs, JSON data, headers, and method.\n",
        "\n"
      ],
      "metadata": {
        "id": "9zEL78oNPSfv"
      }
    },
    {
      "cell_type": "markdown",
      "source": [
        "14. How do you create a RESTful API endpoint using Flask?\n",
        "\n",
        "from flask import Flask, jsonify\n",
        "\n",
        "@app.route('/api/data', methods=['GET'])\n",
        "def get_data():\n",
        "    return jsonify({'message': 'Hello API'})\n"
      ],
      "metadata": {
        "id": "E9hfpwJkPSii"
      }
    },
    {
      "cell_type": "markdown",
      "source": [
        "15. What is the purpose of Flask’s jsonify() function?\n",
        "\n",
        "jsonify() converts Python dictionaries/lists to JSON format for HTTP responses and sets the correct content-type header.\n",
        "\n"
      ],
      "metadata": {
        "id": "hXSOL2CHPSlz"
      }
    },
    {
      "cell_type": "markdown",
      "source": [
        "16. Explain Flask’s url_for() function.\n",
        "\n",
        "url_for() generates URLs for view functions dynamically, avoiding hardcoding URLs.\n",
        "\n",
        "python\n",
        "Copy\n",
        "Edit\n",
        "\n",
        "url_for('home')  # returns '/'\n"
      ],
      "metadata": {
        "id": "t9zWFpolPSou"
      }
    },
    {
      "cell_type": "markdown",
      "source": [
        "17. How does Flask handle static files (CSS, JavaScript, etc.)?\n",
        "\n",
        "Flask serves static files from the /static folder. You access them via /static/filename.ext.\n",
        "\n"
      ],
      "metadata": {
        "id": "jz7tQD_lPSsL"
      }
    },
    {
      "cell_type": "markdown",
      "source": [
        "18. What is an API specification, and how does it help in building a Flask API?\n",
        "\n",
        "It defines the structure, inputs, outputs, and behavior of the API. It helps in consistent development, documentation, and testing.\n",
        "\n"
      ],
      "metadata": {
        "id": "lIbgt-y9QaRc"
      }
    },
    {
      "cell_type": "markdown",
      "source": [
        "19. What are HTTP status codes, and why are they important in a Flask API?\n",
        "\n",
        "They indicate the result of a request. For example:\n",
        "\n",
        "200 OK: Successful request\n",
        "\n",
        "404 Not Found: Resource doesn't exist\n",
        "\n",
        "500 Internal Server Error: Server-side error\n",
        "They help clients understand the response."
      ],
      "metadata": {
        "id": "eCh-PGseQan1"
      }
    },
    {
      "cell_type": "markdown",
      "source": [
        "20. How do you handle POST requests in Flask?\n",
        "\n",
        "from flask import request\n",
        "\n",
        "@app.route('/submit', methods=['POST'])\n",
        "def submit():\n",
        "    data = request.json\n",
        "    return jsonify(data)\n"
      ],
      "metadata": {
        "id": "p5VpDV73Qari"
      }
    },
    {
      "cell_type": "markdown",
      "source": [
        "21. How would you secure a Flask API?\n",
        "\n",
        "Use HTTPS\n",
        "\n",
        "Validate inputs\n",
        "\n",
        "Use authentication (JWT, OAuth)\n",
        "\n",
        "Set up rate limiting\n",
        "\n",
        "Sanitize and escape data"
      ],
      "metadata": {
        "id": "-QHxqJl4Qau9"
      }
    },
    {
      "cell_type": "markdown",
      "source": [
        "22. What is the significance of the Flask-RESTful extension?\n",
        "\n",
        "Flask-RESTful simplifies building REST APIs with resource classes, request parsing, and automatic formatting of JSON responses.\n",
        "\n"
      ],
      "metadata": {
        "id": "YqFFTOccQa15"
      }
    },
    {
      "cell_type": "markdown",
      "source": [
        "23. What is the role of flask's object?\n",
        "\n",
        "The session object in Flask is used to store data specific to a user across multiple requests (i.e., it helps maintain user state in a stateless HTTP protocol).\n",
        "\n",
        "Key points\n",
        "\n",
        "1. User-specific storage:\n",
        "\n",
        "Data stored in session is unique to each user (usually via a session cookie).\n",
        "\n",
        "Example: tracking whether a user is logged in.\n",
        "\n",
        "2. Stored on client-side (securely):\n",
        "\n",
        "Flask stores session data in a cookie on the client-side.\n",
        "\n",
        "The data is signed (not encrypted) using a secret key, so it can't be tampered with."
      ],
      "metadata": {
        "id": "FNCW6FiiQa5b"
      }
    },
    {
      "cell_type": "markdown",
      "source": [
        "PRACTICAL QUESTION\n"
      ],
      "metadata": {
        "id": "fmYxhkE4TnV5"
      }
    },
    {
      "cell_type": "code",
      "source": [
        "1. How do you create a basic Flask application?\n",
        "\n",
        "from flask import Flask\n",
        "\n",
        "app = Flask(__name__)\n",
        "\n",
        "@app.route('/')\n",
        "def home():\n",
        "    return 'Hello, Flask!'\n",
        "\n",
        "if __name__ == '__main__':\n",
        "    app.run(debug=True)\n"
      ],
      "metadata": {
        "id": "qh8_o98dTll3"
      },
      "execution_count": null,
      "outputs": []
    },
    {
      "cell_type": "code",
      "source": [
        "2. How do you serve static files like images or CSS in Flask?\n",
        "\n",
        "Place static files in a folder named static/\n",
        "\n",
        "Access them using /static/filename\n",
        "\n",
        "html\n",
        "Copy\n",
        "Edit\n",
        "\n",
        "<link rel=\"stylesheet\" href=\"{{ url_for('static', filename='style.css') }}\">\n",
        "<img src=\"{{ url_for('static', filename='image.png') }}\">\n"
      ],
      "metadata": {
        "id": "J4n5AAtGTlrX"
      },
      "execution_count": null,
      "outputs": []
    },
    {
      "cell_type": "code",
      "source": [
        "3. How do you define different routes with different HTTP methods in Flask?\n",
        "\n",
        "@app.route('/submit', methods=['GET', 'POST'])\n",
        "def submit():\n",
        "    if request.method == 'POST':\n",
        "        return 'Form submitted'\n",
        "    return 'Submit form'\n"
      ],
      "metadata": {
        "id": "563tItD8Tlt3"
      },
      "execution_count": null,
      "outputs": []
    },
    {
      "cell_type": "code",
      "source": [
        "4. How do you render HTML templates in Flask?\n",
        "\n",
        "from flask import render_template\n",
        "\n",
        "@app.route('/about')\n",
        "def about():\n",
        "    return render_template('about.html')\n"
      ],
      "metadata": {
        "id": "ZCODJ1FbTlwV"
      },
      "execution_count": null,
      "outputs": []
    },
    {
      "cell_type": "code",
      "source": [
        "5. How can you generate URLs for routes in Flask using url_for()?\n",
        "python\n",
        "Copy\n",
        "Edit\n",
        "\n",
        "@app.route('/profile')\n",
        "def profile():\n",
        "    return 'User Profile'\n",
        "\n",
        "url_for('profile')  # returns '/profile'\n"
      ],
      "metadata": {
        "id": "UdlBes9ETlyv"
      },
      "execution_count": null,
      "outputs": []
    },
    {
      "cell_type": "code",
      "source": [
        "6. How do you handle forms in Flask?\n",
        "\n",
        "@app.route('/form', methods=['POST'])\n",
        "def form():\n",
        "    name = request.form['name']\n",
        "    return f\"Hello {name}\"\n"
      ],
      "metadata": {
        "id": "eYkjttloTl2T"
      },
      "execution_count": null,
      "outputs": []
    },
    {
      "cell_type": "code",
      "source": [
        "7. How can you validate form data in Flask?\n",
        "\n",
        "if not request.form['email']:\n",
        "    return 'Email is required', 400\n",
        "\n",
        "from flask_wtf import FlaskForm\n",
        "from wtforms import StringField\n",
        "from wtforms.validators import DataRequired\n"
      ],
      "metadata": {
        "id": "Ef1E6haWV__d"
      },
      "execution_count": null,
      "outputs": []
    },
    {
      "cell_type": "code",
      "source": [
        "8. How do you manage sessions in Flask?\n",
        "\n",
        "from flask import session\n",
        "\n",
        "app.secret_key = 'your_secret'\n",
        "\n",
        "@app.route('/login')\n",
        "def login():\n",
        "    session['user'] = 'admin'\n",
        "    return 'Logged in'\n",
        "\n",
        "@app.route('/logout')\n",
        "def logout():\n",
        "    session.pop('user', None)\n",
        "    return 'Logged out'\n"
      ],
      "metadata": {
        "id": "BGfINlp2WACd"
      },
      "execution_count": null,
      "outputs": []
    },
    {
      "cell_type": "code",
      "source": [
        "9. How do you redirect to a different route in Flask?\n",
        "\n",
        "from flask import redirect, url_for\n",
        "\n",
        "@app.route('/go')\n",
        "def go():\n",
        "    return redirect(url_for('home'))\n"
      ],
      "metadata": {
        "id": "KK-Vo1fNWAFV"
      },
      "execution_count": null,
      "outputs": []
    },
    {
      "cell_type": "code",
      "source": [
        "10. How do you handle errors in Flask (e.g., 404)?\n",
        "python\n",
        "Copy\n",
        "Edit\n",
        "\n",
        "@app.errorhandler(404)\n",
        "def page_not_found(e):\n",
        "    return 'Page Not Found', 404\n"
      ],
      "metadata": {
        "id": "KBxbILjoWAIs"
      },
      "execution_count": null,
      "outputs": []
    },
    {
      "cell_type": "code",
      "source": [
        "11. How do you structure a Flask app using Blueprints?\n",
        "python\n",
        "Copy\n",
        "Edit\n",
        "\n",
        "from flask import Blueprint\n",
        "\n",
        "bp = Blueprint('admin', __name__)\n",
        "\n",
        "@bp.route('/dashboard')\n",
        "def dashboard():\n",
        "    return 'Admin Dashboard'\n",
        "\n",
        "# Register blueprint in main app\n",
        "app.register_blueprint(bp, url_prefix='/admin')\n"
      ],
      "metadata": {
        "id": "B03Brf2mXDne"
      },
      "execution_count": null,
      "outputs": []
    },
    {
      "cell_type": "code",
      "source": [
        "12. How do you define a custom Jinja filter in Flask?\n",
        "python\n",
        "Copy\n",
        "Edit\n",
        "\n",
        "@app.template_filter('reverse')\n",
        "def reverse_filter(s):\n",
        "    return s[::-1]\n",
        "\n",
        "# In template: {{ 'hello'|reverse }}\n"
      ],
      "metadata": {
        "id": "AEpGm8pkXDqT"
      },
      "execution_count": null,
      "outputs": []
    },
    {
      "cell_type": "code",
      "source": [
        "13. How can you redirect with query parameters in Flask?\n",
        "\n",
        "from flask import redirect, url_for\n",
        "\n",
        "@app.route('/search')\n",
        "def search():\n",
        "    return redirect(url_for('results', q='flask'))\n",
        "\n",
        "@app.route('/results')\n",
        "def results():\n",
        "    query = request.args.get('q')\n",
        "    return f'Search Results for {query}'\n"
      ],
      "metadata": {
        "id": "xObDlTzNXDtw"
      },
      "execution_count": null,
      "outputs": []
    },
    {
      "cell_type": "code",
      "source": [
        "14. How do you return JSON responses in Flask?\n",
        "\n",
        "from flask import jsonify\n",
        "\n",
        "@app.route('/api/data')\n",
        "def api():\n",
        "    return jsonify({'name': 'Flask', 'version': 2})\n"
      ],
      "metadata": {
        "id": "0ehZERL-XXeG"
      },
      "execution_count": null,
      "outputs": []
    },
    {
      "cell_type": "code",
      "source": [
        "15. How do you capture URL parameters in Flask?\n",
        "\n",
        "@app.route('/user/<username>')\n",
        "def user_profile(username):\n",
        "    return f'Profile page of {username}'\n"
      ],
      "metadata": {
        "colab": {
          "base_uri": "https://localhost:8080/",
          "height": 237
        },
        "id": "lvQS-n0zXXgy",
        "outputId": "c6cbf585-afbf-4475-a000-e0f78f3c921d"
      },
      "execution_count": 3,
      "outputs": [
        {
          "output_type": "stream",
          "name": "stdout",
          "text": [
            "Object `Flask` not found.\n"
          ]
        },
        {
          "output_type": "error",
          "ename": "NameError",
          "evalue": "name 'app' is not defined",
          "traceback": [
            "\u001b[0;31m---------------------------------------------------------------------------\u001b[0m",
            "\u001b[0;31mNameError\u001b[0m                                 Traceback (most recent call last)",
            "\u001b[0;32m<ipython-input-3-825801316>\u001b[0m in \u001b[0;36m<cell line: 0>\u001b[0;34m()\u001b[0m\n\u001b[1;32m      1\u001b[0m \u001b[0mget_ipython\u001b[0m\u001b[0;34m(\u001b[0m\u001b[0;34m)\u001b[0m\u001b[0;34m.\u001b[0m\u001b[0mrun_line_magic\u001b[0m\u001b[0;34m(\u001b[0m\u001b[0;34m'pinfo'\u001b[0m\u001b[0;34m,\u001b[0m \u001b[0;34m'Flask'\u001b[0m\u001b[0;34m)\u001b[0m\u001b[0;34m\u001b[0m\u001b[0;34m\u001b[0m\u001b[0m\n\u001b[1;32m      2\u001b[0m \u001b[0;34m\u001b[0m\u001b[0m\n\u001b[0;32m----> 3\u001b[0;31m \u001b[0;34m@\u001b[0m\u001b[0mapp\u001b[0m\u001b[0;34m.\u001b[0m\u001b[0mroute\u001b[0m\u001b[0;34m(\u001b[0m\u001b[0;34m'/user/<username>'\u001b[0m\u001b[0;34m)\u001b[0m\u001b[0;34m\u001b[0m\u001b[0;34m\u001b[0m\u001b[0m\n\u001b[0m\u001b[1;32m      4\u001b[0m \u001b[0;32mdef\u001b[0m \u001b[0muser_profile\u001b[0m\u001b[0;34m(\u001b[0m\u001b[0musername\u001b[0m\u001b[0;34m)\u001b[0m\u001b[0;34m:\u001b[0m\u001b[0;34m\u001b[0m\u001b[0;34m\u001b[0m\u001b[0m\n\u001b[1;32m      5\u001b[0m     \u001b[0;32mreturn\u001b[0m \u001b[0;34mf'Profile page of {username}'\u001b[0m\u001b[0;34m\u001b[0m\u001b[0;34m\u001b[0m\u001b[0m\n",
            "\u001b[0;31mNameError\u001b[0m: name 'app' is not defined"
          ]
        }
      ]
    },
    {
      "cell_type": "code",
      "source": [],
      "metadata": {
        "id": "-KGfCpioXXjl"
      },
      "execution_count": null,
      "outputs": []
    },
    {
      "cell_type": "code",
      "source": [],
      "metadata": {
        "id": "zrI39EalXXnG"
      },
      "execution_count": null,
      "outputs": []
    }
  ]
}