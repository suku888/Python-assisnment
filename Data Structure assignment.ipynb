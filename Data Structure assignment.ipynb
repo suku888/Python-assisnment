{
 "cells": [
  {
   "cell_type": "markdown",
   "id": "42a14256-91c8-446e-92a7-ab6bf11055d3",
   "metadata": {},
   "source": [
    "### 1\\. What are data structures, and why are they important?"
   ]
  },
  {
   "cell_type": "markdown",
   "id": "448f3dbe-a338-429d-b44f-d08caf8c4038",
   "metadata": {},
   "source": [
    "##### Data structures organize and store data efficiently, allowing for easier access, modification, and management, which improves algorithm performance."
   ]
  },
  {
   "cell_type": "markdown",
   "id": "8a264c47-b503-40b2-ab80-92fc1750697b",
   "metadata": {},
   "source": [
    "### 2\\. Explain the difference between mutable and immutable data types with examples."
   ]
  },
  {
   "cell_type": "markdown",
   "id": "a9b72d96-2360-4956-9702-f0142731d796",
   "metadata": {},
   "source": [
    "##### Mutable: can change after creation (e.g., list, dict, set). Immutable: cannot change after creation (e.g., tuple, string, int).\n"
   ]
  },
  {
   "cell_type": "markdown",
   "id": "11682c88-48d0-4724-9a5b-eaeb3b34d573",
   "metadata": {},
   "source": [
    "### 3\\. What are the main differences between lists and tuples in Python?"
   ]
  },
  {
   "cell_type": "markdown",
   "id": "7dbbf22e-2455-4c8e-a8d2-b5744097041b",
   "metadata": {},
   "source": [
    "##### Lists are mutable, can be modified; tuples are immutable, faster, and used for fixed data."
   ]
  },
  {
   "cell_type": "markdown",
   "id": "8c3b79e8-39a1-4dac-b74e-5e2776f79738",
   "metadata": {},
   "source": [
    "### 4. Describe how dictionaries store data."
   ]
  },
  {
   "cell_type": "markdown",
   "id": "e1db3ba4-48b8-4bf3-8232-9a00583ad917",
   "metadata": {},
   "source": [
    "##### Dictionaries store key-value pairs, where keys are unique, and values are accessed via these keys."
   ]
  },
  {
   "cell_type": "markdown",
   "id": "053f6a3b-6a5b-4e8e-b33d-3ad86e3f0b08",
   "metadata": {},
   "source": [
    "### 5. Why might you use a set instead of a list in Python?"
   ]
  },
  {
   "cell_type": "markdown",
   "id": "b6f7cd11-3a40-4540-8907-3bd3c76df264",
   "metadata": {},
   "source": [
    "##### To store unique elements and perform fast membership tests or set operations like union and intersection."
   ]
  },
  {
   "cell_type": "markdown",
   "id": "dcfae9ef-1ab8-4f02-9cf2-7d8a5ec208f3",
   "metadata": {},
   "source": [
    "### 6. What is a string in Python, and how is it different from a list?"
   ]
  },
  {
   "cell_type": "markdown",
   "id": "0b995b7a-a1f8-4051-a00d-2a21fa9a1573",
   "metadata": {},
   "source": [
    "##### A string is an immutable sequence of characters, while a list is a mutable sequence of any data type."
   ]
  },
  {
   "cell_type": "markdown",
   "id": "f067df7a-7359-4a87-ad14-cdff51039592",
   "metadata": {},
   "source": [
    "### 7. How do tuples ensure data integrity in Python?"
   ]
  },
  {
   "cell_type": "markdown",
   "id": "49c9b3fc-0157-4467-9bee-02f28a0ab7f4",
   "metadata": {},
   "source": [
    "##### Being immutable, tuples prevent accidental modification, ensuring data remains constant."
   ]
  },
  {
   "cell_type": "markdown",
   "id": "dcf47dc6-9f58-4183-bbf1-c6501cc7a957",
   "metadata": {},
   "source": [
    "### 8. What is a hash table, and how does it relate to dictionaries in Python?"
   ]
  },
  {
   "cell_type": "markdown",
   "id": "3c8b7406-11df-47f8-be31-d71a3f73c1fa",
   "metadata": {},
   "source": [
    "##### A hash table maps keys to values using a hash function; Python dictionaries are implemented as hash tables."
   ]
  },
  {
   "cell_type": "markdown",
   "id": "6d318111-7711-409e-a0aa-e3190aad48c6",
   "metadata": {},
   "source": [
    "### 9. Can lists contain different data types in Python?"
   ]
  },
  {
   "cell_type": "markdown",
   "id": "f599a9a8-16d0-4c2c-8713-487cb2f4597e",
   "metadata": {},
   "source": [
    "##### Yes, Python lists can store elements of mixed data types."
   ]
  },
  {
   "cell_type": "markdown",
   "id": "3e99997e-f94b-43f3-993c-c1155a332e7f",
   "metadata": {},
   "source": [
    "### 10. Explain why strings are immutable in Python."
   ]
  },
  {
   "cell_type": "markdown",
   "id": "54d7f366-0c55-41ff-9bc9-dc467e33baff",
   "metadata": {},
   "source": [
    "##### For efficiency, security, and thread safety, since changing a string would require creating a new one anyway."
   ]
  },
  {
   "cell_type": "markdown",
   "id": "0936001d-1037-4e2e-9f80-324af13ac417",
   "metadata": {},
   "source": [
    "### 11. What advantages do dictionaries offer over lists for certain tasks?"
   ]
  },
  {
   "cell_type": "markdown",
   "id": "25cd216a-e442-45ea-a258-1809733fe87b",
   "metadata": {},
   "source": [
    "##### Faster lookups, clear key-based access, and better organization of paired data."
   ]
  },
  {
   "cell_type": "markdown",
   "id": "d690f512-c280-41c7-ac47-bb3557976bbb",
   "metadata": {},
   "source": [
    "### 12. Describe a scenario where using a tuple would be preferable over a list."
   ]
  },
  {
   "cell_type": "markdown",
   "id": "6b65fa48-c88c-4aed-938a-34aab34a64ca",
   "metadata": {},
   "source": [
    "##### When storing constant configuration values or fixed records that shouldn’t change."
   ]
  },
  {
   "cell_type": "markdown",
   "id": "92862217-7512-474c-b38a-5bf965a6fa07",
   "metadata": {},
   "source": [
    "### 13. How do sets handle duplicate values in Python?"
   ]
  },
  {
   "cell_type": "markdown",
   "id": "e6fe5881-1800-49bb-b694-d7eae0f64c94",
   "metadata": {},
   "source": [
    "##### Sets automatically remove duplicates, only storing unique elements."
   ]
  },
  {
   "cell_type": "markdown",
   "id": "f45dc2a7-5569-4434-b5aa-613ceae5b250",
   "metadata": {},
   "source": [
    "### 14. How does the “in” keyword work differently for lists and dictionaries?"
   ]
  },
  {
   "cell_type": "markdown",
   "id": "0e49e421-8239-4812-b13f-acba9605f5f5",
   "metadata": {},
   "source": [
    "##### For lists: checks if an element exists.\n",
    "For dictionaries: checks if a key exists.\n"
   ]
  },
  {
   "cell_type": "markdown",
   "id": "a0340cdf-cf61-40bc-be5d-d57f63cd3ace",
   "metadata": {},
   "source": [
    "### 15. Can you modify the elements of a tuple? Explain why or why not."
   ]
  },
  {
   "cell_type": "markdown",
   "id": "b70f3d6c-e747-45da-bad5-8139a77dac79",
   "metadata": {},
   "source": [
    "##### No, because tuples are immutable."
   ]
  },
  {
   "cell_type": "markdown",
   "id": "803d9f04-d7d5-476d-9df6-44d6703c35f5",
   "metadata": {},
   "source": [
    "### 16. What is a nested dictionary, and give an example of its use case?"
   ]
  },
  {
   "cell_type": "markdown",
   "id": "868ab586-e1cf-4d0c-af3f-c9ead7cd18dd",
   "metadata": {},
   "source": [
    "##### A dictionary within another dictionary; e.g., storing student records with student IDs as keys and another dictionary as the value."
   ]
  },
  {
   "cell_type": "markdown",
   "id": "ddf3071b-ecb3-4f37-91fa-4b2271e1f601",
   "metadata": {},
   "source": [
    "### 17. Describe the time complexity of accessing elements in a dictionary."
   ]
  },
  {
   "cell_type": "markdown",
   "id": "c8570986-66c3-4744-8519-8f1ab1b5274c",
   "metadata": {},
   "source": [
    "##### Average time complexity is O(1) due to hashing."
   ]
  },
  {
   "cell_type": "markdown",
   "id": "5c5d0a81-9bd2-4602-864c-15240008773e",
   "metadata": {},
   "source": [
    "### 18. In what situations are lists preferred over dictionaries? "
   ]
  },
  {
   "cell_type": "markdown",
   "id": "fe390491-36d8-43ed-947d-98e30348f998",
   "metadata": {},
   "source": [
    "##### When maintaining order or handling simple, ordered collections without key-value pairs."
   ]
  },
  {
   "cell_type": "markdown",
   "id": "62fb2dcf-2270-4a9f-a5c1-15cf33666715",
   "metadata": {},
   "source": [
    "### 19. Why are dictionaries considered unordered, and how does that affect data retrieval?"
   ]
  },
  {
   "cell_type": "markdown",
   "id": "137c08b5-67a8-44cb-b51b-8956a1f61327",
   "metadata": {},
   "source": [
    "##### Before Python 3.7, dictionaries didn’t guarantee order; you must access values via keys, not position."
   ]
  },
  {
   "cell_type": "markdown",
   "id": "072df1e7-f84f-4e16-92aa-a31af1e95651",
   "metadata": {},
   "source": [
    "### 20. Explain the difference between a list and a dictionary in terms of data retrieval."
   ]
  },
  {
   "cell_type": "markdown",
   "id": "70e95f59-617a-4c5b-90e4-fc8938bb8188",
   "metadata": {},
   "source": [
    "##### Lists retrieve by index (position), while dictionaries retrieve by key, allowing faster lookups."
   ]
  },
  {
   "cell_type": "code",
   "execution_count": null,
   "id": "36663abc-5f61-44b2-82dd-c4ec3ef42689",
   "metadata": {},
   "outputs": [],
   "source": []
  },
  {
   "cell_type": "markdown",
   "id": "290b20c7-43f1-44ef-aa94-cd9bf6e7dedb",
   "metadata": {},
   "source": [
    "### 1️⃣ Create a string with your name and print it"
   ]
  },
  {
   "cell_type": "code",
   "execution_count": 4,
   "id": "8f47db3a-8df4-4c7f-b81b-6b1245f938b1",
   "metadata": {},
   "outputs": [
    {
     "name": "stdout",
     "output_type": "stream",
     "text": [
      "YourName\n"
     ]
    }
   ],
   "source": [
    "name = \"YourName\"\n",
    "print(name)"
   ]
  },
  {
   "cell_type": "markdown",
   "id": "b3bcf818-0bbf-41c6-af4d-45bba718ed38",
   "metadata": {},
   "source": [
    "### 2️⃣ Find the length of the string \"Hello World\""
   ]
  },
  {
   "cell_type": "code",
   "execution_count": 15,
   "id": "8bc9b117-a1c9-4727-a299-d8689267cb9d",
   "metadata": {},
   "outputs": [
    {
     "name": "stdout",
     "output_type": "stream",
     "text": [
      "11\n"
     ]
    }
   ],
   "source": [
    "s = \"Hello World\"\n",
    "print(len(s))"
   ]
  },
  {
   "cell_type": "markdown",
   "id": "b1a72299-3fab-4a33-afc7-3e346a068d4d",
   "metadata": {},
   "source": [
    "### 3️⃣ Slice the first 3 characters from the string \"Python Programming\""
   ]
  },
  {
   "cell_type": "code",
   "execution_count": 35,
   "id": "4db93c93-ff40-4c22-ab5c-964712851d88",
   "metadata": {},
   "outputs": [],
   "source": [
    "s='Python Programming'"
   ]
  },
  {
   "cell_type": "code",
   "execution_count": 39,
   "id": "705163ae-8155-45cc-b71d-4338eb006800",
   "metadata": {},
   "outputs": [
    {
     "data": {
      "text/plain": [
       "'Pyt'"
      ]
     },
     "execution_count": 39,
     "metadata": {},
     "output_type": "execute_result"
    }
   ],
   "source": [
    "s[0:3]"
   ]
  },
  {
   "cell_type": "markdown",
   "id": "8f1a366c-c954-4d78-a365-1e393c0d6209",
   "metadata": {},
   "source": [
    "### 4️⃣ Convert the string \"hello\" to uppercase"
   ]
  },
  {
   "cell_type": "code",
   "execution_count": 45,
   "id": "59569eea-2699-40d0-9b31-a0a4d7746ef8",
   "metadata": {},
   "outputs": [],
   "source": [
    "k=\"hello\""
   ]
  },
  {
   "cell_type": "code",
   "execution_count": 57,
   "id": "141f04ac-59f2-4294-827a-e5a444df1b42",
   "metadata": {},
   "outputs": [],
   "source": [
    "s=k.upper()"
   ]
  },
  {
   "cell_type": "code",
   "execution_count": 59,
   "id": "e3ba85ca-1c99-4576-a19a-fd8a364d4a5d",
   "metadata": {},
   "outputs": [
    {
     "data": {
      "text/plain": [
       "'Hello'"
      ]
     },
     "execution_count": 59,
     "metadata": {},
     "output_type": "execute_result"
    }
   ],
   "source": [
    "k"
   ]
  },
  {
   "cell_type": "markdown",
   "id": "51069b96-007b-400e-bf18-a53f0ce32e43",
   "metadata": {},
   "source": [
    "### 5️⃣ Replace the word \"apple\" with \"orange\" in the string \"I like apple\""
   ]
  },
  {
   "cell_type": "code",
   "execution_count": 63,
   "id": "5e137573-8ed2-419c-bd08-ae1d0415d83b",
   "metadata": {},
   "outputs": [],
   "source": [
    "k=\"I like apple\""
   ]
  },
  {
   "cell_type": "code",
   "execution_count": 73,
   "id": "83717ab5-0ec4-42b6-80aa-8c5e9aff3901",
   "metadata": {},
   "outputs": [
    {
     "name": "stdout",
     "output_type": "stream",
     "text": [
      "I like orange\n"
     ]
    }
   ],
   "source": [
    "print(k.replace(\"apple\" , \"orange\"))"
   ]
  },
  {
   "cell_type": "code",
   "execution_count": 71,
   "id": "11a9f9eb-db75-4de5-8712-c6e2e8e1e1d6",
   "metadata": {},
   "outputs": [
    {
     "data": {
      "text/plain": [
       "'I like orange'"
      ]
     },
     "execution_count": 71,
     "metadata": {},
     "output_type": "execute_result"
    }
   ],
   "source": [
    "s"
   ]
  },
  {
   "cell_type": "markdown",
   "id": "7fb27c61-f598-4bf9-9276-7a76557ce254",
   "metadata": {},
   "source": [
    "### 6️⃣ Create a list with numbers 1 to 5 and print it"
   ]
  },
  {
   "cell_type": "code",
   "execution_count": 76,
   "id": "a17f729f-ebd7-40d3-82b3-923ce6256482",
   "metadata": {},
   "outputs": [],
   "source": [
    "l=[1,2,3,4,5]"
   ]
  },
  {
   "cell_type": "code",
   "execution_count": 78,
   "id": "8abf2bc5-4b64-4bd6-96bc-1047aaefb4b5",
   "metadata": {},
   "outputs": [
    {
     "data": {
      "text/plain": [
       "[1, 2, 3, 4, 5]"
      ]
     },
     "execution_count": 78,
     "metadata": {},
     "output_type": "execute_result"
    }
   ],
   "source": [
    "l"
   ]
  },
  {
   "cell_type": "markdown",
   "id": "93efcb0a-3e9b-4c68-a50f-3ca612a90fef",
   "metadata": {},
   "source": [
    "### 7️⃣ Append the number 10 to the list [1, 2, 3, 4]"
   ]
  },
  {
   "cell_type": "code",
   "execution_count": 113,
   "id": "e7f884bb-a421-4488-81cd-ec52816dd1f9",
   "metadata": {},
   "outputs": [
    {
     "name": "stdout",
     "output_type": "stream",
     "text": [
      "[1, 2, 3, 4, 10]\n"
     ]
    }
   ],
   "source": [
    "k=[1,2,3,4]\n",
    "k.append(10)\n",
    "print(k)"
   ]
  },
  {
   "cell_type": "markdown",
   "id": "a0964dac-4375-45c2-9706-7408e65c0fe8",
   "metadata": {},
   "source": [
    "### 8️⃣ Remove the number 3 from the list [1, 2, 3, 4, 5]"
   ]
  },
  {
   "cell_type": "code",
   "execution_count": 126,
   "id": "47b9a57a-35fc-4cbb-8681-b3b44a8632e0",
   "metadata": {},
   "outputs": [],
   "source": [
    "s=[1,2,3,4,5]\n",
    "s.remove(3)"
   ]
  },
  {
   "cell_type": "code",
   "execution_count": 128,
   "id": "6f3b23bc-c00b-49f9-a8cb-60ced2aeb5a8",
   "metadata": {},
   "outputs": [
    {
     "data": {
      "text/plain": [
       "[1, 2, 4, 5]"
      ]
     },
     "execution_count": 128,
     "metadata": {},
     "output_type": "execute_result"
    }
   ],
   "source": [
    "s"
   ]
  },
  {
   "cell_type": "markdown",
   "id": "504aa145-2d0d-4663-8e9e-8c29628847a8",
   "metadata": {},
   "source": [
    "### 9️⃣ Access the second element in the list ['a', 'b', 'c', 'd']"
   ]
  },
  {
   "cell_type": "code",
   "execution_count": 133,
   "id": "3ae89b3e-a77f-44af-b6b8-21effa42a8a9",
   "metadata": {},
   "outputs": [
    {
     "data": {
      "text/plain": [
       "'b'"
      ]
     },
     "execution_count": 133,
     "metadata": {},
     "output_type": "execute_result"
    }
   ],
   "source": [
    "x=['a','b','c','d']\n",
    "x[1]"
   ]
  },
  {
   "cell_type": "markdown",
   "id": "a529b818-9e3c-44bd-80f6-9394c36cc917",
   "metadata": {},
   "source": [
    "### 🔟 Reverse the list [10, 20, 30, 40, 50]"
   ]
  },
  {
   "cell_type": "code",
   "execution_count": 137,
   "id": "f40ee9cf-8b9b-42b3-bc4c-406141f4ff5d",
   "metadata": {},
   "outputs": [],
   "source": [
    "y=[10,20,30,40,50]\n",
    "y.reverse()"
   ]
  },
  {
   "cell_type": "code",
   "execution_count": 141,
   "id": "8c82da93-e909-4291-a39b-290b82330a2d",
   "metadata": {},
   "outputs": [
    {
     "data": {
      "text/plain": [
       "[50, 40, 30, 20, 10]"
      ]
     },
     "execution_count": 141,
     "metadata": {},
     "output_type": "execute_result"
    }
   ],
   "source": [
    "y"
   ]
  },
  {
   "cell_type": "markdown",
   "id": "0c5587f5-2bee-400e-9827-83ed91b513a9",
   "metadata": {},
   "source": [
    "### 1️⃣1️⃣ Create a tuple with 100, 200, 300 and print it"
   ]
  },
  {
   "cell_type": "code",
   "execution_count": 146,
   "id": "b0ec44e5-967d-4b1e-87f5-80c5c232142d",
   "metadata": {},
   "outputs": [
    {
     "name": "stdout",
     "output_type": "stream",
     "text": [
      "(100, 200, 300)\n"
     ]
    }
   ],
   "source": [
    "t=(100,200,300)\n",
    "print(t)"
   ]
  },
  {
   "cell_type": "markdown",
   "id": "21b0abb1-202c-47d1-8c36-08ea291a9f91",
   "metadata": {},
   "source": [
    "### 1️⃣2️⃣ Access the second-to-last element of the tuple ('red', 'green', 'blue', 'yellow')"
   ]
  },
  {
   "cell_type": "code",
   "execution_count": 153,
   "id": "d5b3f647-43c5-4bae-bd36-43e0d61672f5",
   "metadata": {},
   "outputs": [
    {
     "data": {
      "text/plain": [
       "('green', 'blue', 'yellow')"
      ]
     },
     "execution_count": 153,
     "metadata": {},
     "output_type": "execute_result"
    }
   ],
   "source": [
    "t=('red','green','blue','yellow')\n",
    "t[1: ]"
   ]
  },
  {
   "cell_type": "markdown",
   "id": "5d176583-9bae-4984-85d9-06ceb17b5c12",
   "metadata": {},
   "source": [
    "### 1️⃣3️⃣ Find the minimum number in the tuple (10, 20, 5, 15)"
   ]
  },
  {
   "cell_type": "code",
   "execution_count": 156,
   "id": "c5bdcc32-b76e-40c9-8c5a-30276cca0560",
   "metadata": {},
   "outputs": [
    {
     "name": "stdout",
     "output_type": "stream",
     "text": [
      "5\n"
     ]
    }
   ],
   "source": [
    "t=(10,20,5,15)\n",
    "print(min(t))"
   ]
  },
  {
   "cell_type": "markdown",
   "id": "71400b9c-ba60-4a10-992d-8969bc518812",
   "metadata": {},
   "source": [
    "### 1️⃣4️⃣ Find the index of \"cat\" in the tuple ('dog', 'cat', 'rabbit')"
   ]
  },
  {
   "cell_type": "code",
   "execution_count": 161,
   "id": "9d0f66e1-6f9f-4fc9-92b0-915f803b8a8f",
   "metadata": {},
   "outputs": [
    {
     "data": {
      "text/plain": [
       "1"
      ]
     },
     "execution_count": 161,
     "metadata": {},
     "output_type": "execute_result"
    }
   ],
   "source": [
    "t=('dog','cat','rabbit')\n",
    "t.index('cat')"
   ]
  },
  {
   "cell_type": "markdown",
   "id": "584504b3-30be-43ea-93b9-10369acda58f",
   "metadata": {},
   "source": [
    "### 1️⃣5️⃣ Create a tuple with three fruits and check if 'kiwi' is in it"
   ]
  },
  {
   "cell_type": "code",
   "execution_count": 166,
   "id": "d30dab23-84f7-460c-9f69-807925f59b57",
   "metadata": {},
   "outputs": [
    {
     "name": "stdout",
     "output_type": "stream",
     "text": [
      "True\n"
     ]
    }
   ],
   "source": [
    "t=('mango','orange','kiwi','apple','banana')\n",
    "print('kiwi' in t)"
   ]
  },
  {
   "cell_type": "code",
   "execution_count": 168,
   "id": "57f0eddb-9dcb-498c-9614-be1f8dfef8b0",
   "metadata": {},
   "outputs": [
    {
     "name": "stdout",
     "output_type": "stream",
     "text": [
      "False\n"
     ]
    }
   ],
   "source": [
    "y = ('apple', 'banana', 'orange')\n",
    "print('kiwi' in y)"
   ]
  },
  {
   "cell_type": "markdown",
   "id": "d923f790-cd22-493a-b824-bd7e111d5427",
   "metadata": {},
   "source": [
    "### 1️⃣6️⃣ Create a set with 'a', 'b', 'c' and print it"
   ]
  },
  {
   "cell_type": "code",
   "execution_count": 171,
   "id": "86049d15-3fa6-4e38-82af-01ea8819e20b",
   "metadata": {},
   "outputs": [
    {
     "name": "stdout",
     "output_type": "stream",
     "text": [
      "{'a', 'b', 'c'}\n"
     ]
    }
   ],
   "source": [
    "s={'a','b','c'}\n",
    "print(s)"
   ]
  },
  {
   "cell_type": "markdown",
   "id": "58900560-857e-4afe-af68-99935c523176",
   "metadata": {},
   "source": [
    "### 1️⃣7️⃣ Clear all elements from the set {1, 2, 3, 4, 5}"
   ]
  },
  {
   "cell_type": "code",
   "execution_count": 182,
   "id": "ce0f6f60-1bf3-4807-9e32-1e16b22c54f3",
   "metadata": {},
   "outputs": [],
   "source": [
    "s={1,2,3,4,5}"
   ]
  },
  {
   "cell_type": "code",
   "execution_count": 190,
   "id": "2277dccb-0ed8-47b5-9e1c-a63cf8253bbd",
   "metadata": {},
   "outputs": [
    {
     "data": {
      "text/plain": [
       "{1, 2, 3, 4, 5}"
      ]
     },
     "execution_count": 190,
     "metadata": {},
     "output_type": "execute_result"
    }
   ],
   "source": [
    "s"
   ]
  },
  {
   "cell_type": "code",
   "execution_count": 192,
   "id": "8c0ecf0e-ccf7-4615-841c-c8a3e60ed24f",
   "metadata": {},
   "outputs": [],
   "source": [
    "del(s)"
   ]
  },
  {
   "cell_type": "markdown",
   "id": "4b787aa0-3740-4960-ac49-7c85e3fbf2ed",
   "metadata": {},
   "source": [
    "### 1️⃣8️⃣ Remove the element 4 from the set {1, 2, 3, 4}"
   ]
  },
  {
   "cell_type": "code",
   "execution_count": 198,
   "id": "28cf1d14-be81-4d1f-ad5e-dabcdb537400",
   "metadata": {},
   "outputs": [],
   "source": [
    "s={1,2,3,4}\n",
    "s.remove(4)"
   ]
  },
  {
   "cell_type": "code",
   "execution_count": 202,
   "id": "ff1efb46-73a2-41ce-8961-473447d628ab",
   "metadata": {},
   "outputs": [
    {
     "data": {
      "text/plain": [
       "{1, 2, 3}"
      ]
     },
     "execution_count": 202,
     "metadata": {},
     "output_type": "execute_result"
    }
   ],
   "source": [
    "s"
   ]
  },
  {
   "cell_type": "markdown",
   "id": "fdfd8595-2aa5-4a78-b901-8b9b19d96587",
   "metadata": {},
   "source": [
    "### 1️⃣9️⃣ Find the union of {1, 2, 3} and {3, 4, 5}"
   ]
  },
  {
   "cell_type": "code",
   "execution_count": 207,
   "id": "325e2db8-164e-4a66-8383-acb8b9ec3dcb",
   "metadata": {},
   "outputs": [],
   "source": [
    "s1={1,2,3}\n",
    "s2={3,4,5}"
   ]
  },
  {
   "cell_type": "code",
   "execution_count": 209,
   "id": "983a2500-240a-4c4b-8ff3-1e1000831d50",
   "metadata": {},
   "outputs": [],
   "source": [
    "s=s1.union(s2)"
   ]
  },
  {
   "cell_type": "code",
   "execution_count": 213,
   "id": "926d2c7f-d470-40d8-91f4-fe492ac766a3",
   "metadata": {},
   "outputs": [
    {
     "data": {
      "text/plain": [
       "{1, 2, 3, 4, 5}"
      ]
     },
     "execution_count": 213,
     "metadata": {},
     "output_type": "execute_result"
    }
   ],
   "source": [
    "s"
   ]
  },
  {
   "cell_type": "markdown",
   "id": "1e8a3a0d-09a5-43c7-9c92-2a69671f962a",
   "metadata": {},
   "source": [
    "### 2️⃣0️⃣ Find the intersection of {1, 2, 3} and {2, 3, 4}"
   ]
  },
  {
   "cell_type": "code",
   "execution_count": 246,
   "id": "d2bd1d28-1f42-442f-a327-f4ecc5dc2480",
   "metadata": {},
   "outputs": [],
   "source": [
    "s3={1,2,3}\n",
    "s4={2,3,4}"
   ]
  },
  {
   "cell_type": "code",
   "execution_count": 248,
   "id": "eef76d3e-5f1b-4377-8f86-2796d46328e2",
   "metadata": {},
   "outputs": [],
   "source": [
    "s=s3.intersection(s4)"
   ]
  },
  {
   "cell_type": "code",
   "execution_count": 252,
   "id": "273d8c9f-e963-4d5e-a7e7-38fdb157147e",
   "metadata": {},
   "outputs": [
    {
     "data": {
      "text/plain": [
       "{2, 3}"
      ]
     },
     "execution_count": 252,
     "metadata": {},
     "output_type": "execute_result"
    }
   ],
   "source": [
    "s"
   ]
  },
  {
   "cell_type": "markdown",
   "id": "c3067ad5-f521-451d-b967-c25acc2a4fa6",
   "metadata": {},
   "source": [
    "### 2️⃣1️⃣ Create a dictionary with keys \"name\", \"age\", \"city\" and print it"
   ]
  },
  {
   "cell_type": "code",
   "execution_count": 259,
   "id": "2d396c1f-68e1-42d5-956e-1f3516e62fa7",
   "metadata": {},
   "outputs": [
    {
     "name": "stdout",
     "output_type": "stream",
     "text": [
      "{'name': 'sakshi', 'age': '19', 'city': 'delhi'}\n"
     ]
    }
   ],
   "source": [
    "d={\"name\":\"sakshi\",\"age\":\"19\",\"city\":\"delhi\"}\n",
    "print(d)"
   ]
  },
  {
   "cell_type": "markdown",
   "id": "45e62fb3-07b3-4bcd-8731-8936f06ad002",
   "metadata": {},
   "source": [
    "### 2️⃣2️⃣ Add a new key-value pair 'country': 'USA' to {'name': 'John', 'age': 25}"
   ]
  },
  {
   "cell_type": "code",
   "execution_count": 273,
   "id": "6cad489e-0a8c-489b-a822-d0a4c33b8bbe",
   "metadata": {},
   "outputs": [
    {
     "name": "stdout",
     "output_type": "stream",
     "text": [
      "{'name': 'John', 'age': 25, 'country': ['USA']}\n"
     ]
    }
   ],
   "source": [
    "d={'name': 'John', 'age': 25}\n",
    "d['country']=[\"USA\"]\n",
    "print(d)"
   ]
  },
  {
   "cell_type": "markdown",
   "id": "bc17ff2b-1e73-4572-b329-add5f1d2a0a9",
   "metadata": {},
   "source": [
    "### 2️⃣3️⃣ Access the value associated with key 'name' in {'name': 'Alice', 'age': 30}"
   ]
  },
  {
   "cell_type": "code",
   "execution_count": 276,
   "id": "d17563e8-b8f0-47cd-8256-2d812124f547",
   "metadata": {},
   "outputs": [
    {
     "data": {
      "text/plain": [
       "'Alice'"
      ]
     },
     "execution_count": 276,
     "metadata": {},
     "output_type": "execute_result"
    }
   ],
   "source": [
    "d={'name': 'Alice', 'age': 30}\n",
    "d['name']"
   ]
  },
  {
   "cell_type": "markdown",
   "id": "69590102-7b27-4bd5-b608-258e7238f183",
   "metadata": {},
   "source": [
    "### 2️⃣4️⃣ Remove the key 'age' from {'name': 'Bob', 'age': 22, 'city': 'New York'}"
   ]
  },
  {
   "cell_type": "code",
   "execution_count": 284,
   "id": "f2907056-079a-4f61-92a6-1b2e0563d8c4",
   "metadata": {},
   "outputs": [
    {
     "data": {
      "text/plain": [
       "22"
      ]
     },
     "execution_count": 284,
     "metadata": {},
     "output_type": "execute_result"
    }
   ],
   "source": [
    "d={'name': 'Bob', 'age': 22, 'city': 'New York'}\n",
    "d.pop('age')"
   ]
  },
  {
   "cell_type": "code",
   "execution_count": 288,
   "id": "3d91d012-38a0-4d1c-835e-463c86c83881",
   "metadata": {},
   "outputs": [
    {
     "data": {
      "text/plain": [
       "{'name': 'Bob', 'city': 'New York'}"
      ]
     },
     "execution_count": 288,
     "metadata": {},
     "output_type": "execute_result"
    }
   ],
   "source": [
    "d"
   ]
  },
  {
   "cell_type": "markdown",
   "id": "9673ad5f-d34f-4041-a104-20f40df7c857",
   "metadata": {},
   "source": [
    "### 2️⃣5️⃣ Check if the key 'city' exists in {'name': 'Alice', 'city': 'Paris'}"
   ]
  },
  {
   "cell_type": "raw",
   "id": "330c911f-0cfd-4d46-95ea-30967b2546eb",
   "metadata": {
    "jupyter": {
     "source_hidden": true
    }
   },
   "source": [
    "d={'name': 'Alice', 'city': 'Paris'}\n",
    "print('city'in d)"
   ]
  },
  {
   "cell_type": "markdown",
   "id": "18b9b274-2b34-4a53-b5e5-589481ab689f",
   "metadata": {},
   "source": [
    "### 2️⃣6️⃣ Create a list, tuple, and dictionary, and print them all"
   ]
  },
  {
   "cell_type": "code",
   "execution_count": 11,
   "id": "5a299e1f-d548-40b9-8def-496d009413ad",
   "metadata": {},
   "outputs": [],
   "source": [
    "l=[1,2,3,4]\n",
    "t=(5,6,7,8)\n",
    "d={9,10,11,12}"
   ]
  },
  {
   "cell_type": "code",
   "execution_count": 13,
   "id": "c5972416-5e14-4c46-8f04-071c4bf39b2c",
   "metadata": {},
   "outputs": [
    {
     "name": "stdout",
     "output_type": "stream",
     "text": [
      "[1, 2, 3, 4] (5, 6, 7, 8) {9, 10, 11, 12}\n"
     ]
    }
   ],
   "source": [
    "print(l,t,d)"
   ]
  },
  {
   "cell_type": "markdown",
   "id": "3019ed38-1c32-4482-8edd-18336d1934cd",
   "metadata": {},
   "source": [
    "### 2️⃣7️⃣ Create a list of 5 random numbers between 1–100, sort, and print"
   ]
  },
  {
   "cell_type": "code",
   "execution_count": 22,
   "id": "5b194418-7d48-404b-ab32-108ba2a76cd3",
   "metadata": {},
   "outputs": [
    {
     "name": "stdout",
     "output_type": "stream",
     "text": [
      "[25, 48, 54, 73, 94]\n"
     ]
    }
   ],
   "source": [
    "import random\n",
    "num = [random.randint(1,100) for i in range(5)]\n",
    "num.sort()\n",
    "print(num)"
   ]
  },
  {
   "cell_type": "markdown",
   "id": "da6d8e77-74f5-42de-8d7c-4f9121fe012f",
   "metadata": {},
   "source": [
    "### 2️⃣8️⃣ Create a list with strings and print the element at index 3"
   ]
  },
  {
   "cell_type": "code",
   "execution_count": 27,
   "id": "b58819ef-d40c-46a1-a64a-224778a88eeb",
   "metadata": {},
   "outputs": [
    {
     "data": {
      "text/plain": [
       "'yellow'"
      ]
     },
     "execution_count": 27,
     "metadata": {},
     "output_type": "execute_result"
    }
   ],
   "source": [
    "l=['blue','black','green','yellow','white']\n",
    "l[3]"
   ]
  },
  {
   "cell_type": "markdown",
   "id": "015e0d91-e9bc-4363-9da6-9aa995aeecee",
   "metadata": {},
   "source": [
    "### 2️⃣9️⃣ Combine two dictionaries and print the result"
   ]
  },
  {
   "cell_type": "code",
   "execution_count": 36,
   "id": "2f310cd2-2ef9-46b3-89d2-57a7cab3613f",
   "metadata": {},
   "outputs": [
    {
     "name": "stdout",
     "output_type": "stream",
     "text": [
      "{'a': 1, 'b': 2, 'f': 5, 'c': 3, 'd': 4, 'g': 6}\n"
     ]
    }
   ],
   "source": [
    "d1 = {'a': 1, 'b': 2,'f':5}\n",
    "d2 = {'c': 3, 'd': 4,'g':6}\n",
    "combined = {**d1, **d2}\n",
    "print(combined)"
   ]
  },
  {
   "cell_type": "markdown",
   "id": "f7633dad-cc0c-4c34-ad85-2ff8dbbc2bf0",
   "metadata": {},
   "source": [
    "### 3️⃣0️⃣ Convert a list of strings into a set"
   ]
  },
  {
   "cell_type": "code",
   "execution_count": 39,
   "id": "1aacec44-6e6c-4bba-93dc-5f634677c3e3",
   "metadata": {},
   "outputs": [
    {
     "name": "stdout",
     "output_type": "stream",
     "text": [
      "{1, 2, 3, 4, 5, 6}\n"
     ]
    }
   ],
   "source": [
    "l=[1,2,3,4,5,6]\n",
    "s=set(l)\n",
    "print(s)"
   ]
  }
 ],
 "metadata": {
  "kernelspec": {
   "display_name": "Python [conda env:base]",
   "language": "python",
   "name": "conda-base-py"
  },
  "language_info": {
   "codemirror_mode": {
    "name": "ipython",
    "version": 3
   },
   "file_extension": ".py",
   "mimetype": "text/x-python",
   "name": "python",
   "nbconvert_exporter": "python",
   "pygments_lexer": "ipython3",
   "version": "3.12.7"
  }
 },
 "nbformat": 4,
 "nbformat_minor": 5
}
