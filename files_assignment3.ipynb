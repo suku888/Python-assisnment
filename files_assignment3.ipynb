{
  "nbformat": 4,
  "nbformat_minor": 0,
  "metadata": {
    "colab": {
      "provenance": []
    },
    "kernelspec": {
      "name": "python3",
      "display_name": "Python 3"
    },
    "language_info": {
      "name": "python"
    }
  },
  "cells": [
    {
      "cell_type": "markdown",
      "source": [
        "1. Difference between interpreted and compiled languages?\n",
        "\n",
        ". Compiled: Translates code to machine code before execution (e.g., C, C++).\n",
        ". Interpreted: Executes code line-by-line without pre-compilation (e.g., Python)."
      ],
      "metadata": {
        "id": "F_HbH6_RV2CK"
      }
    },
    {
      "cell_type": "markdown",
      "source": [
        "2. What is exception handling in Python?\n",
        "\n",
        "Mechanism to handle runtime errors using try, except, finally, and else."
      ],
      "metadata": {
        "id": "ser6xOcqXE35"
      }
    },
    {
      "cell_type": "markdown",
      "source": [
        "3. Purpose of the finally block?\n",
        "\n",
        "Executes code regardless of whether an exception occurred or not, usually for cleanup.\n",
        "\n"
      ],
      "metadata": {
        "id": "J54hSsdYYbL5"
      }
    },
    {
      "cell_type": "markdown",
      "source": [
        "4. What is logging in Python?\n",
        "\n",
        "A module to track events and errors while a program runs, helpful for debugging.\n",
        "\n"
      ],
      "metadata": {
        "id": "M7Q8lq-0YbPe"
      }
    },
    {
      "cell_type": "markdown",
      "source": [
        "5. Significance of __del__ method?\n",
        "\n",
        "It's a destructor method called when an object is about to be destroyed (cleanup tasks).\n",
        "\n"
      ],
      "metadata": {
        "id": "C7vwC_y2Ybbo"
      }
    },
    {
      "cell_type": "markdown",
      "source": [
        "6. . Difference between import and from ... import?\n",
        "\n",
        "import module: Access using module.function().\n",
        "\n",
        "from module import function: Directly use function().\n",
        "\n"
      ],
      "metadata": {
        "id": "Nw86YDh0Ybe_"
      }
    },
    {
      "cell_type": "markdown",
      "source": [
        ". Handling multiple exceptions?\n",
        "\n",
        "Use multiple except blocks or group exceptions:\n",
        "\n",
        " try:\n",
        "    ...\n",
        "except (TypeError, ValueError) as e:\n",
        "    print(e)\n"
      ],
      "metadata": {
        "id": "LOZpurxIYbk8"
      }
    },
    {
      "cell_type": "markdown",
      "source": [
        "8. Purpose of with statement for files?\n",
        "Manages resources efficiently; automatically closes files.\n",
        "\n",
        "with open(\"file.txt\") as f:\n",
        "    data = f.read()\n"
      ],
      "metadata": {
        "id": "c5TMxP2EYbod"
      }
    },
    {
      "cell_type": "markdown",
      "source": [
        "9. Multithreading vs. Multiprocessing?\n",
        "\n",
        "Multithreading: Multiple threads, shared memory (better for I/O tasks).\n",
        "\n",
        "Multiprocessing: Separate processes, separate memory (better for CPU tasks).\n",
        "\n"
      ],
      "metadata": {
        "id": "K5pGuLJpXE6h"
      }
    },
    {
      "cell_type": "markdown",
      "source": [
        "10. Advantages of logging?\n",
        "\n",
        "Tracks errors, performance, and user activity; helpful in debugging and auditing."
      ],
      "metadata": {
        "id": "rTEWjUQVZaVj"
      }
    },
    {
      "cell_type": "markdown",
      "source": [
        "11. Memory management in Python?\n",
        "\n",
        "Automatic via garbage collection; Python handles allocation and deallocation."
      ],
      "metadata": {
        "id": "uJ-7ai22ZaZK"
      }
    },
    {
      "cell_type": "markdown",
      "source": [
        "12. Basic steps in exception handling?\n",
        "\n",
        ". Use try block for risky code.\n",
        "\n",
        ". Use except block to handle exceptions.\n",
        "\n",
        ". Optionally use else and finally.\n",
        "\n"
      ],
      "metadata": {
        "id": "Apz6U3sTZai7"
      }
    },
    {
      "cell_type": "markdown",
      "source": [
        "13. Why is memory management important?\n",
        "\n",
        "Prevents memory leaks, optimizes performance, and ensures program stability."
      ],
      "metadata": {
        "id": "tz6HajwBZamY"
      }
    },
    {
      "cell_type": "markdown",
      "source": [
        "14. Role of try and except?\n",
        "\n",
        ". try: Run code that may throw errors.\n",
        "\n",
        ". except: Handle the errors gracefully.\n",
        "\n"
      ],
      "metadata": {
        "id": "X4cC2pV_Zapz"
      }
    },
    {
      "cell_type": "markdown",
      "source": [
        "15. Garbage collection system?\n",
        "\n",
        ". Uses reference counting and generational garbage collection to free unused memory.\n",
        "\n"
      ],
      "metadata": {
        "id": "FDa9SaRNZatZ"
      }
    },
    {
      "cell_type": "markdown",
      "source": [
        "16. Purpose of else in exception handling?\n",
        "\n",
        ". Runs code if try block succeeds and no exception is raised.\n",
        "\n"
      ],
      "metadata": {
        "id": "YMqxNsYEaXSr"
      }
    },
    {
      "cell_type": "markdown",
      "source": [
        "17. Common logging levels?\n",
        "\n",
        ". DEBUG, INFO, WARNING, ERROR, CRITICAL\n",
        "\n"
      ],
      "metadata": {
        "id": "i9oa0imTaXVT"
      }
    },
    {
      "cell_type": "markdown",
      "source": [
        "18. Difference: os.fork() vs multiprocessing?\n",
        "\n",
        ". os.fork(): Low-level, Unix-only, creates a child process.\n",
        "\n",
        ". multiprocessing: Cross-platform module for process-based parallelism.\n",
        "\n"
      ],
      "metadata": {
        "id": "Xt6YLyENaXY2"
      }
    },
    {
      "cell_type": "markdown",
      "source": [
        "19. Importance of closing a file?\n",
        "\n",
        ". Frees system resources and ensures data is written to disk.\n",
        "\n"
      ],
      "metadata": {
        "id": "TX4s_PBZXE-i"
      }
    },
    {
      "cell_type": "markdown",
      "source": [
        "20. Difference: file.read() vs file.readline()?\n",
        "\n",
        ". read(): Reads the whole file.\n",
        "\n",
        ". readline(): Reads one line at a time.\n",
        "\n"
      ],
      "metadata": {
        "id": "SDDQnvGVa70e"
      }
    },
    {
      "cell_type": "markdown",
      "source": [
        "21. What is the logging module used for?\n",
        "\n",
        "For writing logs to files or consoles to track program events.\n",
        "\n"
      ],
      "metadata": {
        "id": "PmoRoxHFa8Bo"
      }
    },
    {
      "cell_type": "markdown",
      "source": [
        "22. What is the os module used for in file handling?\n",
        "\n",
        "To interact with the operating system: file paths, directories, environment variables, etc.\n",
        "\n"
      ],
      "metadata": {
        "id": "hMZ25U8na8EE"
      }
    },
    {
      "cell_type": "markdown",
      "source": [
        "23. What are the challenges associated with memory management in python?\n",
        "\n",
        ". Reference Cycles\n",
        "\n",
        ". Unpredictable Garbage Collection Timing\n",
        "\n",
        ". Memory Fragmentation\n",
        "\n",
        ". Global Interpreter Lock (GIL)\n",
        "\n",
        ". Large Object Retention\n",
        "\n",
        ". Hidden References\n",
        "\n",
        "\n",
        "\n"
      ],
      "metadata": {
        "id": "ghm5LHUPa8Hh"
      }
    },
    {
      "cell_type": "markdown",
      "source": [
        "24. How do you raise an exception manually in python?\n",
        "\n",
        "raise ExceptionType(\"Optional error message\")\n",
        "\n",
        ". Example 1: Raising a built-in exception\n",
        "\n",
        " age = -5\n",
        "if age < 0:\n",
        "    raise ValueError(\"Age cannot be negative\")\n",
        "\n",
        ". Example 2: Raising a custom exception\n",
        "\n",
        "\n",
        "class MyCustomError(Exception):\n",
        "    pass\n",
        "    \n",
        "\n",
        "raise MyCustomError(\"This is a custom error\")\n",
        "\n"
      ],
      "metadata": {
        "id": "k0KSqw8kbgJo"
      }
    },
    {
      "cell_type": "markdown",
      "source": [
        "25. Why is it important to use multithreading in certain applications?\n",
        " 1. Improved Responsiveness\n",
        "\n",
        ". In GUI or web applications, multithreading allows the interface to stay responsive while other operations (like file loading or network requests) run in the background.\n",
        "\n",
        "Example: A video player that plays video while downloading subtitles.\n",
        "\n",
        "2. Efficient Use of I/O-Bound Resources\n",
        "\n",
        ". Threads are ideal for I/O-bound tasks (e.g., reading/writing files, network requests, database operations).\n",
        "\n",
        ". While one thread waits for I/O, others can continue working, improving overall throughput.\n",
        "\n",
        "3. Simplifies Program Structure\n",
        "\n",
        " .Easier to model real-world concurrent activities.\n",
        "\n",
        "Example: In a chat server, one thread handles user input, another handles message broadcasting.\n",
        "\n",
        "\n",
        "4. Better Resource Utilization\n",
        "\n",
        ". Threads share the same memory space, making communication between them more efficient than between processes (no need for inter-process communication).\n",
        "\n",
        "\n",
        "\n",
        "\n",
        "\n",
        "\n"
      ],
      "metadata": {
        "id": "ErNd9uWObgNK"
      }
    },
    {
      "cell_type": "code",
      "source": [
        "1. # How can you open a file for writing in python and write a string to it?\n",
        "\n",
        "with open(\"output.txt\", \"w\") as file:\n",
        "    file.write(\"Hello, Python!\")\n"
      ],
      "metadata": {
        "id": "OrPP9aKMepc9"
      },
      "execution_count": 1,
      "outputs": []
    },
    {
      "cell_type": "code",
      "source": [
        "2. #write a python program to read the contents of a file and print each line.\n",
        "\n",
        "with open(\"output.txt\", \"r\") as file:\n",
        "    for line in file:\n",
        "        print(line.strip())\n"
      ],
      "metadata": {
        "colab": {
          "base_uri": "https://localhost:8080/"
        },
        "id": "W0A7w4wkeprE",
        "outputId": "8fb6046d-4795-47a1-8d2c-a2ba0b2cf404"
      },
      "execution_count": 9,
      "outputs": [
        {
          "output_type": "stream",
          "name": "stdout",
          "text": [
            "Hello, Python!\n"
          ]
        }
      ]
    },
    {
      "cell_type": "code",
      "source": [
        "3. #How would you handle a case where a case where the file doesn't exist while trying to open it for reading?\n",
        "\n",
        "try:\n",
        "    with open(\"nonexistent_file.txt\", \"r\") as file:\n",
        "        content = file.read()\n",
        "except FileNotFoundError:\n",
        "    print(\"File not found.\")\n"
      ],
      "metadata": {
        "colab": {
          "base_uri": "https://localhost:8080/"
        },
        "id": "Jk8MM3Ntept3",
        "outputId": "34fc4fbc-f6f5-46d4-8545-f1b21e63446b"
      },
      "execution_count": 10,
      "outputs": [
        {
          "output_type": "stream",
          "name": "stdout",
          "text": [
            "File not found.\n"
          ]
        }
      ]
    },
    {
      "cell_type": "code",
      "source": [
        "4. #write a python script that reads from one file and writes its content to another file.\n",
        "import os\n",
        "\n",
        "if os.path.exists(\"input.text\"):\n",
        "    with open(\"input.text\", \"r\") as source_file:\n",
        "        content = source_file.read()\n",
        "\n",
        "    with open(\"output.text\", \"w\") as target_file:\n",
        "        target_file.write(content)\n",
        "else:\n",
        "    print(\"Error: input.text not found.\")"
      ],
      "metadata": {
        "colab": {
          "base_uri": "https://localhost:8080/"
        },
        "id": "dhKCoRfPiwZu",
        "outputId": "3aec16b3-f919-44e8-ef62-187a2f936bb6"
      },
      "execution_count": 15,
      "outputs": [
        {
          "output_type": "stream",
          "name": "stdout",
          "text": [
            "Error: input.text not found.\n"
          ]
        }
      ]
    },
    {
      "cell_type": "code",
      "source": [
        "5. # How would you catch and handle division by zero error in python?\n",
        "\n",
        "try:\n",
        "    result = 10 / 0\n",
        "except ZeroDivisionError:\n",
        "    print(\"Error: Division by zero.\")"
      ],
      "metadata": {
        "colab": {
          "base_uri": "https://localhost:8080/"
        },
        "id": "XcceiR-4iwdF",
        "outputId": "b03cec44-fe57-44c9-ed71-7c54bbbdc3fd"
      },
      "execution_count": 16,
      "outputs": [
        {
          "output_type": "stream",
          "name": "stdout",
          "text": [
            "Error: Division by zero.\n"
          ]
        }
      ]
    },
    {
      "cell_type": "code",
      "source": [
        "6. #write a python  program that logs an error message to a log file when a division by zero exception occurs.\n",
        "\n",
        "import logging\n",
        "\n",
        "logging.basicConfig(filename=\"error_log.txt\", level=logging.ERROR)\n",
        "\n",
        "try:\n",
        "    result = 10 / 0\n",
        "except ZeroDivisionError:\n",
        "    logging.error(\"Division by zero error occurred.\")"
      ],
      "metadata": {
        "colab": {
          "base_uri": "https://localhost:8080/"
        },
        "id": "9tM8E_KpiwmP",
        "outputId": "6ec4c39f-10ba-451c-c46c-6ccf74c30e08"
      },
      "execution_count": 17,
      "outputs": [
        {
          "output_type": "stream",
          "name": "stderr",
          "text": [
            "ERROR:root:Division by zero error occurred.\n"
          ]
        }
      ]
    },
    {
      "cell_type": "code",
      "source": [
        "7. #How do you log information at different levels(info, error,warning) in python using the logging module?\n",
        "\n",
        "import logging\n",
        "\n",
        "logging.basicConfig(level=logging.INFO)\n",
        "\n",
        "logging.info(\"This is an info message.\")\n",
        "\n",
        "logging.warning(\"This is a warning message.\")\n",
        "\n",
        "logging.error(\"This is an error message.\")"
      ],
      "metadata": {
        "colab": {
          "base_uri": "https://localhost:8080/"
        },
        "id": "xDak0uRsiwpZ",
        "outputId": "9e03a907-6ce4-4eaa-8c80-8c50dc05063a"
      },
      "execution_count": 18,
      "outputs": [
        {
          "output_type": "stream",
          "name": "stderr",
          "text": [
            "WARNING:root:This is a warning message.\n",
            "ERROR:root:This is an error message.\n"
          ]
        }
      ]
    },
    {
      "cell_type": "code",
      "source": [
        "8. #write a program to handle a file opening error using exception handling.\n",
        "\n",
        "try:\n",
        "    with open(\"nonexistent_file.txt\", \"r\") as file:\n",
        "        content = file.read()\n",
        "except FileNotFoundError:\n",
        "    print(\"Error: File not found.\")"
      ],
      "metadata": {
        "colab": {
          "base_uri": "https://localhost:8080/"
        },
        "id": "7rNtTdotiwsp",
        "outputId": "9c8d6127-72df-46fb-c4e5-ad49e7c69ab3"
      },
      "execution_count": 19,
      "outputs": [
        {
          "output_type": "stream",
          "name": "stdout",
          "text": [
            "Error: File not found.\n"
          ]
        }
      ]
    },
    {
      "cell_type": "code",
      "source": [
        "9. #How can you read a file line by line and store its content in a list in python?\n",
        "\n",
        "with open(\"output.txt\", \"r\") as file:\n",
        "    lines = file.readlines()\n",
        "\n",
        "for line in lines:\n",
        "    print(line.strip())"
      ],
      "metadata": {
        "colab": {
          "base_uri": "https://localhost:8080/"
        },
        "id": "OfKobpV-iwwO",
        "outputId": "0fe65671-cb05-4f44-c22a-6083f8f89f34"
      },
      "execution_count": 20,
      "outputs": [
        {
          "output_type": "stream",
          "name": "stdout",
          "text": [
            "Hello, Python!\n"
          ]
        }
      ]
    },
    {
      "cell_type": "code",
      "source": [
        "10. #How can you append data to an exixting file in python?\n",
        "\n",
        "with open(\"output.txt\", \"a\") as file:\n",
        "    file.write(\"\\nAppended line.\")"
      ],
      "metadata": {
        "id": "JIX4aCSeiwzq"
      },
      "execution_count": 21,
      "outputs": []
    },
    {
      "cell_type": "code",
      "source": [
        "11. #Write a python program that uses a try-except block to handle an error when attempting to access a dictionary key that doesn't exist.\n",
        "\n",
        "my_dict = {\"key\": \"value\"}\n",
        "\n",
        "try:\n",
        "    value = my_dict[\"nonexistent_key\"]\n",
        "except KeyError:\n",
        "    print(\"Error: Key not found in the dictionary.\")"
      ],
      "metadata": {
        "colab": {
          "base_uri": "https://localhost:8080/"
        },
        "id": "VxcVSF5Lkr9k",
        "outputId": "6343c546-5a68-46a9-c7e7-eca0a95904c6"
      },
      "execution_count": 22,
      "outputs": [
        {
          "output_type": "stream",
          "name": "stdout",
          "text": [
            "Error: Key not found in the dictionary.\n"
          ]
        }
      ]
    },
    {
      "cell_type": "code",
      "source": [
        "12. # Write a program that demonstrates using multiple except block to handle different types of exceptions.\n",
        "\n",
        "try:\n",
        "    result = 10 / 0\n",
        "except ZeroDivisionError:\n",
        "    print(\"Error: Division by zero.\")\n",
        "except ValueError:\n",
        "    print(\"Error: Invalid value.\")\n"
      ],
      "metadata": {
        "colab": {
          "base_uri": "https://localhost:8080/"
        },
        "id": "-oMgYaoMksAI",
        "outputId": "0312125d-8464-4a88-e37d-78effd565647"
      },
      "execution_count": 23,
      "outputs": [
        {
          "output_type": "stream",
          "name": "stdout",
          "text": [
            "Error: Division by zero.\n"
          ]
        }
      ]
    },
    {
      "cell_type": "code",
      "source": [
        "13. #How would you check if a line exists before attempting to read it in python?\n",
        "\n",
        "\n",
        "with open(\"output.txt\", \"r\") as file:\n",
        "    lines = file.readlines()\n",
        "\n",
        "if len(lines) >= 2:\n",
        "    second_line = lines[1]\n",
        "    print(second_line.strip())"
      ],
      "metadata": {
        "colab": {
          "base_uri": "https://localhost:8080/"
        },
        "id": "iCQaGlU_ksDg",
        "outputId": "33a2c6a7-760a-420a-abc4-a11b72a588f0"
      },
      "execution_count": 24,
      "outputs": [
        {
          "output_type": "stream",
          "name": "stdout",
          "text": [
            "Appended line.\n"
          ]
        }
      ]
    },
    {
      "cell_type": "code",
      "source": [
        "14. #Write a program that uses the logging module to log both informational and error messages.\n",
        "\n",
        "import logging\n",
        "\n",
        "logging.basicConfig(level=logging.INFO)\n",
        "\n",
        "logging.info(\"This is an info message.\")\n",
        "\n",
        "logging.error(\"This is an error message.\")"
      ],
      "metadata": {
        "colab": {
          "base_uri": "https://localhost:8080/"
        },
        "id": "DxClc-RrksGU",
        "outputId": "3a5e9187-5ad3-4094-c57b-4927e7c9bbf4"
      },
      "execution_count": 25,
      "outputs": [
        {
          "output_type": "stream",
          "name": "stderr",
          "text": [
            "ERROR:root:This is an error message.\n"
          ]
        }
      ]
    },
    {
      "cell_type": "code",
      "source": [
        "15.# Write a python program that prints the content of a flie and handles the case when the file is empty.\n",
        "\n",
        "try:\n",
        "    with open(\"output.txt\", \"r\") as file:\n",
        "        content = file.read()\n",
        "        if content:\n",
        "            print(content)\n",
        "        else:\n",
        "            print(\"File is empty.\")\n",
        "except FileNotFoundError:\n",
        "    print(\"Error: File not found.\")"
      ],
      "metadata": {
        "colab": {
          "base_uri": "https://localhost:8080/"
        },
        "id": "MhaXpKb6l2r4",
        "outputId": "fe5122ea-a99d-47d8-9a4c-a658b290093a"
      },
      "execution_count": 27,
      "outputs": [
        {
          "output_type": "stream",
          "name": "stdout",
          "text": [
            "Hello, Python!\n",
            "Appended line.\n"
          ]
        }
      ]
    },
    {
      "cell_type": "code",
      "source": [
        "16. # Demonstrate how to use memory profiling to check the memory usage of a small program.\n",
        "\n",
        "from memory_profiler import profile\n",
        "\n",
        "@profile\n",
        "def my_function():\n",
        "    # Some code here\n",
        "    pass\n",
        "\n",
        "my_function()"
      ],
      "metadata": {
        "colab": {
          "base_uri": "https://localhost:8080/"
        },
        "id": "UPKSAcesl2yS",
        "outputId": "21aa70f2-885a-428a-bace-173e7c9fddc0"
      },
      "execution_count": 32,
      "outputs": [
        {
          "output_type": "stream",
          "name": "stdout",
          "text": [
            "ERROR: Could not find file <ipython-input-32-76213406f3b7>\n",
            "NOTE: %mprun can only be used on functions defined in physical files, and not in the IPython environment.\n"
          ]
        }
      ]
    },
    {
      "cell_type": "code",
      "source": [
        "17. # write a python program to create and write a list of numbers to a flie, one number per line.\n",
        "\n",
        "numbers = [1, 2, 3, 4, 5]\n",
        "\n",
        "with open(\"numbers.txt\", \"w\") as file:\n",
        "    for number in numbers:\n",
        "        file.write(str(number) + \"\\n\")"
      ],
      "metadata": {
        "id": "82__lIjIl233"
      },
      "execution_count": 34,
      "outputs": []
    },
    {
      "cell_type": "code",
      "source": [
        "18. #How would you implement a basic logging setup that logs to a file with rotation after 1MB?\n",
        "\n",
        "import logging\n",
        "from logging.handlers import RotatingFileHandler\n",
        "\n",
        "logging.basicConfig(level=logging.INFO)"
      ],
      "metadata": {
        "id": "mHnS-nL8l27O"
      },
      "execution_count": 35,
      "outputs": []
    },
    {
      "cell_type": "code",
      "source": [
        "19. #Write a program that handles both index error and keyerror using a try-except block.\n",
        "\n",
        "my_list = [1, 2, 3]\n",
        "my_dict = {\"key\": \"value\"}\n",
        "\n",
        "try:\n",
        "    value = my_list[3]\n",
        "except IndexError:\n",
        "    print(\"Error: Index out of range.\")"
      ],
      "metadata": {
        "colab": {
          "base_uri": "https://localhost:8080/"
        },
        "id": "juV3H2cQl2_W",
        "outputId": "27a52212-85a2-4bb9-e34a-d67438001583"
      },
      "execution_count": 36,
      "outputs": [
        {
          "output_type": "stream",
          "name": "stdout",
          "text": [
            "Error: Index out of range.\n"
          ]
        }
      ]
    },
    {
      "cell_type": "code",
      "source": [
        "20. # How would you open a file and read its contents using a context manager in python?\n",
        "\n",
        "with open(\"output.txt\", \"r\") as file:\n",
        "    content = file.read()\n",
        "    print(content)"
      ],
      "metadata": {
        "colab": {
          "base_uri": "https://localhost:8080/"
        },
        "id": "sCovMg8Nnkv-",
        "outputId": "66a50b45-e28f-422f-b6b9-0d370566ad66"
      },
      "execution_count": 41,
      "outputs": [
        {
          "output_type": "stream",
          "name": "stdout",
          "text": [
            "Hello, Python!\n",
            "Appended line.\n"
          ]
        }
      ]
    },
    {
      "cell_type": "code",
      "source": [
        "21. # write a python program that reads a file and prints the number of occurrences of a specific word.\n",
        "\n",
        "word_to_count = \"Python\"\n",
        "\n",
        "with open(\"output.txt\", \"r\") as file:\n",
        "    content = file.read()\n",
        "    words = content.split()\n",
        "    count = words.count(word_to_count)"
      ],
      "metadata": {
        "id": "Zd1JE8Bno8qH"
      },
      "execution_count": 42,
      "outputs": []
    },
    {
      "cell_type": "code",
      "source": [
        "22. #How can you check if a file is empty before attempting to read its contents?\n",
        "\n",
        "with open(\"output.txt\", \"r\") as file:\n",
        "    content = file.read()\n",
        "    if content:\n",
        "        print(content)\n",
        "    else:\n",
        "        print(\"File is empty.\")\n"
      ],
      "metadata": {
        "colab": {
          "base_uri": "https://localhost:8080/"
        },
        "id": "NMub3bCMpx-b",
        "outputId": "f43b7dd4-97ce-479f-a484-c97770bcebef"
      },
      "execution_count": 43,
      "outputs": [
        {
          "output_type": "stream",
          "name": "stdout",
          "text": [
            "Hello, Python!\n",
            "Appended line.\n"
          ]
        }
      ]
    },
    {
      "cell_type": "code",
      "source": [
        "23. #Write a python program that writes to a log file when an error occurs during file handling.\n",
        "\n",
        "\n",
        "import logging\n",
        "\n",
        "logging.basicConfig(filename=\"file_errors.log\", level=logging.ERROR)\n",
        "\n",
        "try:\n",
        "    with open(\"nonexistent.txt\", \"r\") as f:\n",
        "        print(f.read())\n",
        "except FileNotFoundError as e:\n",
        "    logging.error(f\"File error: {e}\")"
      ],
      "metadata": {
        "colab": {
          "base_uri": "https://localhost:8080/"
        },
        "id": "QXHUTgyHqBDr",
        "outputId": "a1eab97d-56df-42fd-ab2f-d7b5ebf1e4ce"
      },
      "execution_count": 44,
      "outputs": [
        {
          "metadata": {
            "tags": null
          },
          "name": "stderr",
          "output_type": "stream",
          "text": [
            "ERROR:root:File error: [Errno 2] No such file or directory: 'nonexistent.txt'\n"
          ]
        }
      ]
    },
    {
      "cell_type": "code",
      "source": [],
      "metadata": {
        "id": "XT5MI2VlqUnk"
      },
      "execution_count": null,
      "outputs": []
    }
  ]
}