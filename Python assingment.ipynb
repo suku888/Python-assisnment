{
 "cells": [
  {
   "cell_type": "markdown",
   "id": "5a1afff5-e242-44fd-8c9f-9faa16f10882",
   "metadata": {},
   "source": [
    "# THEORITICAL QUESTION"
   ]
  },
  {
   "cell_type": "markdown",
   "id": "f386d599-6872-4c61-ac42-60331211d5eb",
   "metadata": {},
   "source": [
    "### 1. What is Python, and why is it popular?"
   ]
  },
  {
   "cell_type": "markdown",
   "id": "a4318916-9cb1-4752-8aca-fe41999ca2b1",
   "metadata": {},
   "source": [
    "##### Python is a high-level, interpreted programming language known for its readability and simplicity. It's popular due to its large community, extensive libraries, cross-platform support, and versatility in web development, data science, automation, and more."
   ]
  },
  {
   "cell_type": "markdown",
   "id": "3c579df9-e1fa-4557-896d-cf26586d0073",
   "metadata": {},
   "source": [
    "### 2. What is an interpreter in Python?"
   ]
  },
  {
   "cell_type": "markdown",
   "id": "478fbfdc-7c2c-4a86-886d-61bdd93acc27",
   "metadata": {},
   "source": [
    "##### An interpreter is a program that executes Python code line by line, converting it into machine code that the computer can understand."
   ]
  },
  {
   "cell_type": "markdown",
   "id": "fbd0eb97-8dff-4e00-baca-0ff606afe1d7",
   "metadata": {},
   "source": [
    "###  3. What are pre-defined keywords in Python?"
   ]
  },
  {
   "cell_type": "markdown",
   "id": "25e57bd8-03ee-47c2-833e-e6cb26e88e73",
   "metadata": {},
   "source": [
    "#####  These are reserved words in Python with special meaning, such as if, for, while, True, False, etc. They cannot be used as identifiers (variable names)."
   ]
  },
  {
   "cell_type": "markdown",
   "id": "8e630e85-5601-4fa9-8232-5e50bd668cb3",
   "metadata": {},
   "source": [
    "### 4. Can keywords be used as variable names?"
   ]
  },
  {
   "cell_type": "markdown",
   "id": "c6c8b3c1-f874-45c1-8912-057f93a6b74c",
   "metadata": {},
   "source": [
    "#####  No, keywords cannot be used as variable names because they have predefined functions in the language."
   ]
  },
  {
   "cell_type": "markdown",
   "id": "362b55e1-b552-4082-8627-038f3e7e9166",
   "metadata": {},
   "source": [
    "###  5. What is mutability in Python?"
   ]
  },
  {
   "cell_type": "markdown",
   "id": "d5644040-6dc6-423a-bb2e-82ead1cd20f0",
   "metadata": {},
   "source": [
    "##### Mutability refers to an object’s ability to be changed after it's created. Mutable objects include lists and dictionaries, while immutable ones include strings and tuples."
   ]
  },
  {
   "cell_type": "markdown",
   "id": "fdfa7012-752f-4260-84e2-b5b57ec0fbbd",
   "metadata": {},
   "source": [
    "### 6. Why are lists mutable, but tuples are immutable?"
   ]
  },
  {
   "cell_type": "markdown",
   "id": "2901717c-362a-45f3-b437-2013863d0165",
   "metadata": {},
   "source": [
    "#####  Lists are designed for dynamic data manipulation, so they allow changes. Tuples are used for fixed collections of items, which makes them immutable and hashable for use in sets or as dictionary keys."
   ]
  },
  {
   "cell_type": "markdown",
   "id": "c1ef03f4-a449-4829-9db6-897b0d204d58",
   "metadata": {},
   "source": [
    "###  7. What is the difference between == and is operators in Python?"
   ]
  },
  {
   "cell_type": "markdown",
   "id": "e894bcfd-0e46-4a0a-8f2e-35044891ab53",
   "metadata": {},
   "source": [
    "#####  == checks for value equality, while is checks for object identity (whether two references point to the same object in memory)."
   ]
  },
  {
   "cell_type": "markdown",
   "id": "ace439fb-5a2b-466f-877a-fbd055a46ea5",
   "metadata": {},
   "source": [
    "###  8. What are logical operators in Python?"
   ]
  },
  {
   "cell_type": "markdown",
   "id": "872277f5-0b76-41c6-9f38-5108cb26871d",
   "metadata": {},
   "source": [
    "#####  and, or, and not are logical operators used to combine conditional statements"
   ]
  },
  {
   "cell_type": "markdown",
   "id": "7f2b3048-cf91-4d84-8d81-c0cd835c49aa",
   "metadata": {},
   "source": [
    "###  9. What is type casting in Python?"
   ]
  },
  {
   "cell_type": "markdown",
   "id": "d542b992-bb6b-44aa-89b2-29e3ec53dc86",
   "metadata": {},
   "source": [
    "##### Type casting is converting a variable from one data type to another, such as from int to float or str using built-in functions like int(), float(), and str()."
   ]
  },
  {
   "cell_type": "markdown",
   "id": "0995f887-8182-4224-8197-4affe79ff6b1",
   "metadata": {},
   "source": [
    "###  10. What is the difference between implicit and explicit type casting?"
   ]
  },
  {
   "cell_type": "markdown",
   "id": "7c0b6c58-25e2-42c0-ab73-e67da7e8ba33",
   "metadata": {},
   "source": [
    "#####  Implicit: Python automatically converts types (e.g., int to float during arithmetic). Explicit: You manually convert types using casting functions."
   ]
  },
  {
   "cell_type": "markdown",
   "id": "c560f43d-be0e-4436-a82e-a31b211cc99f",
   "metadata": {},
   "source": [
    "### 11. What is the purpose of conditional statements in Python?"
   ]
  },
  {
   "cell_type": "markdown",
   "id": "97d47d89-e5df-46fc-9d12-a7869b76464f",
   "metadata": {},
   "source": [
    "##### They control the flow of execution based on conditions, allowing the program to make decisions (e.g., if, elif, else)."
   ]
  },
  {
   "cell_type": "markdown",
   "id": "696f5c77-64ef-4fa4-bb1d-2da5e8f32b5e",
   "metadata": {},
   "source": [
    "### 12. How does the elif statement work?"
   ]
  },
  {
   "cell_type": "markdown",
   "id": "c371fa37-3fcc-47c3-a443-14a351f8e3e6",
   "metadata": {},
   "source": [
    "##### elif (else if) allows checking multiple expressions for True. If the condition for if is False, Python checks elif conditions in order."
   ]
  },
  {
   "cell_type": "markdown",
   "id": "40a43a71-beb0-4dfc-9334-d4609372e89b",
   "metadata": {},
   "source": [
    "###  13. What is the difference between for and while loops?"
   ]
  },
  {
   "cell_type": "markdown",
   "id": "6c5de988-f788-4069-8cfd-ebfe526fef64",
   "metadata": {},
   "source": [
    "##### for loops iterate over a sequence with a known number of iterations. while loops run as long as a condition is True, often used when the number of iterations is unknown."
   ]
  },
  {
   "cell_type": "markdown",
   "id": "aa66eaad-fba7-4ace-9873-9e54f8f576f3",
   "metadata": {},
   "source": [
    "###  14. Describe a scenario where a while loop is more suitable than a for loop."
   ]
  },
  {
   "cell_type": "markdown",
   "id": "ee8aa62b-9d96-4efc-9b52-1d260e199f09",
   "metadata": {},
   "source": [
    "#####  When waiting for user input to meet a condition (e.g., asking for a password until it's correct), a while loop is more suitable because the number of tries is not predetermined."
   ]
  },
  {
   "cell_type": "markdown",
   "id": "00de6aaf-ed56-48c4-81b9-f18939d0e5bf",
   "metadata": {},
   "source": [
    "# PRACTICAL QUESTION "
   ]
  },
  {
   "cell_type": "code",
   "execution_count": 2,
   "id": "b9de0e13-e39a-4f47-aa56-5cd826a72bf8",
   "metadata": {},
   "outputs": [
    {
     "name": "stdout",
     "output_type": "stream",
     "text": [
      "Hello, World!\n"
     ]
    }
   ],
   "source": [
    "print(\"Hello, World!\")"
   ]
  },
  {
   "cell_type": "code",
   "execution_count": 64,
   "id": "2b9e1686-d3ed-452d-8371-44466c243d05",
   "metadata": {},
   "outputs": [
    {
     "name": "stdout",
     "output_type": "stream",
     "text": [
      "Name: Sakshi sharma\n",
      "Age: 19\n"
     ]
    }
   ],
   "source": [
    "Name = \"Sakshi sharma\"\n",
    "Age = 19\n",
    "print(\"Name:\", Name)\n",
    "print(\"Age:\", Age)"
   ]
  },
  {
   "cell_type": "code",
   "execution_count": 16,
   "id": "049f4a53-0725-4380-a304-5c839951fdbb",
   "metadata": {},
   "outputs": [
    {
     "name": "stdout",
     "output_type": "stream",
     "text": [
      "['False', 'None', 'True', 'and', 'as', 'assert', 'async', 'await', 'break', 'class', 'continue', 'def', 'del', 'elif', 'else', 'except', 'finally', 'for', 'from', 'global', 'if', 'import', 'in', 'is', 'lambda', 'nonlocal', 'not', 'or', 'pass', 'raise', 'return', 'try', 'while', 'with', 'yield']\n"
     ]
    }
   ],
   "source": [
    "import keyword\n",
    "print(keyword.kwlist)"
   ]
  },
  {
   "cell_type": "code",
   "execution_count": 24,
   "id": "50729e1a-47df-4ebd-be93-d5b317c87b63",
   "metadata": {},
   "outputs": [
    {
     "name": "stdout",
     "output_type": "stream",
     "text": [
      "Enter a word:  True\n"
     ]
    },
    {
     "name": "stdout",
     "output_type": "stream",
     "text": [
      "'True' is a Python keyword.\n"
     ]
    }
   ],
   "source": [
    "word = input(\"Enter a word: \")\n",
    "if keyword.iskeyword(word):\n",
    "    print(f\"'{word}' is a Python keyword.\")\n",
    "else:\n",
    "    print(f\"'{word}' is not a Python keyword.\")"
   ]
  },
  {
   "cell_type": "code",
   "execution_count": 26,
   "id": "08fb27b5-df4d-41b4-990f-b3c5e5432a1e",
   "metadata": {},
   "outputs": [
    {
     "name": "stdout",
     "output_type": "stream",
     "text": [
      "Enter a word:  Hello\n"
     ]
    },
    {
     "name": "stdout",
     "output_type": "stream",
     "text": [
      "'Hello' is not a Python keyword.\n"
     ]
    }
   ],
   "source": [
    "word = input(\"Enter a word: \")\n",
    "if keyword.iskeyword(word):\n",
    "    print(f\"'{word}' is a Python keyword.\")\n",
    "else:\n",
    "    print(f\"'{word}' is not a Python keyword.\")"
   ]
  },
  {
   "cell_type": "code",
   "execution_count": 28,
   "id": "643c33f2-de14-493f-b580-9f086b4d00af",
   "metadata": {},
   "outputs": [
    {
     "name": "stdout",
     "output_type": "stream",
     "text": [
      "Modified list: [10, 2, 3]\n",
      "Tuples are immutable, can't modify elements.\n"
     ]
    }
   ],
   "source": [
    "my_list = [1, 2, 3]\n",
    "my_tuple = (1, 2, 3)\n",
    "my_list[0] = 10\n",
    "print(\"Modified list:\", my_list)\n",
    "try:\n",
    "    my_tuple[0] = 10\n",
    "except TypeError:\n",
    "    print(\"Tuples are immutable, can't modify elements.\")\n"
   ]
  },
  {
   "cell_type": "code",
   "execution_count": 66,
   "id": "dc31d509-0a71-41e0-967a-4f33760a6166",
   "metadata": {},
   "outputs": [
    {
     "name": "stdout",
     "output_type": "stream",
     "text": [
      "After modifying list: [1, 2, 3, 100]\n",
      "After modifying number: 30\n"
     ]
    }
   ],
   "source": [
    "def modify_list(lst):\n",
    "    lst.append(100)\n",
    "\n",
    "def modify_number(n):\n",
    "    n += 10\n",
    "    return n\n",
    "\n",
    "my_list = [1, 2, 3]\n",
    "my_num = 20\n",
    "modify_list(my_list)\n",
    "print(\"After modifying list:\", my_list)\n",
    "my_num = modify_number(my_num)\n",
    "print(\"After modifying number:\", my_num)"
   ]
  },
  {
   "cell_type": "code",
   "execution_count": 72,
   "id": "60b8565b-c8be-4a19-9e8a-a668b84b932d",
   "metadata": {},
   "outputs": [
    {
     "name": "stdout",
     "output_type": "stream",
     "text": [
      "Enter first number:  20.43\n",
      "Enter second number:  34.45\n"
     ]
    },
    {
     "name": "stdout",
     "output_type": "stream",
     "text": [
      "Sum: 54.88\n",
      "Difference: -14.020000000000003\n",
      "Product: 703.8135000000001\n",
      "Quotient: 0.593033381712627\n"
     ]
    }
   ],
   "source": [
    "a = float(input(\"Enter first number: \"))\n",
    "b = float(input(\"Enter second number: \"))\n",
    "print(\"Sum:\", a + b)\n",
    "print(\"Difference:\", a - b)\n",
    "print(\"Product:\", a * b)\n",
    "print(\"Quotient:\", a / b if b != 0 else \"Undefined\")\n"
   ]
  },
  {
   "cell_type": "code",
   "execution_count": 76,
   "id": "9220e80b-5385-4f7e-aba3-b69c18a6f632",
   "metadata": {},
   "outputs": [
    {
     "name": "stdout",
     "output_type": "stream",
     "text": [
      "Enter a number:  100\n"
     ]
    },
    {
     "name": "stdout",
     "output_type": "stream",
     "text": [
      "The number is 0 or 100.\n"
     ]
    }
   ],
   "source": [
    "a = int(input(\"Enter a number: \"))\n",
    "if a > 0 and a < 100:\n",
    "    print(\"The number is between 0 and 100.\")\n",
    "elif a < 0 or a > 100:\n",
    "    print(\"The number is outside the range.\")\n",
    "else:\n",
    "    print(\"The number is 0 or 100.\")"
   ]
  },
  {
   "cell_type": "code",
   "execution_count": 94,
   "id": "8e2ec14f-82af-4d73-9be4-6765785d9e21",
   "metadata": {},
   "outputs": [
    {
     "name": "stdout",
     "output_type": "stream",
     "text": [
      "Enter a value:  60\n"
     ]
    },
    {
     "name": "stdout",
     "output_type": "stream",
     "text": [
      "Integer: 60\n",
      "Float: 60.0\n",
      "Boolean: True\n"
     ]
    }
   ],
   "source": [
    "user_input = input(\"Enter a value: \")\n",
    "int_value = int(user_input)\n",
    "float_value = float(user_input)\n",
    "bool_value = bool(user_input)\n",
    "print(\"Integer:\", int_value)\n",
    "print(\"Float:\", float_value)\n",
    "print(\"Boolean:\", bool_value)"
   ]
  },
  {
   "cell_type": "code",
   "execution_count": 38,
   "id": "a5278518-d21d-472e-9a80-e811ca853fef",
   "metadata": {},
   "outputs": [
    {
     "name": "stdout",
     "output_type": "stream",
     "text": [
      "Converted list: [1, 2, 3]\n"
     ]
    }
   ],
   "source": [
    "str_list = [\"1\", \"2\", \"3\"]\n",
    "int_list = list(map(int, str_list))\n",
    "print(\"Converted list:\", int_list)"
   ]
  },
  {
   "cell_type": "code",
   "execution_count": 102,
   "id": "c1144a75-9837-4b2a-a89c-78c9fb4d0869",
   "metadata": {},
   "outputs": [
    {
     "name": "stdout",
     "output_type": "stream",
     "text": [
      "Enter a number:  10\n"
     ]
    },
    {
     "name": "stdout",
     "output_type": "stream",
     "text": [
      "Positive\n"
     ]
    }
   ],
   "source": [
    "num = float(input(\"Enter a number: \"))\n",
    "if num > 0:\n",
    "    print(\"Positive\")\n",
    "elif num < 0:\n",
    "    print(\"Negative\")\n",
    "else:\n",
    "    print(\"Zero\")"
   ]
  },
  {
   "cell_type": "code",
   "execution_count": 42,
   "id": "9d87f508-13a5-4d29-b33d-7ac399724efd",
   "metadata": {},
   "outputs": [
    {
     "name": "stdout",
     "output_type": "stream",
     "text": [
      "Enter a number:  0\n"
     ]
    },
    {
     "name": "stdout",
     "output_type": "stream",
     "text": [
      "Zero\n"
     ]
    }
   ],
   "source": [
    "num = float(input(\"Enter a number: \"))\n",
    "if num > 0:\n",
    "    print(\"Positive\")\n",
    "elif num < 0:\n",
    "    print(\"Negative\")\n",
    "else:\n",
    "    print(\"Zero\")"
   ]
  },
  {
   "cell_type": "code",
   "execution_count": 106,
   "id": "ddb7621a-66c0-4c86-ac32-ac76e6563967",
   "metadata": {},
   "outputs": [
    {
     "name": "stdout",
     "output_type": "stream",
     "text": [
      "1\n",
      "2\n",
      "3\n",
      "4\n",
      "5\n",
      "6\n",
      "7\n",
      "8\n",
      "9\n",
      "10\n"
     ]
    }
   ],
   "source": [
    "for i in range(1, 11):\n",
    "    print(i)"
   ]
  },
  {
   "cell_type": "code",
   "execution_count": 108,
   "id": "3f3119d1-c28c-4680-9d07-8f9bf972b2d9",
   "metadata": {},
   "outputs": [
    {
     "name": "stdout",
     "output_type": "stream",
     "text": [
      "Sum of even numbers: 2550\n"
     ]
    }
   ],
   "source": [
    "total = 0\n",
    "for k in range(1, 101):\n",
    "    if k % 2 == 0:\n",
    "        total += k\n",
    "print(\"Sum of even numbers:\", total)"
   ]
  },
  {
   "cell_type": "code",
   "execution_count": null,
   "id": "51c7bf01-bfe9-4d62-b8be-44846e8b13a7",
   "metadata": {},
   "outputs": [],
   "source": [
    "s = input(\"Enter a string: \")\n",
    "reversed_str = \"\"\n",
    "i = len(s) - 1\n",
    "while i >= 0:\n",
    "    reversed_str += s[i]\n",
    "    i -= 1\n",
    "print(\"Reversed string:\", reversed_str)"
   ]
  },
  {
   "cell_type": "code",
   "execution_count": 54,
   "id": "e6ebc87f-5a93-4aa9-81dc-766ee4591093",
   "metadata": {},
   "outputs": [
    {
     "name": "stdout",
     "output_type": "stream",
     "text": [
      "Enter a number:  10\n"
     ]
    },
    {
     "name": "stdout",
     "output_type": "stream",
     "text": [
      "Factorial of 10 is 3628800\n"
     ]
    }
   ],
   "source": []
  },
  {
   "cell_type": "code",
   "execution_count": null,
   "id": "1d2deaed-03ab-485a-9dd4-6fc47829e0ff",
   "metadata": {},
   "outputs": [],
   "source": []
  }
 ],
 "metadata": {
  "kernelspec": {
   "display_name": "Python 3 (ipykernel)",
   "language": "python",
   "name": "python3"
  },
  "language_info": {
   "codemirror_mode": {
    "name": "ipython",
    "version": 3
   },
   "file_extension": ".py",
   "mimetype": "text/x-python",
   "name": "python",
   "nbconvert_exporter": "python",
   "pygments_lexer": "ipython3",
   "version": "3.13.3"
  }
 },
 "nbformat": 4,
 "nbformat_minor": 5
}
