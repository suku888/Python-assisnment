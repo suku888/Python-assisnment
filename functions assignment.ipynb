{
 "cells": [
  {
   "cell_type": "markdown",
   "id": "7d7497fd-c408-4161-a71c-433e753002c0",
   "metadata": {},
   "source": [
    "# THEORY QUESTION"
   ]
  },
  {
   "cell_type": "markdown",
   "id": "7291dc68",
   "metadata": {},
   "source": [
    "### 1. What is the difference between a function and a method in Python?"
   ]
  },
  {
   "cell_type": "code",
   "execution_count": 6,
   "id": "3a52a755-186b-4e5d-aa46-9efbf5c1b86b",
   "metadata": {},
   "outputs": [],
   "source": [
    "# **Function**: A block of reusable code.\n",
    "# **Method**: A function that belongs to an object (usually a class instance).\n",
    "\n",
    "# Example:\n",
    "def add(x, y):  # Function\n",
    "    return x + y\n",
    "\n",
    "class Sample:\n",
    "    def greet(self):  # Method\n",
    "        return \"Hello\""
   ]
  },
  {
   "cell_type": "code",
   "execution_count": 14,
   "id": "96379ac7-627b-4123-ad27-0968ef53883c",
   "metadata": {},
   "outputs": [
    {
     "data": {
      "text/plain": [
       "7"
      ]
     },
     "execution_count": 14,
     "metadata": {},
     "output_type": "execute_result"
    }
   ],
   "source": [
    "add(4,3)"
   ]
  },
  {
   "cell_type": "code",
   "execution_count": null,
   "id": "10fdbf92-7dfe-4b8e-b216-b114fd9cad41",
   "metadata": {},
   "outputs": [],
   "source": []
  },
  {
   "cell_type": "markdown",
   "id": "84fef83c",
   "metadata": {},
   "source": [
    "### 2. Explain the concept of function arguments and parameters in Python."
   ]
  },
  {
   "cell_type": "code",
   "execution_count": 28,
   "id": "54e87718-c8c1-4a0a-af2f-dacb39e0eb22",
   "metadata": {},
   "outputs": [
    {
     "name": "stdout",
     "output_type": "stream",
     "text": [
      "Hello Alice\n"
     ]
    }
   ],
   "source": [
    "# **Parameters** are variables in the function definition.\n",
    "# **Arguments** are values passed to the function.\n",
    "\n",
    "# Example:\n",
    "def greet(name):  # 'name' is a parameter\n",
    "    print(\"Hello\", name)\n",
    "\n",
    "greet(\"Alice\")  # \"Alice\" is the argument"
   ]
  },
  {
   "cell_type": "markdown",
   "id": "64275ef0",
   "metadata": {},
   "source": [
    "### 3. What are the different ways to define and call a function in Python?"
   ]
  },
  {
   "cell_type": "code",
   "execution_count": 31,
   "id": "44a41876-f8bb-4c7b-9ee6-47e1c4a4b076",
   "metadata": {},
   "outputs": [
    {
     "name": "stdout",
     "output_type": "stream",
     "text": [
      "25\n",
      "25\n"
     ]
    }
   ],
   "source": [
    "# **Define** with `def` or `lambda`.\n",
    "# **Call** using `function_name()`.\n",
    "\n",
    "# Example:\n",
    "def square(x):\n",
    "    return x*x\n",
    "\n",
    "print(square(5))  # Calling\n",
    "\n",
    "# Lambda function\n",
    "square_lambda = lambda x: x*x\n",
    "print(square_lambda(5))"
   ]
  },
  {
   "cell_type": "markdown",
   "id": "e44e8f1b",
   "metadata": {},
   "source": [
    "### 4. What is the purpose of the `return` statement in a Python function?"
   ]
  },
  {
   "cell_type": "code",
   "execution_count": 38,
   "id": "892304ea-0d47-4d6f-a27c-9d6161b96e41",
   "metadata": {},
   "outputs": [],
   "source": [
    "\n",
    "# Used to send the result back to the caller and ends function execution.\n",
    "\n",
    "# Example:\n",
    "def add(a, b):\n",
    "    return a + b\n",
    "\n",
    "result = add(3, 4)"
   ]
  },
  {
   "cell_type": "markdown",
   "id": "5b693f5a",
   "metadata": {},
   "source": [
    "### 5. What are iterators in Python and how do they differ from iterables?"
   ]
  },
  {
   "cell_type": "code",
   "execution_count": 43,
   "id": "5ab752a1-31e9-4d18-bd1e-9e97abf9f1b6",
   "metadata": {},
   "outputs": [
    {
     "name": "stdout",
     "output_type": "stream",
     "text": [
      "1\n"
     ]
    }
   ],
   "source": [
    "# **Iterable**: Object that can return an iterator (e.g., list, tuple).\n",
    "# **Iterator**: An object with `__iter__()` and `__next__()` methods.\n",
    "\n",
    "# Example:\n",
    "nums = [1, 2, 3]  # Iterable\n",
    "it = iter(nums)   # Iterator\n",
    "print(next(it))"
   ]
  },
  {
   "cell_type": "markdown",
   "id": "a8af5277",
   "metadata": {},
   "source": [
    "### 6. Explain the concept of generators in Python and how they are defined."
   ]
  },
  {
   "cell_type": "code",
   "execution_count": 46,
   "id": "df76b40a-b775-4857-a204-bdac3c2cf507",
   "metadata": {},
   "outputs": [],
   "source": [
    "# **Generators** produce items one at a time using `yield`. More memory-efficient than lists.\n",
    "\n",
    "# Example:\n",
    "def countdown(n):\n",
    "    while n > 0:\n",
    "        yield n\n",
    "        n -= 1"
   ]
  },
  {
   "cell_type": "markdown",
   "id": "ffa39924",
   "metadata": {},
   "source": [
    "### 7. What are the advantages of using generators over regular functions?"
   ]
  },
  {
   "cell_type": "code",
   "execution_count": 56,
   "id": "56405cb6-53a1-463f-aca3-bc75ece57c3c",
   "metadata": {},
   "outputs": [],
   "source": [
    "# **Memory-efficient** (no full list in memory).\n",
    "# **Lazy evaluation**.\n",
    "# Useful for large datasets or streams."
   ]
  },
  {
   "cell_type": "markdown",
   "id": "40baeed3",
   "metadata": {},
   "source": [
    "### 8. What is a lambda function in Python and when is it typically used?"
   ]
  },
  {
   "cell_type": "code",
   "execution_count": 59,
   "id": "cf3b8db5-97c3-46ed-b986-6ff93d0ee731",
   "metadata": {},
   "outputs": [
    {
     "name": "stdout",
     "output_type": "stream",
     "text": [
      "16\n"
     ]
    }
   ],
   "source": [
    "# Anonymous function using `lambda`. Used for short, throwaway functions.\n",
    "\n",
    "# Example:\n",
    "square = lambda x: x * x\n",
    "print(square(4))"
   ]
  },
  {
   "cell_type": "markdown",
   "id": "d99123bc",
   "metadata": {},
   "source": [
    "### 9. Explain the purpose and usage of the `map()` function in Python."
   ]
  },
  {
   "cell_type": "code",
   "execution_count": 62,
   "id": "4d8b1ad3-68c0-4dc8-9bfa-825c2abece0b",
   "metadata": {},
   "outputs": [
    {
     "name": "stdout",
     "output_type": "stream",
     "text": [
      "[1, 4, 9]\n"
     ]
    }
   ],
   "source": [
    "# Applies a function to each item of an iterable.\n",
    "\n",
    "# Example:\n",
    "nums = [1, 2, 3]\n",
    "squared = list(map(lambda x: x*x, nums))\n",
    "print(squared)"
   ]
  },
  {
   "cell_type": "markdown",
   "id": "283ee344",
   "metadata": {},
   "source": [
    "### 10. What is the difference between `map()`, `reduce()`, and `filter()` functions in Python?"
   ]
  },
  {
   "cell_type": "code",
   "execution_count": 65,
   "id": "cf9810c9-36a4-4d9d-87c0-5d15d5bfabd7",
   "metadata": {},
   "outputs": [
    {
     "name": "stdout",
     "output_type": "stream",
     "text": [
      "[2, 4, 6, 8]\n",
      "[2, 4]\n",
      "10\n"
     ]
    }
   ],
   "source": [
    "# | Function | Purpose |\n",
    "# |---------|---------|\n",
    "# | `map()` | Applies a function to all elements. |\n",
    "# | `filter()` | Filters elements based on condition. |\n",
    "# | `reduce()` | Applies function cumulatively to reduce to a single value. |\n",
    "\n",
    "# Example:\n",
    "from functools import reduce\n",
    "\n",
    "nums = [1, 2, 3, 4]\n",
    "print(list(map(lambda x: x*2, nums)))          # [2, 4, 6, 8]\n",
    "print(list(filter(lambda x: x%2==0, nums)))    # [2, 4]\n",
    "print(reduce(lambda x, y: x+y, nums))          # 10"
   ]
  },
  {
   "cell_type": "markdown",
   "id": "196b137d",
   "metadata": {},
   "source": [
    "### 11. Using pen & paper write the internal mechanism for sum operation using reduce function on this given list: [47,11,42,13]"
   ]
  },
  {
   "cell_type": "code",
   "execution_count": 76,
   "id": "dedb8cac-c146-480d-99fe-cdf48d7e6368",
   "metadata": {},
   "outputs": [],
   "source": [
    "# Step-by-step using `reduce(lambda x, y: x + y, [47, 11, 42, 13])`:\n",
    "# - Step 1: 47 + 11 = 58\n",
    "# - Step 2: 58 + 42 = 100\n",
    "# - Step 3: 100 + 13 = 113\n",
    "\n",
    "# **Final Result: 113**"
   ]
  },
  {
   "cell_type": "markdown",
   "id": "53a5b374-726a-4691-a927-a153e8204275",
   "metadata": {},
   "source": [
    "# PRACTICAL QUESTION"
   ]
  },
  {
   "cell_type": "markdown",
   "id": "19e8cbae-db1f-4b09-8758-27b269dc272b",
   "metadata": {},
   "source": [
    "### 1. Write a Python function that takes a list of numbers as input and returns the sum of all even numbers in the list. "
   ]
  },
  {
   "cell_type": "code",
   "execution_count": 81,
   "id": "d7477b5c-bf95-4330-953e-8faaa0ae4f4c",
   "metadata": {},
   "outputs": [],
   "source": [
    "def sum_even_numbers(numbers):\n",
    "    return sum(num for num in numbers if num % 2 == 0)"
   ]
  },
  {
   "cell_type": "code",
   "execution_count": 89,
   "id": "9ed7ffa3-4037-43df-b7e5-da438c9c636f",
   "metadata": {},
   "outputs": [
    {
     "name": "stdout",
     "output_type": "stream",
     "text": [
      "Sum of even numbers: 20\n"
     ]
    }
   ],
   "source": [
    "my_list=[1,2,3,4,5,6,7,8,9]\n",
    "result = sum_even_numbers(my_list)\n",
    "print(\"Sum of even numbers:\", result)"
   ]
  },
  {
   "cell_type": "markdown",
   "id": "c430f6ef-f3a6-4842-a822-848aae7b5143",
   "metadata": {},
   "source": [
    "### 2. Create a Python function that accepts a strung and returns the reverse of that string."
   ]
  },
  {
   "cell_type": "code",
   "execution_count": 95,
   "id": "4ffa4ee0-57cb-48ab-a1d6-874073401d82",
   "metadata": {},
   "outputs": [
    {
     "name": "stdout",
     "output_type": "stream",
     "text": [
      "nohtyP\n"
     ]
    }
   ],
   "source": [
    "def reverse_string(s):\n",
    "    return s[::-1]\n",
    "\n",
    "# Example:\n",
    "print(reverse_string(\"Python\")) "
   ]
  },
  {
   "cell_type": "markdown",
   "id": "a7b72446-997d-405e-97eb-46bcd23d07b8",
   "metadata": {},
   "source": [
    "### 3. Implement a Python function that takes a list of integers and returns a new list containing the squares of each number."
   ]
  },
  {
   "cell_type": "code",
   "execution_count": 98,
   "id": "09cb07c2-1229-4616-a6a2-9fc579a5656c",
   "metadata": {},
   "outputs": [
    {
     "name": "stdout",
     "output_type": "stream",
     "text": [
      "[1, 4, 9, 16]\n"
     ]
    }
   ],
   "source": [
    "def square_numbers(numbers):\n",
    "    return [num ** 2 for num in numbers]\n",
    "\n",
    "# Example:\n",
    "print(square_numbers([1, 2, 3, 4]))"
   ]
  },
  {
   "cell_type": "markdown",
   "id": "2352d236-0301-4ba7-8b40-24f5261e7dc3",
   "metadata": {},
   "source": [
    "### 4. Write a Python function that checks if a given number i prime or not from 1 to 200."
   ]
  },
  {
   "cell_type": "code",
   "execution_count": 102,
   "id": "6c29fe59-f3a4-40f3-bd34-cab2d60e56df",
   "metadata": {},
   "outputs": [
    {
     "name": "stdout",
     "output_type": "stream",
     "text": [
      "True\n",
      "False\n"
     ]
    }
   ],
   "source": [
    "def is_prime(n):\n",
    "    if n < 2 or n > 200:\n",
    "        return False\n",
    "    for i in range(2, int(n**0.5) + 1):\n",
    "        if n % i == 0:\n",
    "            return False\n",
    "    return True\n",
    "\n",
    "# Example:\n",
    "print(is_prime(7))   \n",
    "print(is_prime(150)) \n"
   ]
  },
  {
   "cell_type": "markdown",
   "id": "00f3e91e-2fc5-43a6-9ad8-fb32622e7a76",
   "metadata": {},
   "source": [
    "### 5. Create an iterator class in Python that generates the fibonacci sequence up to a specified number of terms."
   ]
  },
  {
   "cell_type": "code",
   "execution_count": 105,
   "id": "86d4565d-3516-4d71-bd10-cccee0266b38",
   "metadata": {},
   "outputs": [
    {
     "name": "stdout",
     "output_type": "stream",
     "text": [
      "0\n",
      "1\n",
      "1\n",
      "2\n",
      "3\n"
     ]
    }
   ],
   "source": [
    "class Fibonacci:\n",
    "    def __init__(self, n):\n",
    "        self.n = n\n",
    "        self.a, self.b = 0, 1\n",
    "        self.count = 0\n",
    "\n",
    "    def __iter__(self):\n",
    "        return self\n",
    "\n",
    "    def __next__(self):\n",
    "        if self.count >= self.n:\n",
    "            raise StopIteration\n",
    "        val = self.a\n",
    "        self.a, self.b = self.b, self.a + self.b\n",
    "        self.count += 1\n",
    "        return val\n",
    "\n",
    "# Example:\n",
    "for num in Fibonacci(5):\n",
    "    print(num)"
   ]
  },
  {
   "cell_type": "markdown",
   "id": "7b890c27-7930-4c00-b262-5b8027ab59bf",
   "metadata": {},
   "source": [
    "### 6. Write a generator function in Python that yields the powers of 2 up to a given exponent. "
   ]
  },
  {
   "cell_type": "code",
   "execution_count": 108,
   "id": "cb56f287-64e9-463c-a866-363dfbb21cea",
   "metadata": {},
   "outputs": [
    {
     "name": "stdout",
     "output_type": "stream",
     "text": [
      "1\n",
      "2\n",
      "4\n",
      "8\n",
      "16\n"
     ]
    }
   ],
   "source": [
    "def powers_of_two(exp):\n",
    "    for i in range(exp + 1):\n",
    "        yield 2 ** i\n",
    "\n",
    "# Example:\n",
    "for p in powers_of_two(4):\n",
    "    print(p)"
   ]
  },
  {
   "cell_type": "markdown",
   "id": "32ff12bf-cd76-4069-8662-3275b57520ec",
   "metadata": {},
   "source": [
    "### 7. Implement a generator function that reads a file line by line and yields each line as a string."
   ]
  },
  {
   "cell_type": "code",
   "execution_count": 115,
   "id": "af868fb6-486b-44d4-9b1c-3c7071db61f8",
   "metadata": {},
   "outputs": [],
   "source": [
    "def read_file_lines(file_path):\n",
    "    with open(file_path, 'r') as f\n",
    "        for line in f:\n",
    "            yield line.strip()"
   ]
  },
  {
   "cell_type": "markdown",
   "id": "acabb1b7-29eb-4721-9dac-0f621c009e9a",
   "metadata": {},
   "source": [
    "### 8. Use a lambda function in Python to sort a list of tuples based on the second element of each tuple."
   ]
  },
  {
   "cell_type": "code",
   "execution_count": 118,
   "id": "df7a07c0-4cd5-429b-8eb9-56825f3bdde6",
   "metadata": {},
   "outputs": [
    {
     "name": "stdout",
     "output_type": "stream",
     "text": [
      "[(2, 1), (3, 2), (1, 3)]\n"
     ]
    }
   ],
   "source": [
    "tuples = [(1, 3), (2, 1), (3, 2)]\n",
    "sorted_list = sorted(tuples, key=lambda x: x[1])\n",
    "print(sorted_list)"
   ]
  },
  {
   "cell_type": "markdown",
   "id": "850c57ac-6d61-4bd3-9537-1f02e79cf934",
   "metadata": {},
   "source": [
    "### 9. Write a Python program that uses 'map()' to convert a list of temperatures from Celsius to Fahrenheit."
   ]
  },
  {
   "cell_type": "code",
   "execution_count": 121,
   "id": "a43e0870-96a8-4ef7-a698-8e87ba685845",
   "metadata": {},
   "outputs": [
    {
     "name": "stdout",
     "output_type": "stream",
     "text": [
      "[32.0, 77.0, 212.0]\n"
     ]
    }
   ],
   "source": [
    "def convert_c_to_f(c_list):\n",
    "    return list(map(lambda c: (c * 9/5) + 32, c_list))\n",
    "\n",
    "# Example:\n",
    "print(convert_c_to_f([0, 25, 100]))"
   ]
  },
  {
   "cell_type": "markdown",
   "id": "08d7fb1d-59b7-4726-89a1-c666947849a5",
   "metadata": {},
   "source": [
    "### 10. Create a Python program that uses 'filter()' to remove all the vowels from a given string."
   ]
  },
  {
   "cell_type": "code",
   "execution_count": 124,
   "id": "362cf324-b165-448d-ae64-9f0ae0755c37",
   "metadata": {},
   "outputs": [
    {
     "name": "stdout",
     "output_type": "stream",
     "text": [
      "Hll Wrld\n"
     ]
    }
   ],
   "source": [
    "def remove_vowels(s):\n",
    "    return ''.join(filter(lambda c: c.lower() not in 'aeiou', s))\n",
    "\n",
    "# Example:\n",
    "print(remove_vowels(\"Hello World\")) "
   ]
  },
  {
   "cell_type": "markdown",
   "id": "ffbf001a-9619-4c96-bc97-52be23b53e15",
   "metadata": {},
   "source": [
    "### 11. Imagine an accounting rountine used in a book shop. it words on a list with sublists, which look like this:\n",
    "\n",
    "Order Number     Book Title and Author             Quantity       Price per Item\n",
    "34587            Learning Python, Mark Lutz            4            40.95\n",
    "98762            Programming Python, Mark Lutz         5            56.80\n",
    "77226            Head First Python, Paul Barry         3            32.95\n",
    "88112            Einfuhrung in Python3, Bernd Klein    3            24.99\n",
    "\n",
    "Write a Python program, which returns a list with 2-tuples. Each tuple consists of the order number and the\n",
    "product of the price per item and the quantity. The product should be increased by 10,- if the value of the\n",
    "order is smaller than 100,00 \n",
    "\n",
    "Write a Python program using lambda and map."
   ]
  },
  {
   "cell_type": "code",
   "execution_count": 2,
   "id": "b0a801c9-c719-4c09-9fa9-71c6e208619b",
   "metadata": {},
   "outputs": [
    {
     "name": "stdout",
     "output_type": "stream",
     "text": [
      "Order 34587 - Total: $163.80\n",
      "Order 98762 - Total: $284.00\n",
      "Order 77226 - Total: $98.85\n",
      "Order 88112 - Total: $74.97\n",
      "\n",
      "Grand Total: $621.62\n"
     ]
    }
   ],
   "source": [
    "def process_orders(order_list):\n",
    "    invoice = []\n",
    "    grand_total = 0\n",
    "\n",
    "    for order in order_list:\n",
    "        order_number, book, quantity, price = order\n",
    "        total_cost = quantity * price\n",
    "        invoice.append((order_number, total_cost))\n",
    "        grand_total += total_cost\n",
    "\n",
    "    return invoice, grand_total\n",
    "\n",
    "# Example order list\n",
    "orders = [\n",
    "    [34587, \"Learning Python, Mark Lutz\", 4, 40.95],\n",
    "    [98762, \"Programming Python, Mark Lutz\", 5, 56.80],\n",
    "    [77226, \"Head First Python, Paul Barry\", 3, 32.95],\n",
    "    [88112, \"Einführung in Python3, Bernd Klein\", 3, 24.99]\n",
    "]\n",
    "\n",
    "# Run and display results\n",
    "invoice, total = process_orders(orders)\n",
    "for item in invoice:\n",
    "    print(f\"Order {item[0]} - Total: ${item[1]:.2f}\")\n",
    "print(f\"\\nGrand Total: ${total:.2f}\")"
   ]
  }
 ],
 "metadata": {
  "kernelspec": {
   "display_name": "Python [conda env:anaconda3] *",
   "language": "python",
   "name": "conda-env-anaconda3-py"
  },
  "language_info": {
   "codemirror_mode": {
    "name": "ipython",
    "version": 3
   },
   "file_extension": ".py",
   "mimetype": "text/x-python",
   "name": "python",
   "nbconvert_exporter": "python",
   "pygments_lexer": "ipython3",
   "version": "3.12.7"
  }
 },
 "nbformat": 4,
 "nbformat_minor": 5
}
