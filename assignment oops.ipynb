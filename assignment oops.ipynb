{
 "cells": [
  {
   "cell_type": "markdown",
   "id": "bb36b6bf-5790-49cc-a46e-4d87f6af8636",
   "metadata": {},
   "source": [
    "### 1. What is Object-Oriented Programming (OOP)?"
   ]
  },
  {
   "cell_type": "markdown",
   "id": "e880d38a-4550-4f36-97dc-22b640cb8a8d",
   "metadata": {},
   "source": [
    "##### OOP is a programming paradigm based on the concept of \"objects\", which contain data and methods. It allows for modular,reusable, and organized code.\n"
   ]
  },
  {
   "cell_type": "markdown",
   "id": "4f282cd3-cb39-4d32-8ddf-312240ba5f75",
   "metadata": {},
   "source": [
    "### 2. What is a class in OOP?"
   ]
  },
  {
   "cell_type": "markdown",
   "id": "0c7aee2a-18ce-4280-aa43-2faa84f306f5",
   "metadata": {},
   "source": [
    "##### A class is a blueprint for creating objects. It defines attributes and methods common to all objects of that type.\n"
   ]
  },
  {
   "cell_type": "markdown",
   "id": "7f6710e1-c45c-451c-8733-ce37d1dfeaeb",
   "metadata": {},
   "source": [
    "### 3. What is an object in OOP?\n"
   ]
  },
  {
   "cell_type": "markdown",
   "id": "a56855e1-c113-4193-86c9-e0b0b94a4b13",
   "metadata": {},
   "source": [
    "##### An object is an instance of a class. It represents a specific entity with state and behavior defined by its class.\n"
   ]
  },
  {
   "cell_type": "markdown",
   "id": "28d3cc2e-e5bd-4318-b1ed-940c7be74cda",
   "metadata": {},
   "source": [
    "### 4. What is the difference between abstraction and encapsulation?"
   ]
  },
  {
   "cell_type": "markdown",
   "id": "b2cf6cac-552e-4aaf-9848-7ff94b8f6eff",
   "metadata": {},
   "source": [
    "##### 1. Abstraction hides complexity by showing only essential features.\n",
    "\n",
    "##### 2. Encapsulation binds data and methods into a single unit and restricts direct access to some components"
   ]
  },
  {
   "cell_type": "markdown",
   "id": "7c117708-30fc-4f7c-9cbe-be01d0a96817",
   "metadata": {},
   "source": [
    "### 5. What are dunder methods in Python?"
   ]
  },
  {
   "cell_type": "markdown",
   "id": "14677e7f-78ac-4375-94c1-b8f96a227a05",
   "metadata": {},
   "source": [
    "##### Dunder (double underscore) methods like __init__, __str__, and __len__ are special methods with double underscores used to define behavior for built-in operations.\n",
    "\n"
   ]
  },
  {
   "cell_type": "markdown",
   "id": "9b8ed637-8617-47ca-9af7-e8875cf760e9",
   "metadata": {},
   "source": [
    "### 6. Explain the concept of inheritance in OOP.\n"
   ]
  },
  {
   "cell_type": "markdown",
   "id": "30c2a60f-156f-46dd-a1a0-c3c661eba06a",
   "metadata": {},
   "source": [
    "##### Inheritance allows a class to inherit properties and methods from another class, promoting code reuse.\n"
   ]
  },
  {
   "cell_type": "markdown",
   "id": "61040d67-0c6b-4d75-9b85-4ca994040cca",
   "metadata": {},
   "source": [
    "### 7. What is polymorphism in OOP?"
   ]
  },
  {
   "cell_type": "markdown",
   "id": "ff5ade6c-8378-4517-b3b7-3dedb191849f",
   "metadata": {},
   "source": [
    "##### Polymorphism allows different classes to be treated as instances of the same class through a common interface, typically by method overriding or overloading.\n"
   ]
  },
  {
   "cell_type": "markdown",
   "id": "931f8800-93dc-446f-960a-3cdb55af1bdb",
   "metadata": {},
   "source": [
    "### 8. How is encapsulation achieved in Python?\n"
   ]
  },
  {
   "cell_type": "markdown",
   "id": "9a890b0a-b63b-4347-97e6-91e74629e0d6",
   "metadata": {},
   "source": [
    "##### By using private variables (_var or __var) and getter/setter methods to control access.\n",
    "\n"
   ]
  },
  {
   "cell_type": "markdown",
   "id": "9fe2e4da-2feb-4dd6-a84f-eb2b77899302",
   "metadata": {},
   "source": [
    "### 9. What is a constructor in Python?"
   ]
  },
  {
   "cell_type": "markdown",
   "id": "db3aff96-2143-4dde-be51-34ac5c9302eb",
   "metadata": {},
   "source": [
    "##### A constructor is a special method __init__() called when an object is created to initialize the object's attributes."
   ]
  },
  {
   "cell_type": "markdown",
   "id": "90b10198-fe9e-4581-beff-6ac2dbf527ea",
   "metadata": {},
   "source": [
    "### 10. What are class and static methods in Python?"
   ]
  },
  {
   "cell_type": "markdown",
   "id": "f0b5829f-bfbd-4747-bf6d-bf0401b41992",
   "metadata": {},
   "source": [
    "##### Class methods use @classmethod and receive the class as the first argument.\n",
    "\n",
    "##### Static methods use @staticmethod and do not access class or instance-specific data.\n",
    "\n"
   ]
  },
  {
   "cell_type": "markdown",
   "id": "c42345e1-05c7-44ec-8f64-6d110901cede",
   "metadata": {},
   "source": [
    "### 11. What is method overloading in Python?\n"
   ]
  },
  {
   "cell_type": "markdown",
   "id": "0b94d637-edcd-4a15-a17f-92a7f0451533",
   "metadata": {},
   "source": [
    "##### Python doesn't support method overloading directly, but it can be simulated using default arguments or variable-length arguments."
   ]
  },
  {
   "cell_type": "markdown",
   "id": "6978e531-ed64-4086-9516-ad354bca5abd",
   "metadata": {},
   "source": [
    "### 12. What is method overriding in OOP?"
   ]
  },
  {
   "cell_type": "markdown",
   "id": "3f66714a-d10b-43e9-b927-9adc7557d5ae",
   "metadata": {},
   "source": [
    "##### Method overriding occurs when a subclass provides a specific implementation of a method already defined in its superclass."
   ]
  },
  {
   "cell_type": "markdown",
   "id": "69584d1e-60b8-4f9c-a996-f82dc974dbbf",
   "metadata": {},
   "source": [
    "### 13. What is a property decorator in Python?\n"
   ]
  },
  {
   "cell_type": "markdown",
   "id": "56e586ee-5921-4f1a-b517-c3ebe59ebf3a",
   "metadata": {},
   "source": [
    "##### The @property decorator allows a method to be accessed like an attribute, often used for getter/setter functionality.\n",
    "\n"
   ]
  },
  {
   "cell_type": "markdown",
   "id": "1ad43a83-b8d4-43de-b54c-ee0fc319db8a",
   "metadata": {},
   "source": [
    "### 14. Why is polymorphism important in OOP?\n"
   ]
  },
  {
   "cell_type": "markdown",
   "id": "a63a3f9e-3be4-4a8e-8457-21c6877d11e1",
   "metadata": {},
   "source": [
    "##### It enables flexibility and integration, allowing code to handle objects of different types through a unified interface.\n",
    "\n"
   ]
  },
  {
   "cell_type": "markdown",
   "id": "9aaec2e5-e98c-42a1-986e-34becbbbc604",
   "metadata": {},
   "source": [
    "### 15. What is an abstract class in Python?"
   ]
  },
  {
   "cell_type": "markdown",
   "id": "18974fb1-a9e3-4b2d-8041-0c01edb9a899",
   "metadata": {},
   "source": [
    "##### An abstract class (from abc module) cannot be instantiated and may have abstract methods that must be implemented in subclasses.\n",
    "\n"
   ]
  },
  {
   "cell_type": "markdown",
   "id": "5e1735da-5ace-4bec-bd31-5cdec92de976",
   "metadata": {},
   "source": [
    "### 16. What are the advantages of OOP?"
   ]
  },
  {
   "cell_type": "markdown",
   "id": "50c2adea-1608-44a4-982d-d6570e2adf1d",
   "metadata": {},
   "source": [
    "##### 1. Modularity\n",
    "\n",
    "##### 2. Code reusability\n",
    "\n",
    "##### 3. Scalability\n",
    "\n",
    "##### 4. Easier troubleshooting and debugging\n",
    "\n",
    "##### 5. Data hiding and abstraction\n",
    "\n",
    "\n"
   ]
  },
  {
   "cell_type": "markdown",
   "id": "b493820f-f26f-4c51-a301-e52ea6eebdc2",
   "metadata": {},
   "source": [
    "### 17. What is the difference between a class variable and an instance variable?\n"
   ]
  },
  {
   "cell_type": "markdown",
   "id": "425af91a-cef8-4904-aa06-1b6ccc5beab7",
   "metadata": {},
   "source": [
    "##### Class variable: Shared across all instances of a class.\n",
    "##### Instance variable: Unique to each instance."
   ]
  },
  {
   "cell_type": "markdown",
   "id": "01aed146-bc8c-47ee-9dc1-e1329da4131f",
   "metadata": {},
   "source": [
    "### 18. What is multiple inheritance in Python?"
   ]
  },
  {
   "cell_type": "markdown",
   "id": "29151e1c-6ed0-4d79-a4e5-af9c5d3a1706",
   "metadata": {},
   "source": [
    "##### Multiple inheritance allows a class to inherit from more than one parent class."
   ]
  },
  {
   "cell_type": "markdown",
   "id": "8545dbdd-b408-4b29-a4ef-1d2bc1f73da6",
   "metadata": {},
   "source": [
    "### 19. Explain the purpose of __str__ and __repr__ methods in Python."
   ]
  },
  {
   "cell_type": "markdown",
   "id": "5777ce3c-df76-432f-aa3b-0d17c563a6a9",
   "metadata": {},
   "source": [
    "##### __str__: Returns a user-friendly string representation.\n",
    "##### __repr__: Returns an unambiguous string representation for debugging."
   ]
  },
  {
   "cell_type": "markdown",
   "id": "1b091f13-03a5-41a1-b545-edc0458a9530",
   "metadata": {},
   "source": [
    "### 20. What is the significance of the super() function in Python?"
   ]
  },
  {
   "cell_type": "markdown",
   "id": "67495e4f-ed17-4077-af0e-0ef334b4cd5a",
   "metadata": {},
   "source": [
    "##### super() is used to call methods from the parent class, especially useful in method overriding and multiple inheritance."
   ]
  },
  {
   "cell_type": "markdown",
   "id": "0eb84e08-e9de-417c-a835-61d3f0125e3d",
   "metadata": {},
   "source": [
    "### 21. What is the significance of the __del__ method in Python?"
   ]
  },
  {
   "cell_type": "markdown",
   "id": "5e65dfbd-7bce-40ff-a647-272b54e2dac0",
   "metadata": {},
   "source": [
    "##### __del__ is a destructor method that is called when an object is about to be destroyed to perform cleanup.\n"
   ]
  },
  {
   "cell_type": "markdown",
   "id": "f4ece395-aa84-4001-8ade-46dc3f75f7f3",
   "metadata": {},
   "source": [
    "### 22. What is the difference between @staticmethod and @classmethod in Python?"
   ]
  },
  {
   "cell_type": "markdown",
   "id": "18c595fd-db27-40be-8387-9fc9ace13f2d",
   "metadata": {},
   "source": [
    "##### @staticmethod: Does not take self or cls, behaves like a regular function inside a class.\n",
    "##### @classmethod: Takes cls as its first argument and can modify class state.\n",
    "\n"
   ]
  },
  {
   "cell_type": "markdown",
   "id": "d6c154bb-d3a5-4682-ac6a-bb7d54a7ffe6",
   "metadata": {},
   "source": [
    "### 23. How does polymorphism work in Python with inheritance?"
   ]
  },
  {
   "cell_type": "markdown",
   "id": "db531202-bf23-46c6-9438-35b8054b32eb",
   "metadata": {},
   "source": [
    "##### Polymorphism allows methods in different classes to have the same name but behave differently. With inheritance, a child class can override a parent method, and the correct method is called depending on the object type."
   ]
  },
  {
   "cell_type": "code",
   "execution_count": null,
   "id": "9d262622-dd63-43ba-bddf-bd52892d1455",
   "metadata": {},
   "outputs": [],
   "source": []
  },
  {
   "cell_type": "markdown",
   "id": "d87655fc-6c5d-480a-8feb-f2a10d5b8c5b",
   "metadata": {},
   "source": [
    "### 1. Create a parent class Animal with a method speak() that prints a teneric message. Create a child class Dog that overrides the speak() method to print \"Bark!\"."
   ]
  },
  {
   "cell_type": "code",
   "execution_count": 13,
   "id": "998f7cb4-4578-4086-8c43-3d3457702661",
   "metadata": {},
   "outputs": [
    {
     "name": "stdout",
     "output_type": "stream",
     "text": [
      "Bark!\n"
     ]
    }
   ],
   "source": [
    "class Animal:\n",
    "    def speak(self):\n",
    "        print(\"Animal speaks\")\n",
    "\n",
    "class Dog(Animal):\n",
    "    def speak(self):\n",
    "        print(\"Bark!\")\n",
    "\n",
    "d = Dog()\n",
    "d.speak()\n"
   ]
  },
  {
   "cell_type": "markdown",
   "id": "e268dc9a-ce91-4d38-ab2d-e1600e51bacd",
   "metadata": {},
   "source": [
    "### 2. Write a program to create an abstract class shape with a method area(). Derive classes Circle and Rectangle from it and implement the area() method in both."
   ]
  },
  {
   "cell_type": "code",
   "execution_count": 4,
   "id": "ca1c3349-c12e-4223-a99f-fbac0869418e",
   "metadata": {},
   "outputs": [],
   "source": [
    "from abc import ABC, abstractmethod\n",
    "\n",
    "class Shape(ABC):\n",
    "    @abstractmethod\n",
    "    def area(self):\n",
    "        pass\n",
    "\n",
    "class Circle(Shape):\n",
    "    def __init__(self, radius):\n",
    "        self.radius = radius\n",
    "\n",
    "    def area(self):\n",
    "        return 3.14 * self.radius ** 2\n",
    "\n",
    "class Rectangle(Shape):\n",
    "    def __init__(self, length, width):\n",
    "        self.length = length\n",
    "        self.width = width\n",
    "\n",
    "    def area(self):\n",
    "        return self.length * self.width"
   ]
  },
  {
   "cell_type": "code",
   "execution_count": 8,
   "id": "fa3efcfe-8545-4a45-b4bf-5ca54cbe84f1",
   "metadata": {},
   "outputs": [
    {
     "data": {
      "text/plain": [
       "78.5"
      ]
     },
     "execution_count": 8,
     "metadata": {},
     "output_type": "execute_result"
    }
   ],
   "source": [
    "Circle(5).area()"
   ]
  },
  {
   "cell_type": "code",
   "execution_count": 10,
   "id": "f4d7e12f-8854-4886-ae6d-8cb630d141ec",
   "metadata": {},
   "outputs": [
    {
     "data": {
      "text/plain": [
       "24"
      ]
     },
     "execution_count": 10,
     "metadata": {},
     "output_type": "execute_result"
    }
   ],
   "source": [
    "Rectangle(4, 6).area()"
   ]
  },
  {
   "cell_type": "markdown",
   "id": "bf939217-b59e-4651-8320-6939e721afba",
   "metadata": {},
   "source": [
    "### 3. Implement a multi-level inheritance scenario where a class Vehicle has an attribute type. Derive a class Car and further derice a class ElecricCar that adds a battery attribute."
   ]
  },
  {
   "cell_type": "code",
   "execution_count": 13,
   "id": "e80241cd-824e-4419-9bb9-e82b800b8885",
   "metadata": {},
   "outputs": [],
   "source": [
    "class Vehicle:\n",
    "    def __init__(self, vehicle_type):\n",
    "        self.type = vehicle_type\n",
    "\n",
    "class Car(Vehicle):\n",
    "    def __init__(self, vehicle_type, brand):\n",
    "        super().__init__(vehicle_type)\n",
    "        self.brand = brand\n",
    "\n",
    "class ElectricCar(Car):\n",
    "    def __init__(self, vehicle_type, brand, battery):\n",
    "        super().__init__(vehicle_type, brand)\n",
    "        self.battery = battery"
   ]
  },
  {
   "cell_type": "code",
   "execution_count": 19,
   "id": "c98da014-3afd-4ad7-8043-f9c63ff5bdef",
   "metadata": {},
   "outputs": [
    {
     "name": "stdout",
     "output_type": "stream",
     "text": [
      "Sedan\n",
      "Tesla\n",
      "100 kWh\n"
     ]
    }
   ],
   "source": [
    "ecar = ElectricCar(\"Sedan\", \"Tesla\", \"100 kWh\")\n",
    "\n",
    "print(ecar.type)     \n",
    "print(ecar.brand)     \n",
    "print(ecar.battery)   "
   ]
  },
  {
   "cell_type": "markdown",
   "id": "b397e7e4-131e-4f54-8ec0-1b3ea6c1c35b",
   "metadata": {},
   "source": [
    "### 4. Demonstrate polymorphism by creating a base class Bird with a method fly(). Create two derived classes Sparrow and Penguin that override the fly() method."
   ]
  },
  {
   "cell_type": "code",
   "execution_count": 33,
   "id": "c6b8c5d5-20cd-49b8-af5c-07765c4a7d2c",
   "metadata": {},
   "outputs": [],
   "source": [
    "class Bird:\n",
    "    def fly(self):\n",
    "        print(\"Bird can fly\")\n",
    "\n",
    "class Sparrow(Bird):\n",
    "    def fly(self):\n",
    "        print(\"Sparrow flies high\")\n",
    "\n",
    "class Penguin(Bird):\n",
    "    def fly(self):\n",
    "        print(\"Penguin cannot fly\")"
   ]
  },
  {
   "cell_type": "code",
   "execution_count": 37,
   "id": "55477ff2-0981-4cb6-8ddc-d3fc0eee9545",
   "metadata": {},
   "outputs": [
    {
     "name": "stdout",
     "output_type": "stream",
     "text": [
      "Bird can fly\n",
      "Sparrow flies high\n",
      "Penguin cannot fly\n"
     ]
    }
   ],
   "source": [
    "bird = Bird()\n",
    "bird.fly()       \n",
    "\n",
    "sparrow = Sparrow()\n",
    "sparrow.fly()    \n",
    "\n",
    "penguin = Penguin()\n",
    "penguin.fly()   "
   ]
  },
  {
   "cell_type": "markdown",
   "id": "302c0f37-661a-43ff-8435-59d459965979",
   "metadata": {},
   "source": [
    "### 5. Write a program to demonstrate encapsulation by ceating a class BankAccount with private attributes balance and methods to deposit, withdraw, and check balance."
   ]
  },
  {
   "cell_type": "code",
   "execution_count": 22,
   "id": "f7b861ba-8b24-4b7d-924a-37f20ceefb38",
   "metadata": {},
   "outputs": [],
   "source": [
    "class BankAccount:\n",
    "    def __init__(self, balance):\n",
    "        self.__balance = balance\n",
    "\n",
    "    def deposit(self, amount):\n",
    "        self.__balance += amount\n",
    "\n",
    "    def withdraw(self, amount):\n",
    "        if amount <= self.__balance:\n",
    "            self.__balance -= amount\n",
    "\n",
    "    def check_balance(self):\n",
    "        return self.__balance"
   ]
  },
  {
   "cell_type": "code",
   "execution_count": 30,
   "id": "69642063-d694-4d0c-8af2-657001310bce",
   "metadata": {},
   "outputs": [
    {
     "name": "stdout",
     "output_type": "stream",
     "text": [
      "120\n"
     ]
    }
   ],
   "source": [
    "account = BankAccount(100)\n",
    "account.deposit(50)         # True\n",
    "account.withdraw(30)        # True\n",
    "account.withdraw(150)       # False (Insufficient funds)\n",
    "print(account.check_balance())  # 120"
   ]
  },
  {
   "cell_type": "markdown",
   "id": "7708b37f-739d-4fc5-9a00-44cccc1d2f6d",
   "metadata": {},
   "source": [
    "### 6. Demonstrate runtime polymorphism using a method play() in a base class Instrument. Derive classes Guitar and Piano that implement their own version of play()."
   ]
  },
  {
   "cell_type": "code",
   "execution_count": 40,
   "id": "00183c55-db57-4261-a812-6deaa513905a",
   "metadata": {},
   "outputs": [],
   "source": [
    "class Instrument:\n",
    "    def play(self):\n",
    "        print(\"Playing instrument\")\n",
    "\n",
    "class Guitar(Instrument):\n",
    "    def play(self):\n",
    "        print(\"Strumming guitar\")\n",
    "\n",
    "class Piano(Instrument):\n",
    "    def play(self):\n",
    "        print(\"Playing piano\")"
   ]
  },
  {
   "cell_type": "code",
   "execution_count": 42,
   "id": "9dd7ef2b-1881-4a56-8dbd-586db8270c4d",
   "metadata": {},
   "outputs": [
    {
     "name": "stdout",
     "output_type": "stream",
     "text": [
      "Strumming guitar\n",
      "Playing piano\n"
     ]
    }
   ],
   "source": [
    "instruments = [Guitar(), Piano()]\n",
    "\n",
    "for instrument in instruments:\n",
    "    instrument.play()"
   ]
  },
  {
   "cell_type": "markdown",
   "id": "e0733a9b-8290-4d80-a618-ba19a3d5ebb9",
   "metadata": {},
   "source": [
    "### 7. Create a class MathOperations with a class method add_numbers() to add two numbers and a static method subtract_numbers() to subtract two numbers."
   ]
  },
  {
   "cell_type": "code",
   "execution_count": 45,
   "id": "93ef5b8b-aeae-4234-8420-b82bd9d2754e",
   "metadata": {},
   "outputs": [],
   "source": [
    "class MathOperations:\n",
    "    @classmethod\n",
    "    def add_numbers(cls, a, b):\n",
    "        return a + b\n",
    "\n",
    "    @staticmethod\n",
    "    def subtract_numbers(a, b):\n",
    "        return a - b"
   ]
  },
  {
   "cell_type": "code",
   "execution_count": 47,
   "id": "1babe0c1-f889-4f9d-ba5a-d3cb0e67e1e3",
   "metadata": {},
   "outputs": [
    {
     "name": "stdout",
     "output_type": "stream",
     "text": [
      "8\n",
      "2\n"
     ]
    }
   ],
   "source": [
    "print(MathOperations.add_numbers(5, 3))      \n",
    "print(MathOperations.subtract_numbers(5, 3))"
   ]
  },
  {
   "cell_type": "markdown",
   "id": "6f853b34-d14f-44c7-adb5-99f448e78f2d",
   "metadata": {},
   "source": [
    "### 8. Implement a class Person with a class method to count the total number of persons created."
   ]
  },
  {
   "cell_type": "code",
   "execution_count": 50,
   "id": "b3bcbfa1-afd0-4284-84eb-72b0f10acad9",
   "metadata": {},
   "outputs": [],
   "source": [
    "class Person:\n",
    "    count = 0\n",
    "\n",
    "    def __init__(self):\n",
    "        Person.count += 1\n",
    "\n",
    "    @classmethod\n",
    "    def total_persons(cls):\n",
    "        return cls.count"
   ]
  },
  {
   "cell_type": "code",
   "execution_count": 54,
   "id": "b53a8b04-73d4-439d-b49f-acfd2ded93e0",
   "metadata": {},
   "outputs": [
    {
     "name": "stdout",
     "output_type": "stream",
     "text": [
      "3\n"
     ]
    }
   ],
   "source": [
    "p1 = Person()\n",
    "p2 = Person()\n",
    "p3 = Person()\n",
    "\n",
    "print(Person.total_persons())"
   ]
  },
  {
   "cell_type": "markdown",
   "id": "426b003e-d5f9-41f9-9e34-afc47330be9f",
   "metadata": {},
   "source": [
    "### 9. Write a class Fraction with attributes numerator and denominator. Override the str method to display the fraction as \"numerator/denominator\"."
   ]
  },
  {
   "cell_type": "code",
   "execution_count": 57,
   "id": "0e380226-f92f-430b-9277-8594b24cf513",
   "metadata": {},
   "outputs": [],
   "source": [
    "class Fraction:\n",
    "    def __init__(self, numerator, denominator):\n",
    "        self.numerator = numerator\n",
    "        self.denominator = denominator\n",
    "\n",
    "    def __str__(self):\n",
    "        return f\"{self.numerator}/{self.denominator}\""
   ]
  },
  {
   "cell_type": "code",
   "execution_count": 65,
   "id": "da2b261b-6c83-4862-93be-e1d6c9cb992a",
   "metadata": {},
   "outputs": [
    {
     "name": "stdout",
     "output_type": "stream",
     "text": [
      "8/12\n"
     ]
    }
   ],
   "source": [
    "f = Fraction(8, 12)\n",
    "print(f)           "
   ]
  },
  {
   "cell_type": "markdown",
   "id": "58ea4341-4dec-46a2-9e57-488db529f338",
   "metadata": {},
   "source": [
    "### 10. Demonstrate operator overloading by creating a class Vector and overriding the add method to add two vectors."
   ]
  },
  {
   "cell_type": "code",
   "execution_count": 72,
   "id": "059fdd47-e16d-40b0-b8ec-a52b4a11f243",
   "metadata": {},
   "outputs": [],
   "source": [
    "class Vector:\n",
    "    def __init__(self, x, y):\n",
    "        self.x = x\n",
    "        self.y = y\n",
    "\n",
    "    def __add__(self, other):\n",
    "        return Vector(self.x + other.x, self.y + other.y)\n",
    "\n",
    "    def __str__(self):\n",
    "        return f\"({self.x}, {self.y})\""
   ]
  },
  {
   "cell_type": "code",
   "execution_count": 82,
   "id": "359c37aa-44f9-48c7-8ef6-4a285b6a9aec",
   "metadata": {},
   "outputs": [
    {
     "name": "stdout",
     "output_type": "stream",
     "text": [
      "(3, 7)\n"
     ]
    }
   ],
   "source": [
    "v1 = Vector(2, 3)\n",
    "v2 = Vector(1, 4)\n",
    "v3 = v1 + v2\n",
    "\n",
    "print(v3)"
   ]
  },
  {
   "cell_type": "markdown",
   "id": "68644d1d-8ed9-4139-9dec-12db80e6731e",
   "metadata": {},
   "source": [
    "### 11. Create a class Person with attributes name and age. Add a method greet() that prints \"Hello, my name is {name} and i am {age} years old.\n"
   ]
  },
  {
   "cell_type": "code",
   "execution_count": 87,
   "id": "8a8aa2bf-b9bf-4479-9c82-fb8b5b08796f",
   "metadata": {},
   "outputs": [],
   "source": [
    "class Person:\n",
    "    def __init__(self, name, age):\n",
    "        self.name = name\n",
    "        self.age = age\n",
    "\n",
    "    def greet(self):\n",
    "        print(f\"Hello, my name is {self.name} and I am {self.age} years old.\")"
   ]
  },
  {
   "cell_type": "code",
   "execution_count": 91,
   "id": "ca73ee22-65d3-4027-b4da-7e2cac40def2",
   "metadata": {},
   "outputs": [
    {
     "name": "stdout",
     "output_type": "stream",
     "text": [
      "Hello, my name is sakshi and I am 19 years old.\n"
     ]
    }
   ],
   "source": [
    "p = Person(\"sakshi\", 19)\n",
    "p.greet()"
   ]
  },
  {
   "cell_type": "markdown",
   "id": "fc17dab1-de36-4dfb-abea-81c4a08b8e0d",
   "metadata": {},
   "source": [
    "### 12. Implemnet a class Student with attributes name and grades. Create a method average_grade() to compute the average of the grades."
   ]
  },
  {
   "cell_type": "code",
   "execution_count": 94,
   "id": "478b14a9-2d6d-4deb-bcdb-04b263dd3846",
   "metadata": {},
   "outputs": [],
   "source": [
    "class Student:\n",
    "    def __init__(self, name, grades):\n",
    "        self.name = name\n",
    "        self.grades = grades\n",
    "\n",
    "    def average_grade(self):\n",
    "        return sum(self.grades) / len(self.grades)"
   ]
  },
  {
   "cell_type": "code",
   "execution_count": 98,
   "id": "f07a5282-0921-4dbb-8899-d1da472d7191",
   "metadata": {},
   "outputs": [
    {
     "name": "stdout",
     "output_type": "stream",
     "text": [
      "Sudha\n",
      "84.33333333333333\n"
     ]
    }
   ],
   "source": [
    "s = Student(\"Sudha\", [85, 90, 78])\n",
    "print(s.name)               \n",
    "print(s.average_grade())"
   ]
  },
  {
   "cell_type": "markdown",
   "id": "5683ba4d-bbb6-4fcd-adcd-386b248d3b11",
   "metadata": {},
   "source": [
    "### 13. Create a class Rectangle with methods set_dimensions() to set the dimensions and area() to calculate the area."
   ]
  },
  {
   "cell_type": "code",
   "execution_count": 101,
   "id": "01b270f1-5208-4d7c-abb9-8f14dec45f84",
   "metadata": {},
   "outputs": [],
   "source": [
    "class Rectangle:\n",
    "    def set_dimensions(self, length, width):\n",
    "        self.length = length\n",
    "        self.width = width\n",
    "\n",
    "    def area(self):\n",
    "        return self.length * self.width"
   ]
  },
  {
   "cell_type": "code",
   "execution_count": 103,
   "id": "1cc597a9-8d1c-442a-a148-9b412e92cd0e",
   "metadata": {},
   "outputs": [
    {
     "name": "stdout",
     "output_type": "stream",
     "text": [
      "15\n"
     ]
    }
   ],
   "source": [
    "r = Rectangle()\n",
    "r.set_dimensions(5, 3)\n",
    "print(r.area()) "
   ]
  },
  {
   "cell_type": "markdown",
   "id": "b34ea1b7-59ae-4b9c-80f0-974b79e876e5",
   "metadata": {},
   "source": [
    "### 14. Create a class Employee with a method calculate_salary() that computes the salary based on hours worked and hourly rate. Create a derived class Manager that adds a bonus to the salary."
   ]
  },
  {
   "cell_type": "code",
   "execution_count": 106,
   "id": "ce0b1324-84b0-4c9e-9940-a9a45922bbc2",
   "metadata": {},
   "outputs": [],
   "source": [
    "class Employee:\n",
    "    def calculate_salary(self, hours, rate):\n",
    "        return hours * rate\n",
    "\n",
    "class Manager(Employee):\n",
    "    def calculate_salary(self, hours, rate, bonus):\n",
    "        return super().calculate_salary(hours, rate) + bonus"
   ]
  },
  {
   "cell_type": "code",
   "execution_count": 110,
   "id": "c410b097-3db9-4934-9abe-84fb4ddb5940",
   "metadata": {},
   "outputs": [
    {
     "name": "stdout",
     "output_type": "stream",
     "text": [
      "800\n",
      "1000\n"
     ]
    }
   ],
   "source": [
    "e = Employee()\n",
    "print(e.calculate_salary(40, 20))  \n",
    "\n",
    "m = Manager()\n",
    "print(m.calculate_salary(40, 20, 200))"
   ]
  },
  {
   "cell_type": "markdown",
   "id": "a6df87d6-2f40-472c-91aa-3e038cd5f844",
   "metadata": {},
   "source": [
    "### 15. Create a class Product with attributes name, price, and quantity. Implement a method total_price() that calculates the total price of the product."
   ]
  },
  {
   "cell_type": "code",
   "execution_count": 113,
   "id": "af69e661-83c3-4fb4-8c5d-32f7886aa9b1",
   "metadata": {},
   "outputs": [],
   "source": [
    "class Product:\n",
    "    def __init__(self, name, price, quantity):\n",
    "        self.name = name\n",
    "        self.price = price\n",
    "        self.quantity = quantity\n",
    "\n",
    "    def total_price(self):\n",
    "        return self.price * self.quantity"
   ]
  },
  {
   "cell_type": "code",
   "execution_count": 115,
   "id": "e2943fbb-aff5-4074-b1ca-7be12372416b",
   "metadata": {
    "jupyter": {
     "source_hidden": true
    }
   },
   "outputs": [
    {
     "name": "stdout",
     "output_type": "stream",
     "text": [
      "2000\n"
     ]
    }
   ],
   "source": [
    "p = Product(\"Laptop\", 1000, 2)\n",
    "print(p.total_price())"
   ]
  },
  {
   "cell_type": "markdown",
   "id": "4c9ecb3d-411b-4b9b-a9bd-d141b7575e4c",
   "metadata": {},
   "source": [
    "### 16. Create a clas Animal with an abstract method sound(). Create two derived classes Cow and Sheep that implement the sound() method."
   ]
  },
  {
   "cell_type": "code",
   "execution_count": 118,
   "id": "0e657236-d006-42a5-ad4c-1a7304b85f8f",
   "metadata": {},
   "outputs": [],
   "source": [
    "from abc import ABC, abstractmethod\n",
    "\n",
    "class Animal(ABC):\n",
    "    @abstractmethod\n",
    "    def sound(self):\n",
    "        pass\n",
    "\n",
    "class Cow(Animal):\n",
    "    def sound(self):\n",
    "        return \"Moo\"\n",
    "\n",
    "class Sheep(Animal):\n",
    "    def sound(self):\n",
    "        return \"Baa\""
   ]
  },
  {
   "cell_type": "code",
   "execution_count": 122,
   "id": "ba1a12d1-a1dd-439c-ada2-cb2d546a4ecf",
   "metadata": {},
   "outputs": [
    {
     "name": "stdout",
     "output_type": "stream",
     "text": [
      "Moo\n",
      "Baa\n"
     ]
    }
   ],
   "source": [
    "cow = Cow()\n",
    "print(cow.sound())   \n",
    "\n",
    "sheep = Sheep()\n",
    "print(sheep.sound())"
   ]
  },
  {
   "cell_type": "markdown",
   "id": "0c38b59c-f7e8-4b4e-a93a-ab6e2e1b2154",
   "metadata": {},
   "source": [
    "### 17. Create a class Book with attributes title, author and year_published. Add a method get_book_info() that returns a formatted string with the book's details."
   ]
  },
  {
   "cell_type": "code",
   "execution_count": 125,
   "id": "29f467e4-a7f7-4388-be21-c0d3f931c902",
   "metadata": {},
   "outputs": [],
   "source": [
    "class Book:\n",
    "    def __init__(self, title, author, year_published):\n",
    "        self.title = title\n",
    "        self.author = author\n",
    "        self.year = year_published\n",
    "\n",
    "    def get_book_info(self):\n",
    "        return f\"{self.title} by {self.author} ({self.year})\""
   ]
  },
  {
   "cell_type": "code",
   "execution_count": 127,
   "id": "04bc3b71-0641-45f0-9c9b-b1457227db14",
   "metadata": {},
   "outputs": [
    {
     "name": "stdout",
     "output_type": "stream",
     "text": [
      "1984 by George Orwell (1949)\n"
     ]
    }
   ],
   "source": [
    "b = Book(\"1984\", \"George Orwell\", 1949)\n",
    "print(b.get_book_info())"
   ]
  },
  {
   "cell_type": "markdown",
   "id": "7d39e3df-4aa5-401d-9f1e-b01e81a615e0",
   "metadata": {},
   "source": [
    "### 18. create a class Hounse with attributes address and price. Create a derived class Mansion that adds an attribute number_of_rooms."
   ]
  },
  {
   "cell_type": "code",
   "execution_count": 130,
   "id": "28712d97-5a08-426f-adbf-761dff8929e8",
   "metadata": {},
   "outputs": [],
   "source": [
    "class House:\n",
    "    def __init__(self, address, price):\n",
    "        self.address = address\n",
    "        self.price = price\n",
    "\n",
    "class Mansion(House):\n",
    "    def __init__(self, address, price, number_of_rooms):\n",
    "        super().__init__(address, price)\n",
    "        self.number_of_rooms = number_of_rooms"
   ]
  },
  {
   "cell_type": "code",
   "execution_count": 134,
   "id": "e1a2df91-975f-4da5-803d-41da3953b36c",
   "metadata": {},
   "outputs": [
    {
     "name": "stdout",
     "output_type": "stream",
     "text": [
      "123 Rich St\n",
      "5000000\n",
      "12\n"
     ]
    }
   ],
   "source": [
    "m = Mansion(\"123 Rich St\", 5000000, 12)\n",
    "print(m.address)            \n",
    "print(m.price)              \n",
    "print(m.number_of_rooms)"
   ]
  },
  {
   "cell_type": "code",
   "execution_count": null,
   "id": "0a5b9ab7-6905-46ec-a9a1-aa7f539bb013",
   "metadata": {},
   "outputs": [],
   "source": []
  },
  {
   "cell_type": "code",
   "execution_count": null,
   "id": "9b5fbd92-b6e5-4f36-b273-4b7c8d96dd7d",
   "metadata": {},
   "outputs": [],
   "source": []
  },
  {
   "cell_type": "code",
   "execution_count": null,
   "id": "cd51286e-8888-407f-994f-ca5a3f9df6d3",
   "metadata": {},
   "outputs": [],
   "source": []
  },
  {
   "cell_type": "code",
   "execution_count": null,
   "id": "af323ed0-ef06-4f26-bde6-b88e7d299a5f",
   "metadata": {},
   "outputs": [],
   "source": []
  }
 ],
 "metadata": {
  "kernelspec": {
   "display_name": "Python [conda env:base] *",
   "language": "python",
   "name": "conda-base-py"
  },
  "language_info": {
   "codemirror_mode": {
    "name": "ipython",
    "version": 3
   },
   "file_extension": ".py",
   "mimetype": "text/x-python",
   "name": "python",
   "nbconvert_exporter": "python",
   "pygments_lexer": "ipython3",
   "version": "3.12.7"
  }
 },
 "nbformat": 4,
 "nbformat_minor": 5
}
